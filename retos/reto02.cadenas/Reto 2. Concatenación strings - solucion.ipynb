{
 "cells": [
  {
   "cell_type": "markdown",
   "metadata": {},
   "source": [
    "# Reto 2. Rendimiento en la concatenación de strings\n",
    "## Solución"
   ]
  },
  {
   "cell_type": "markdown",
   "metadata": {},
   "source": [
    "### Ejercicio 1. Ley de los grandes números\n",
    "\n",
    "Demostrad que la probabilidad de tirar un dado y que salga un 1 es 1/6, es decir, 0.16.\n",
    "\n",
    "El código para generar un número aleatorio entre dos números [n, m] es:\n",
    "```python\n",
    "import random\n",
    "random.randint(n, m)\n",
    "```\n",
    "\n",
    "#### Indicad la probabilidad de obtener un 1 tirando un dado...\n",
    "...1, 10, 100, 1.000, 10.000, 100.000 veces."
   ]
  },
  {
   "cell_type": "markdown",
   "metadata": {},
   "source": [
    "#### Solución"
   ]
  },
  {
   "cell_type": "code",
   "execution_count": 13,
   "metadata": {},
   "outputs": [
    {
     "name": "stdout",
     "output_type": "stream",
     "text": [
      "1: 0.0\n",
      "10: 0.3\n",
      "100: 0.15\n",
      "1000: 0.175\n",
      "10000: 0.1692\n",
      "100000: 0.16506\n",
      "1000000: 0.166601\n"
     ]
    }
   ],
   "source": [
    "import random\n",
    "\n",
    "NUMERO = 1\n",
    "\n",
    "ITERACIONES_MAX = 1_000_000\n",
    "iteraciones = 1\n",
    "while iteraciones <= ITERACIONES_MAX:\n",
    "    veces = 0\n",
    "    contador = 0\n",
    "    while contador < iteraciones:\n",
    "        if random.randint(1, 6) == NUMERO:\n",
    "              veces += 1\n",
    "        contador += 1\n",
    "\n",
    "    print(f\"{iteraciones}: {veces/iteraciones}\")\n",
    "    iteraciones *= 10"
   ]
  },
  {
   "cell_type": "markdown",
   "metadata": {},
   "source": [
    "#### Demostrad que el valor medio de un conjunto de valores aleatorios del 1 al 10 converge en 5\n",
    "¿Cuántos números aleatorios hay que generar para que sea así (múltiplos de 10)?"
   ]
  },
  {
   "cell_type": "code",
   "execution_count": 14,
   "metadata": {},
   "outputs": [
    {
     "name": "stdout",
     "output_type": "stream",
     "text": [
      "4.99775\n"
     ]
    }
   ],
   "source": [
    "import random\n",
    "\n",
    "ITERACIONES = 100000\n",
    "\n",
    "media = 0\n",
    "contador = 0\n",
    "while contador < ITERACIONES:\n",
    "    media += random.randint(0, 10)\n",
    "    contador += 1\n",
    "\n",
    "print(media/ITERACIONES)"
   ]
  },
  {
   "cell_type": "markdown",
   "metadata": {},
   "source": [
    "### Ejercicio 2. Evaluar el rendimiento de las concatenaciones de strings\n",
    "\n",
    "Se comparará el rendimiento de la concatenación de los mecanismos que conocemos:\n",
    "- Operador +\n",
    "- f-strings\n",
    "\n",
    "Se realizarán 100 experimentos para que el valor medio de los experimentos sea fiable (como se ha demostrado anteriormente).\n",
    "\n",
    "Retos:\n",
    "- ¿Qué forma de concatenación es más eficiente según el número de concatenaciones? \n",
    "    + Probadlo para 1, 10, 100, 1.000 ó 10.000 concatenaciones.\n",
    "- ¿Qué forma de concatenación es más eficiente según el tipo de dato? \n",
    "    + Probadlo para concatenaciones de string con string y string con int."
   ]
  },
  {
   "cell_type": "markdown",
   "metadata": {},
   "source": [
    "#### Ejemplo de concatenaciones"
   ]
  },
  {
   "cell_type": "code",
   "execution_count": 19,
   "metadata": {},
   "outputs": [],
   "source": [
    "# Ejemplo de 1 concatenación\n",
    "cadena = \"\"\n",
    "cadena = cadena + \"texto\"\n",
    "\n",
    "cadena = \"\"\n",
    "cadena = f\"{cadena}texto\""
   ]
  },
  {
   "cell_type": "code",
   "execution_count": 20,
   "metadata": {},
   "outputs": [],
   "source": [
    "# Ejemplo de 2 concatenaciones\n",
    "cadena = \"\"\n",
    "cadena = cadena + \"texto\"\n",
    "cadena = cadena + \"texto\"\n",
    "\n",
    "cadena = \"\"\n",
    "cadena = f\"{cadena}texto\"\n",
    "cadena = f\"{cadena}texto\""
   ]
  },
  {
   "cell_type": "code",
   "execution_count": 21,
   "metadata": {},
   "outputs": [],
   "source": [
    "# Ejemplo de 3 concatenaciones\n",
    "cadena = \"\"\n",
    "cadena = cadena + \"texto\"\n",
    "cadena = cadena + \"texto\"\n",
    "cadena = cadena + \"texto\"\n",
    "\n",
    "cadena = \"\"\n",
    "cadena = f\"{cadena}texto\"\n",
    "cadena = f\"{cadena}texto\"\n",
    "cadena = f\"{cadena}texto\""
   ]
  },
  {
   "cell_type": "code",
   "execution_count": 23,
   "metadata": {},
   "outputs": [],
   "source": [
    "# Ejemplo de 1 concatenación con números\n",
    "cadena = \"\"\n",
    "cadena = cadena + str(1111)\n",
    "\n",
    "cadena = \"\"\n",
    "cadena = f\"{cadena}{1111}\""
   ]
  },
  {
   "cell_type": "markdown",
   "metadata": {},
   "source": [
    "#### Solución"
   ]
  },
  {
   "cell_type": "code",
   "execution_count": 24,
   "metadata": {},
   "outputs": [
    {
     "name": "stdout",
     "output_type": "stream",
     "text": [
      "         + Concatenciones: 1 - Tiempo: 0.0008110000044325716\n",
      "  f-string Concatenciones: 1 - Tiempo: 0.0015830000029382063\n",
      "\n",
      "         + Concatenciones: 10 - Tiempo: 0.013420999985100934\n",
      "  f-string Concatenciones: 10 - Tiempo: 0.010322999996787985\n",
      "\n",
      "         + Concatenciones: 100 - Tiempo: 0.09109500002978166\n",
      "  f-string Concatenciones: 100 - Tiempo: 0.07196300003215583\n",
      "\n",
      "         + Concatenciones: 1000 - Tiempo: 0.9497229999942647\n",
      "  f-string Concatenciones: 1000 - Tiempo: 0.5142530000330225\n",
      "\n",
      "         + Concatenciones: 10000 - Tiempo: 4.020855000026131\n",
      "  f-string Concatenciones: 10000 - Tiempo: 25.62566200002948\n",
      "\n"
     ]
    }
   ],
   "source": [
    "import timeit\n",
    "\n",
    "MAX_EXPERIMENTOS = 100\n",
    "iteraciones = 1\n",
    "ITERACIONES_MAX = 10_000\n",
    "\n",
    "while iteraciones <= ITERACIONES_MAX:\n",
    "\n",
    "    tiempo = 0\n",
    "    experimentos = 0\n",
    "    while experimentos < MAX_EXPERIMENTOS:\n",
    "        t0 = timeit.default_timer()\n",
    "        contador = 0\n",
    "        cadena = \"\"\n",
    "        while contador < iteraciones:\n",
    "            #cadena = cadena + str(contador)\n",
    "            cadena = cadena + \"aaaaaaaaaaa\"\n",
    "            contador += 1\n",
    "        t1 = timeit.default_timer()\n",
    "        tiempo += (t1 - t0) * 1000\n",
    "        experimentos += 1\n",
    "\n",
    "    print(f\"{'+':>10} Concatenciones: {iteraciones} - Tiempo: {tiempo/MAX_EXPERIMENTOS}\")\n",
    "\n",
    "    tiempo = 0\n",
    "    experimentos = 0\n",
    "    while experimentos < MAX_EXPERIMENTOS:\n",
    "        t0 = timeit.default_timer()\n",
    "        contador = 0\n",
    "        cadena = \"\"\n",
    "        while contador < iteraciones:\n",
    "            #cadena = f\"{cadena}{contador}\"\n",
    "            cadena = f\"{cadena} aaaaaaaaaaa\"\n",
    "            contador += 1\n",
    "        t1 = timeit.default_timer()\n",
    "        tiempo += (t1 - t0) * 1000\n",
    "        experimentos += 1\n",
    "\n",
    "    print(f\"{'f-string':>10} Concatenciones: {iteraciones} - Tiempo: {tiempo/MAX_EXPERIMENTOS}\")\n",
    "    \n",
    "    iteraciones *= 10\n",
    "    \n",
    "    print()\n"
   ]
  },
  {
   "cell_type": "code",
   "execution_count": null,
   "metadata": {},
   "outputs": [],
   "source": []
  }
 ],
 "metadata": {
  "kernelspec": {
   "display_name": "Python 3",
   "language": "python",
   "name": "python3"
  },
  "language_info": {
   "codemirror_mode": {
    "name": "ipython",
    "version": 3
   },
   "file_extension": ".py",
   "mimetype": "text/x-python",
   "name": "python",
   "nbconvert_exporter": "python",
   "pygments_lexer": "ipython3",
   "version": "3.7.6"
  }
 },
 "nbformat": 4,
 "nbformat_minor": 4
}
