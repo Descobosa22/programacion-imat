{
 "cells": [
  {
   "cell_type": "markdown",
   "metadata": {},
   "source": [
    "# Reto 2. Rendimiento en la concatenación de strings\n",
    "## Enunciado"
   ]
  },
  {
   "cell_type": "markdown",
   "metadata": {},
   "source": [
    "### Ejercicio 2. Evaluar el rendimiento de las concatenaciones de strings\n",
    "\n",
    "Se comparará el rendimiento de la concatenación de los mecanismos que conocemos:\n",
    "- Operador +\n",
    "- f-strings\n",
    "\n",
    "Se realizarán 100 experimentos para que el valor medio de los experimentos sea fiable (como se ha demostrado anteriormente).\n",
    "\n",
    "Retos:\n",
    "- ¿Qué forma de concatenación es más eficiente según el número de concatenaciones? \n",
    "    + Probadlo para 1, 10, 100, 1.000 ó 10.000 concatenaciones.\n",
    "- ¿Qué forma de concatenación es más eficiente según el tipo de dato? \n",
    "    + Probadlo para concatenaciones de string con string y string con int."
   ]
  },
  {
   "cell_type": "markdown",
   "metadata": {},
   "source": [
    "#### Ejemplo de concatenaciones"
   ]
  },
  {
   "cell_type": "code",
   "execution_count": 19,
   "metadata": {},
   "outputs": [],
   "source": [
    "# Ejemplo de 1 concatenación\n",
    "cadena = \"\"\n",
    "cadena = cadena + \"texto\"\n",
    "\n",
    "cadena = \"\"\n",
    "cadena = f\"{cadena}texto\""
   ]
  },
  {
   "cell_type": "code",
   "execution_count": 20,
   "metadata": {},
   "outputs": [],
   "source": [
    "# Ejemplo de 2 concatenaciones\n",
    "cadena = \"\"\n",
    "cadena = cadena + \"texto\"\n",
    "cadena = cadena + \"texto\"\n",
    "\n",
    "cadena = \"\"\n",
    "cadena = f\"{cadena}texto\"\n",
    "cadena = f\"{cadena}texto\""
   ]
  },
  {
   "cell_type": "code",
   "execution_count": 21,
   "metadata": {},
   "outputs": [],
   "source": [
    "# Ejemplo de 3 concatenaciones\n",
    "cadena = \"\"\n",
    "cadena = cadena + \"texto\"\n",
    "cadena = cadena + \"texto\"\n",
    "cadena = cadena + \"texto\"\n",
    "\n",
    "cadena = \"\"\n",
    "cadena = f\"{cadena}texto\"\n",
    "cadena = f\"{cadena}texto\"\n",
    "cadena = f\"{cadena}texto\""
   ]
  },
  {
   "cell_type": "code",
   "execution_count": 23,
   "metadata": {},
   "outputs": [],
   "source": [
    "# Ejemplo de 1 concatenación con números\n",
    "cadena = \"\"\n",
    "cadena = cadena + str(1111)\n",
    "\n",
    "cadena = \"\"\n",
    "cadena = f\"{cadena}{1111}\""
   ]
  },
  {
   "cell_type": "markdown",
   "metadata": {},
   "source": [
    "#### Solución"
   ]
  },
  {
   "cell_type": "code",
   "execution_count": null,
   "metadata": {},
   "outputs": [],
   "source": []
  }
 ],
 "metadata": {
  "kernelspec": {
   "display_name": "Python 3",
   "language": "python",
   "name": "python3"
  },
  "language_info": {
   "codemirror_mode": {
    "name": "ipython",
    "version": 3
   },
   "file_extension": ".py",
   "mimetype": "text/x-python",
   "name": "python",
   "nbconvert_exporter": "python",
   "pygments_lexer": "ipython3",
   "version": "3.7.6"
  }
 },
 "nbformat": 4,
 "nbformat_minor": 4
}
