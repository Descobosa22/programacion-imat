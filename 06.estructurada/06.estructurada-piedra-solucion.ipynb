{
 "cells": [
  {
   "cell_type": "markdown",
   "metadata": {},
   "source": [
    "# Práctica 6. Programación Estructurada - Piedra, papel o tijera\n",
    "# Solución\n",
    "\n",
    "### Objetivos\n",
    "- Diseñar correctamente el flujo del programa para crear un programa correctamente estructurado.\n",
    "- Elegir los operadores lógicos adecuados para conseguir un código legible y bien estructurado.\n",
    "- Implementar una solución software a partir de unos requisitos dados.\n",
    "- Saber identificar los incrementos para llegar a la solución final."
   ]
  },
  {
   "cell_type": "markdown",
   "metadata": {},
   "source": [
    "## Enunciado de la práctica\n",
    "\n",
    "Desarrollar un programa que replique el clásico Piedra, Papel o Tijera.\n",
    "\n",
    "La ejecución del programa deberá generar una salida similar a la siguiente. \n",
    "\n",
    "## Salida\n",
    "\n",
    "```\n",
    "Nombre: David\n",
    "¿Cuántas partidas quieres jugar [1, 5]? 7\n",
    "¿Cuántas partidas quieres jugar [1, 5]? 3\n",
    "\n",
    "¿[P]iedra, [p]apel o [T]ijera? X\n",
    "¿[P]iedra, [p]apel o [T]ijera? P\n",
    "USER: P - MÁQUINA: T >>> GANAS\n",
    "\n",
    "¿[P]iedra, [p]apel o [T]ijera? p\n",
    "USER: p - MÁQUINA: P >>> GANAS\n",
    "\n",
    "¿[P]iedra, [p]apel o [T]ijera? T\n",
    "USER: T - MÁQUINA: P >>> PIERDES\n",
    "  \n",
    "Resultado Final  \n",
    "====================\n",
    "David 2 - 1 MÁQUINA\n",
    "Empates: 0\n",
    "```"
   ]
  },
  {
   "cell_type": "markdown",
   "metadata": {},
   "source": [
    "## Solución"
   ]
  },
  {
   "cell_type": "code",
   "execution_count": 1,
   "metadata": {},
   "outputs": [
    {
     "name": "stdout",
     "output_type": "stream",
     "text": [
      "Nombre: David\n",
      "¿Cuántas partidas quieres jugar [1, 5]? 3\n",
      "\n",
      "¿[P]iedra, [p]apel o [T]ijera? P\n",
      "USER: P - MÁQUINA: P >>> EMPATE\n",
      "\n",
      "¿[P]iedra, [p]apel o [T]ijera? p\n",
      "USER: p - MÁQUINA: P >>> GANAS\n",
      "\n",
      "¿[P]iedra, [p]apel o [T]ijera? P\n",
      "USER: P - MÁQUINA: P >>> EMPATE\n",
      "  \n",
      "Resultado Final  \n",
      "====================\n",
      "David 1 - 0 MÁQUINA\n",
      "Empates: 2\n"
     ]
    }
   ],
   "source": [
    "import random\n",
    "PIEDRA = \"P\"\n",
    "PAPEL = \"p\"\n",
    "TIJERA = \"T\"\n",
    "\n",
    "JUGADAS_MAX = 5\n",
    "\n",
    "nombre_usuario = input(\"Nombre: \")\n",
    "\n",
    "numero_partidas = int(input(\"¿Cuántas partidas quieres jugar [1, 5]? \"))\n",
    "while numero_partidas < 1 or numero_partidas > JUGADAS_MAX:\n",
    "    numero_partidas = int(input(\"¿Cuántas partidas quieres jugar [1, 5]? \"))\n",
    "\n",
    "victorias_usuario = 0\n",
    "victorias_maquina = 0\n",
    "empates = 0\n",
    "\n",
    "partida = 0\n",
    "while partida < numero_partidas:\n",
    "\n",
    "    # Lectura de la elección del usuario\n",
    "    eleccion_usuario = input(\"\\n¿[P]iedra, [p]apel o [T]ijera? \")\n",
    "    while eleccion_usuario != PIEDRA and eleccion_usuario != PAPEL and eleccion_usuario != TIJERA:\n",
    "        eleccion_usuario = input(\"¿[P]iedra, [p]apel o [T]ijera? \")\n",
    "        \n",
    "    print(f\"USER: {eleccion_usuario}\", end = \"\")\n",
    "\n",
    "    # Generación aleatoria de la elección de la máquina\n",
    "    aleatorio = random.randint(1, 3)\n",
    "\n",
    "    if aleatorio == 1:\n",
    "        eleccion_maquina = PIEDRA\n",
    "    elif aleatorio == 2:\n",
    "        eleccion_maquina = PAPEL\n",
    "    else:\n",
    "        eleccion_maquina = TIJERA\n",
    "\n",
    "    print(f\" - MÁQUINA: {eleccion_maquina} >>> \", end = \"\")\n",
    "\n",
    "    usuario_win = eleccion_usuario == PIEDRA and eleccion_maquina == TIJERA or \\\n",
    "                    eleccion_usuario == PAPEL and eleccion_maquina == PIEDRA or \\\n",
    "                    eleccion_usuario == TIJERA and eleccion_maquina == PAPEL\n",
    "        \n",
    "    # Acumulación de resultados\n",
    "    if eleccion_usuario == eleccion_maquina:\n",
    "        empates += 1\n",
    "        print(f\"EMPATE\")\n",
    "    elif usuario_win:\n",
    "        victorias_usuario += 1\n",
    "        print(f\"GANAS\")\n",
    "    else:\n",
    "        victorias_maquina += 1\n",
    "        print(f\"PIERDES\")\n",
    " \n",
    "    partida += 1\n",
    "\n",
    "    \n",
    "# Acumulación de resultados\n",
    "print(\"\\nResultado Final\".center(20))\n",
    "print(\"=\"*20)\n",
    "print(f\"{nombre_usuario} {victorias_usuario} - {victorias_maquina} MÁQUINA\")\n",
    "print(f\"Empates: {empates}\")\n"
   ]
  },
  {
   "cell_type": "markdown",
   "metadata": {},
   "source": [
    "### Otra lógica distinta\n",
    "\n",
    "Es lo bonito que tiene la programación...\n",
    "\n",
    "\n",
    "```python\n",
    "\n",
    "# Indica en las posiciones impares quién gana, pares quién pierde\n",
    "JUEGO = \"PTTppP\"\n",
    "...\n",
    "    while indice_juego < 3:\n",
    "        usuario_win = JUEGO[indice_juego*2] == eleccion_usuario and JUEGO[indice_juego*2+1] == eleccion_maquina\n",
    "        indice_juego += 1\n",
    "\n",
    "\n",
    "```"
   ]
  },
  {
   "cell_type": "code",
   "execution_count": null,
   "metadata": {},
   "outputs": [],
   "source": []
  }
 ],
 "metadata": {
  "kernelspec": {
   "display_name": "Python 3",
   "language": "python",
   "name": "python3"
  },
  "language_info": {
   "codemirror_mode": {
    "name": "ipython",
    "version": 3
   },
   "file_extension": ".py",
   "mimetype": "text/x-python",
   "name": "python",
   "nbconvert_exporter": "python",
   "pygments_lexer": "ipython3",
   "version": "3.7.6"
  }
 },
 "nbformat": 4,
 "nbformat_minor": 4
}
