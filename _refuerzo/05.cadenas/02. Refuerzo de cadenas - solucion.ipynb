{
 "cells": [
  {
   "cell_type": "markdown",
   "metadata": {},
   "source": [
    "# Ejercicios de refuerzo: cadenas de caracteres"
   ]
  },
  {
   "cell_type": "markdown",
   "metadata": {},
   "source": [
    "## Ejercicio #1. ASCII\n",
    "Muestra la tabla ASCII correspondiente a los caracteres \"A\" hasta la \"z\", quedando una salida similar  ala siguiente:\n",
    "\n",
    "**Salida**\n",
    "```\n",
    "Char  ASCII\n",
    "================\n",
    "A  ->  65\n",
    "B  ->  66\n",
    "C  ->  67\n",
    "D  ->  68\n",
    "E  ->  69\n",
    "F  ->  70\n",
    "G  ->  71\n",
    "...\n",
    "x  ->  120\n",
    "y  ->  121\n",
    "z  ->  122\n",
    "```\n",
    "\n",
    "### Solución"
   ]
  },
  {
   "cell_type": "code",
   "execution_count": 31,
   "metadata": {},
   "outputs": [
    {
     "name": "stdout",
     "output_type": "stream",
     "text": [
      "Char  ASCII\n",
      "================\n",
      "A  ->  65\n",
      "B  ->  66\n",
      "C  ->  67\n",
      "D  ->  68\n",
      "E  ->  69\n",
      "F  ->  70\n",
      "G  ->  71\n",
      "H  ->  72\n",
      "I  ->  73\n",
      "J  ->  74\n",
      "K  ->  75\n",
      "L  ->  76\n",
      "M  ->  77\n",
      "N  ->  78\n",
      "O  ->  79\n",
      "P  ->  80\n",
      "Q  ->  81\n",
      "R  ->  82\n",
      "S  ->  83\n",
      "T  ->  84\n",
      "U  ->  85\n",
      "V  ->  86\n",
      "W  ->  87\n",
      "X  ->  88\n",
      "Y  ->  89\n",
      "Z  ->  90\n",
      "[  ->  91\n",
      "\\  ->  92\n",
      "]  ->  93\n",
      "^  ->  94\n",
      "_  ->  95\n",
      "`  ->  96\n",
      "a  ->  97\n",
      "b  ->  98\n",
      "c  ->  99\n",
      "d  ->  100\n",
      "e  ->  101\n",
      "f  ->  102\n",
      "g  ->  103\n",
      "h  ->  104\n",
      "i  ->  105\n",
      "j  ->  106\n",
      "k  ->  107\n",
      "l  ->  108\n",
      "m  ->  109\n",
      "n  ->  110\n",
      "o  ->  111\n",
      "p  ->  112\n",
      "q  ->  113\n",
      "r  ->  114\n",
      "s  ->  115\n",
      "t  ->  116\n",
      "u  ->  117\n",
      "v  ->  118\n",
      "w  ->  119\n",
      "x  ->  120\n",
      "y  ->  121\n",
      "z  ->  122\n"
     ]
    }
   ],
   "source": [
    "codigo_ascii = 65\n",
    "print(\"Char  ASCII\")\n",
    "print(\"================\")\n",
    "while codigo_ascii < 123:\n",
    "    print(f\"{chr(codigo_ascii)}  ->  {codigo_ascii}\")\n",
    "    codigo_ascii += 1\n"
   ]
  },
  {
   "cell_type": "markdown",
   "metadata": {},
   "source": [
    "## Ejercicio #2a\n",
    "\n",
    "Detectar si el número float introducido (en este caso asignado directamente a una variable) es realmente un float o no. Para ello, se deberá evaluar si los caracteres son números y existe un punto decimal (y solo uno) caracter a caracter.\n",
    "\n",
    "Se desarrollará la solución mediante for y while.\n",
    "\n",
    "**No se podrán utilizar métodos de string para programar esta solución**."
   ]
  },
  {
   "cell_type": "markdown",
   "metadata": {},
   "source": [
    "### Solución con while\n",
    "\n",
    "Esta solución se podría optimizar cuando veamos operadores lógicos."
   ]
  },
  {
   "cell_type": "code",
   "execution_count": 32,
   "metadata": {},
   "outputs": [
    {
     "name": "stdout",
     "output_type": "stream",
     "text": [
      "Evaluando posición 0: 2\n",
      "Evaluando posición 1: 3\n",
      "Evaluando posición 2: .\n",
      "Evaluando posición 3: 5\n",
      "Evaluando posición 4: 5\n",
      "Evaluando posición 5: 6\n",
      "Evaluando posición 6: 4\n",
      "Evaluando posición 7: 5\n",
      "Evaluando posición 8: 6\n",
      "\n",
      "23.556456 es un número decimal.\n"
     ]
    }
   ],
   "source": [
    "cadena = \"23.556456\"\n",
    "\n",
    "cuenta_puntos = 0\n",
    "es_numero = True\n",
    "longitud_cadena = len(cadena)\n",
    "posicion = 0\n",
    "\n",
    "while posicion < longitud_cadena:   # Esta condición podrá optimizarse más adelante\n",
    "    print(f\"Evaluando posición {posicion}: {cadena[posicion]}\")\n",
    "    if cadena[posicion] == '.':\n",
    "        cuenta_puntos += 1\n",
    "    else:\n",
    "        if ord(cadena[posicion]) < 48:  # Estas condiciones se optimizarán más adelante\n",
    "            if ord(cadena[posicion]) > 57:\n",
    "                es_numero = False\n",
    "    posicion += 1\n",
    "\n",
    "if cuenta_puntos == 1:\n",
    "    if es_numero == True:  # Estas condiciones se optimizarán más adelante\n",
    "        print(f\"\\n{cadena} es un número decimal.\")\n",
    "    else:\n",
    "        print(f\"\\n{cadena} NO es un número decimal.\")    # Este código se optimizará más adelante\n",
    "else:\n",
    "    print(f\"\\n{cadena} NO es un número decimal.\")"
   ]
  },
  {
   "cell_type": "markdown",
   "metadata": {},
   "source": [
    "### Solución con for"
   ]
  },
  {
   "cell_type": "code",
   "execution_count": 33,
   "metadata": {},
   "outputs": [
    {
     "name": "stdout",
     "output_type": "stream",
     "text": [
      "Evaluando posición 0: 2\n",
      "Evaluando posición 1: 3\n",
      "Evaluando posición 2: .\n",
      "Evaluando posición 3: 5\n",
      "Evaluando posición 4: 5\n",
      "Evaluando posición 5: 6\n",
      "Evaluando posición 6: 4\n",
      "Evaluando posición 7: 5\n",
      "Evaluando posición 8: 6\n",
      "\n",
      "23.556456 es un número decimal.\n"
     ]
    }
   ],
   "source": [
    "cadena = \"23.556456\"\n",
    "\n",
    "cuenta_puntos = 0\n",
    "es_numero = True\n",
    "longitud_cadena = len(cadena)\n",
    "posicion = 0\n",
    "\n",
    "for caracter in cadena:\n",
    "    print(f\"Evaluando posición {posicion}: {caracter}\")\n",
    "    if caracter == '.':\n",
    "        cuenta_puntos += 1\n",
    "    else:\n",
    "        if ord(caracter) < 48:  # Estas condiciones se optimizarán más adelante\n",
    "            if ord(caracter) > 57:\n",
    "                es_numero = False\n",
    "    posicion += 1\n",
    "\n",
    "if cuenta_puntos == 1:\n",
    "    if es_numero == True:  # Estas condiciones se optimizarán más adelante\n",
    "        print(f\"\\n{cadena} es un número decimal.\")\n",
    "    else:\n",
    "        print(f\"\\n{cadena} NO es un número decimal porque tiene caracteres raros.\") \n",
    "else:\n",
    "    print(f\"\\n{cadena} NO es un número decimal porque tiene más o menos de un punto separador.\") "
   ]
  },
  {
   "cell_type": "markdown",
   "metadata": {},
   "source": [
    "## Ejercicio #2b\n",
    "\n",
    "Realizar la misma funcionalidad pero utilizando esta vez métodos de string."
   ]
  },
  {
   "cell_type": "code",
   "execution_count": 34,
   "metadata": {},
   "outputs": [
    {
     "name": "stdout",
     "output_type": "stream",
     "text": [
      "\n",
      "-23.556456 es un número decimal.\n"
     ]
    }
   ],
   "source": [
    "cadena = \"-23.556456\"\n",
    "cuenta_puntos = cadena.count(\".\")\n",
    "if cuenta_puntos == 1:\n",
    "    cadena_sin_puntos = cadena.replace(\".\", \"\")\n",
    "    cadena_sin_negativo = cadena_sin_puntos.lstrip(\"-\")\n",
    "    if cadena_sin_negativo.isdecimal() == True:\n",
    "        print(f\"\\n{cadena} es un número decimal.\") \n",
    "    else:\n",
    "        print(f\"\\n{cadena} NO es un número decimal porque tiene caracteres raros.\")   \n",
    "else:\n",
    "    print(f\"\\n{cadena} NO es un número decimal porque tiene más o menos de un punto separador.\")    "
   ]
  },
  {
   "cell_type": "markdown",
   "metadata": {},
   "source": [
    "## Ejercicio #3\n",
    "Realizar un programa que cree un string con el contenido invertido a partir de otro ya exsitente.\n",
    "\n",
    "Se realizará mediante bucles y mediante las operaciones de slicing e índices inversos.\n",
    "\n",
    "Pasar de \"Hola\" a \"aloH\", por ejemplo."
   ]
  },
  {
   "cell_type": "markdown",
   "metadata": {},
   "source": [
    "### Solución\n",
    "\n",
    "**Modo 1**: Recorrido directo"
   ]
  },
  {
   "cell_type": "code",
   "execution_count": 35,
   "metadata": {},
   "outputs": [
    {
     "name": "stdout",
     "output_type": "stream",
     "text": [
      "aloH\n"
     ]
    }
   ],
   "source": [
    "cadena = \"Hola\"\n",
    "cadena_invertida = \"\"\n",
    "indice = 0\n",
    "while indice < len(cadena):\n",
    "    cadena_invertida = cadena_invertida + cadena[len(cadena)-indice-1]\n",
    "    indice += 1 \n",
    "print(cadena_invertida)"
   ]
  },
  {
   "cell_type": "markdown",
   "metadata": {},
   "source": [
    "**Modo 2**: Recorrido inverso"
   ]
  },
  {
   "cell_type": "code",
   "execution_count": 36,
   "metadata": {},
   "outputs": [
    {
     "name": "stdout",
     "output_type": "stream",
     "text": [
      "aloH\n"
     ]
    }
   ],
   "source": [
    "cadena = \"Hola\"\n",
    "cadena_invertida = \"\"\n",
    "indice = len(cadena) - 1\n",
    "while indice >= 0:\n",
    "    cadena_invertida = cadena_invertida + cadena[indice]\n",
    "    indice -= 1 \n",
    "print(cadena_invertida)"
   ]
  },
  {
   "cell_type": "markdown",
   "metadata": {},
   "source": [
    "**Modo 3**: Indices inversos"
   ]
  },
  {
   "cell_type": "code",
   "execution_count": 37,
   "metadata": {},
   "outputs": [
    {
     "name": "stdout",
     "output_type": "stream",
     "text": [
      "aloH\n"
     ]
    }
   ],
   "source": [
    "cadena = \"Hola\"\n",
    "cadena_invertida = cadena[::-1]\n",
    "print(cadena_invertida)"
   ]
  }
 ],
 "metadata": {
  "kernelspec": {
   "display_name": "Python 3",
   "language": "python",
   "name": "python3"
  },
  "language_info": {
   "codemirror_mode": {
    "name": "ipython",
    "version": 3
   },
   "file_extension": ".py",
   "mimetype": "text/x-python",
   "name": "python",
   "nbconvert_exporter": "python",
   "pygments_lexer": "ipython3",
   "version": "3.7.6"
  }
 },
 "nbformat": 4,
 "nbformat_minor": 4
}
