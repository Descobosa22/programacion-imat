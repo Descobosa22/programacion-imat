{
 "cells": [
  {
   "cell_type": "markdown",
   "metadata": {},
   "source": [
    "# Práctica 6. Programación Estructurada - Piedra, papel o tijera\n",
    "# Enunciado\n",
    "\n",
    "### Objetivos\n",
    "- Diseñar correctamente el flujo del programa para crear un programa correctamente estructurado.\n",
    "- Elegir los operadores lógicos adecuados para conseguir un código legible y bien estructurado.\n",
    "- Implementar una solución software a partir de unos requisitos dados.\n",
    "- Saber identificar los incrementos para llegar a la solución final."
   ]
  },
  {
   "cell_type": "markdown",
   "metadata": {},
   "source": [
    "## Enunciado de la práctica\n",
    "\n",
    "Desarrollar un programa que replique el clásico Piedra, Papel o Tijera.\n",
    "\n",
    "La ejecución del programa deberá generar una salida similar a la siguiente. \n",
    "\n",
    "## Salida\n",
    "\n",
    "```\n",
    "Nombre: David\n",
    "¿Cuántas partidas quieres jugar [1, 5]? 7\n",
    "¿Cuántas partidas quieres jugar [1, 5]? 3\n",
    "\n",
    "¿[P]iedra, [p]apel o [T]ijera? X\n",
    "¿[P]iedra, [p]apel o [T]ijera? P\n",
    "USER: P - MÁQUINA: T >>> GANAS\n",
    "\n",
    "¿[P]iedra, [p]apel o [T]ijera? p\n",
    "USER: p - MÁQUINA: P >>> GANAS\n",
    "\n",
    "¿[P]iedra, [p]apel o [T]ijera? T\n",
    "USER: T - MÁQUINA: P >>> PIERDES\n",
    "  \n",
    "Resultado Final  \n",
    "====================\n",
    "David 2 - 1 MÁQUINA\n",
    "Empates: 0\n",
    "```"
   ]
  },
  {
   "cell_type": "code",
   "execution_count": null,
   "metadata": {},
   "outputs": [],
   "source": []
  }
 ],
 "metadata": {
  "kernelspec": {
   "display_name": "Python 3 (ipykernel)",
   "language": "python",
   "name": "python3"
  },
  "language_info": {
   "codemirror_mode": {
    "name": "ipython",
    "version": 3
   },
   "file_extension": ".py",
   "mimetype": "text/x-python",
   "name": "python",
   "nbconvert_exporter": "python",
   "pygments_lexer": "ipython3",
   "version": "3.9.13"
  }
 },
 "nbformat": 4,
 "nbformat_minor": 4
}
