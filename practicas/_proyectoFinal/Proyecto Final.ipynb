{
 "cells": [
  {
   "cell_type": "markdown",
   "metadata": {},
   "source": [
    "# Proyecto Final de Programación"
   ]
  },
  {
   "cell_type": "markdown",
   "metadata": {},
   "source": [
    "Al finalizar la asignatura se deberá entregar un proyecto que ponga de manifiesto las competencias adquiridas por el alumno.\n",
    "\n",
    "Cada alumno deberá elegir entre tres tipos de proyectos:\n",
    "- Hundir la flota: proyecto planificado por el profesor de la asignatura. Se orientará sobre cómo diseñarlo/programarlo y se definirán unos objetivos funcionales y temporales de cada incremento a desrrollar. \n",
    "- Juego a elegir por el alumno: la temática y diseño del juego lo decidirá el propio alumno. Necesitará el visto bueno del profesor.\n",
    "- Desarrollo en Minecraft a elegir por el alumno: la funcionalidad dentro del juego la decidirá el propio alumno. Necesitará el visto bueno del profesor."
   ]
  },
  {
   "cell_type": "markdown",
   "metadata": {},
   "source": [
    "Más adelante se dará más información sobre la forma y fecha de entrega."
   ]
  },
  {
   "cell_type": "markdown",
   "metadata": {},
   "source": [
    "## Hundir la Flota\n",
    "\n",
    "Existirán dos tableros, uno del usuario con la colocación de sus barcos y otro con la información de los disparos que ha realizado sobre el tablero oponente.\n",
    "\n",
    "### Requisitos mínimos\n",
    "\n",
    "- Se cuidará la UX (User Experience).\n",
    "- No podrá tener errores.\n",
    "\n",
    "\n",
    "### Funcionalidad obligatoria\n",
    "- La partida se realizará entre dos jugadores.\n",
    "- Se elegirá el número de barcos a crear: [2, 5].\n",
    "- El tamaño de los barcos será siempre decreciente desde 5 celdas hasta 2, según el número de marcos elegido.\n",
    "- La colocación de los barcos será elegida por el usuario.\n",
    "- Las partidas podrán ser guardadas para continuarlas cuando se desee.\n",
    "\n",
    "\n",
    "### Funcionalidad opcional\n",
    "- El usuario podrá jugar contra la máquina.\n",
    "- La colocación de los barcos podrá ser automática.\n"
   ]
  }
 ],
 "metadata": {
  "kernelspec": {
   "display_name": "Python 3 (ipykernel)",
   "language": "python",
   "name": "python3"
  },
  "language_info": {
   "codemirror_mode": {
    "name": "ipython",
    "version": 3
   },
   "file_extension": ".py",
   "mimetype": "text/x-python",
   "name": "python",
   "nbconvert_exporter": "python",
   "pygments_lexer": "ipython3",
   "version": "3.9.13"
  }
 },
 "nbformat": 4,
 "nbformat_minor": 4
}
