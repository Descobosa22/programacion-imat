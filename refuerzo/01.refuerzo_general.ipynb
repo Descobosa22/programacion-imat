{
 "cells": [
  {
   "cell_type": "markdown",
   "metadata": {},
   "source": [
    "# Ejercicios de refuerzo."
   ]
  },
  {
   "cell_type": "markdown",
   "metadata": {},
   "source": [
    "###  Ejercicio #1. Resolviendo ecuaciones de segundo grado.\n",
    "\n",
    "Escribir un programa que resuelva una ecuación de segundo grado solicitando sus coordenadas en la base canónica de los polinomios de grado 2. Deberán discutirse los distintos tipos de solución mediante el uso de condicionales, por ejemplo: \n",
    "\n",
    "\n",
    "- Si el termino englobado por la raiz cuadrada es negativo, nuestro programa devolverá un mensaje indicando que las raices de dicho polinomio son complejas. \n",
    "- Si la coordenada que multiplica al termino al cuadrado es 0, estaremos ante una ecuación de primer grado, por lo que la raíz se obtendrá despejando la x.  "
   ]
  },
  {
   "cell_type": "markdown",
   "metadata": {},
   "source": [
    "#### Solución"
   ]
  },
  {
   "cell_type": "code",
   "execution_count": 1,
   "metadata": {},
   "outputs": [
    {
     "name": "stdout",
     "output_type": "stream",
     "text": [
      "\n",
      "Introduce la coordenada a: 1\n",
      "\n",
      "Introduce la cordenada b: 2\n",
      "\n",
      "Introduce la coordenada c: 3\n",
      "\n",
      "Raices complejas\n"
     ]
    }
   ],
   "source": [
    "import math \n",
    "a = float(input(\"\\nIntroduce la coordenada a: \"))\n",
    "b = float(input(\"\\nIntroduce la cordenada b: \"))\n",
    "c = float(input(\"\\nIntroduce la coordenada c: \"))\n",
    "\n",
    "#Termino englobado por la raiz cuadrada que servirá apra saber ante qué tipo de raices nos encontramos\n",
    "delta  = pow(b,2)-4*a*c\n",
    "\n",
    "if a == 0 and b == 0:  # c = 0\n",
    "    print(\"\\nSolución degenerada.\\n\")\n",
    "elif a == 0:  # x = -c/b, no hay término al cuadrado\n",
    "    print(\"\\nCaso lineal, despejaremos la x como el cociente de -c y b\")\n",
    "    x = -c / b\n",
    "    print(f\"\\nValor de x: {x}\")\n",
    "elif delta == 0:  # x = -b/2a doble\n",
    "    print(\"\\nRaiz doble\")\n",
    "    x = -b / (2*a)\n",
    "    print(f\"\\nEl valor de x es: {x}\")\n",
    "elif delta > 0:  # Aplicamos la fórmula\n",
    "    print(\"\\nCaso con dos raices.\")\n",
    "    x1 = -b + math.sqrt(delta) / (2*a)\n",
    "    x2 = -b - math.sqrt(delta) / (2*a)\n",
    "    print(f\"\\nValor de x1: {x1}\")\n",
    "    print(f\"\\nValor de x2: {x2}\")\n",
    "else:  # El termino englobado por la raiz es negativo, dicho polinomio presenta raices complejas\n",
    "    print(\"\\nRaices complejas\")"
   ]
  },
  {
   "cell_type": "markdown",
   "metadata": {},
   "source": [
    "### Ejercicio #2: Función definida a trozos.\n",
    "\n",
    "Escribir un programa que solicite un valor de x y devuelva su imagen en la siguiente función: \n"
   ]
  },
  {
   "cell_type": "code",
   "execution_count": 4,
   "metadata": {},
   "outputs": [
    {
     "data": {
      "text/latex": [
       "$$ \\displaystyle \\mathrm{f}(x) \\triangleq \\left\\{ \\begin{array}{ll} 1 + \\frac{1}{3}x, & \\mathrm{if} \\ \\left(x>1\\right)\\land \\left(x<3\\right) \\\\ \\frac{1}{5.5 + 3x}, & \\mathrm{if} \\ \\left(x>3\\right)\\land \\left(x<15\\right) \\\\ x^{4} + -3x + 1, & \\mathrm{otherwise} \\end{array} \\right. $$"
      ],
      "text/plain": [
       "<latexify.core.with_latex.<locals>._LatexifiedFunction at 0x15d8db1f550>"
      ]
     },
     "execution_count": 4,
     "metadata": {},
     "output_type": "execute_result"
    }
   ],
   "source": [
    "import latexify\n",
    "@latexify.with_latex\n",
    "def f(x):\n",
    "    if  x > 1 and x < 3:\n",
    "        return 1 + 1/3*x\n",
    "    elif x > 3 and x < 15:\n",
    "        return 1/(5.5 + 3*x)\n",
    "    else: \n",
    "        return x**4 + -3*x + 1\n",
    "\n",
    "\n",
    "f"
   ]
  },
  {
   "cell_type": "markdown",
   "metadata": {},
   "source": [
    "#### Solución"
   ]
  },
  {
   "cell_type": "markdown",
   "metadata": {},
   "source": [
    "### Ejercicio #3 Calcular el seno de un ángulo utilizando la serie de Taylor. \n",
    "\n",
    "\n",
    "- Implementa un programa que calcule el seno de un ángulo en grados mediante el uso de la serie de Taylor.\n",
    "- El programa solicitará y validará el ángulo y el número de terminos de la serie. \n",
    "- Por último , transformará el ángulo a radianes y calculará su seno. \n",
    "\n",
    "#### Librería math\n",
    "La librería math nor permite, entre otras cosas, calcular el factorial de un número o la potencia de dos de manera muy sencilla. \n",
    "\n",
    "Puedes encontrar más información aquí : [Librería math](https://docs.python.org/es/3/library/math.html)\n",
    "\n"
   ]
  },
  {
   "cell_type": "markdown",
   "metadata": {},
   "source": [
    "#### Ejemplos"
   ]
  },
  {
   "cell_type": "code",
   "execution_count": 29,
   "metadata": {},
   "outputs": [
    {
     "name": "stdout",
     "output_type": "stream",
     "text": [
      "El factorial del número 5 es: 120\n",
      "El valor de elevar 2 a 3 es: 8.0\n"
     ]
    }
   ],
   "source": [
    "import math\n",
    "\n",
    "pi = math.pi\n",
    "numero1 = 5\n",
    "numero2 = 2\n",
    "numero3 = 3\n",
    "\n",
    "factorial = math.factorial(5)\n",
    "potencia = math.pow(numero2,numero3) \n",
    "\n",
    "print(f\"El factorial del número {numero} es: {factorial}\") \n",
    "print(f\"El valor de elevar {numero2} a {numero3} es: {potencia}\")"
   ]
  },
  {
   "cell_type": "markdown",
   "metadata": {},
   "source": [
    "#### Solución"
   ]
  },
  {
   "cell_type": "code",
   "execution_count": 24,
   "metadata": {},
   "outputs": [
    {
     "name": "stdout",
     "output_type": "stream",
     "text": [
      "\n",
      "Introduce el ángulo en grados: 90\n",
      "\n",
      "Introduce el número de términos: 3\n",
      "\n",
      "El seno de 90.0 grados, 1.5707963267948966 radianes with 3 terminos de precisión es: 1.0045248555348174\n"
     ]
    }
   ],
   "source": [
    "import math\n",
    "\n",
    "\n",
    "grados = float(input(\"Introduce el ángulo en grados: \"))\n",
    "radianes = grados * math.pi/180\n",
    "terminos = int(input(\"Introduce el número de términos: \"))\n",
    "\n",
    "while terminos <= 0:\n",
    "        print(\"El número de términos ha de ser positivo.\")\n",
    "        terminos = int(input(\"Introduce el número de términos: \"))\n",
    "\n",
    "serie = 0\n",
    "i = 1\n",
    "\n",
    "while i < terminos + 1:\n",
    "    termino = math.pow(-1,i+1) * math.pow(radianes, 2*i-1) / math.factorial(2*i-1)\n",
    "    serie = serie + termino\n",
    "    i += 1\n",
    "print(f\"El seno de {grados} grados, {radianes} radianes with {terminos} terminos de precisión es: {serie}\")"
   ]
  },
  {
   "cell_type": "markdown",
   "metadata": {},
   "source": [
    "#### Otra forma"
   ]
  },
  {
   "cell_type": "code",
   "execution_count": null,
   "metadata": {},
   "outputs": [],
   "source": [
    "serie = 0\n",
    "for i in range(0,terminos):\n",
    "        serie=serie+math.pow(radians, 2*i+1)*pow(-1,i)/math.factorial(2*i+1)\n"
   ]
  },
  {
   "cell_type": "code",
   "execution_count": null,
   "metadata": {},
   "outputs": [],
   "source": []
  },
  {
   "cell_type": "markdown",
   "metadata": {},
   "source": [
    "### Ejercicio #4. \n",
    "\n",
    "Desarrolla un programa que calcule lo siguiente: \n",
    "\n",
    "- Área y perímetro de un círculo. \n",
    "- Área y perímetro de un cuadrado\n",
    "- Perímetro de un triángulo.\n",
    "\n",
    "\n",
    "El programa deberá mostrar un menu de opciónes para realizar la operación que solicite el usuario y se repetirá hasta que el usuario seleccione la opción numero 4. El radio y los lados  deberán ser validados. "
   ]
  },
  {
   "cell_type": "markdown",
   "metadata": {},
   "source": [
    "#### Solución"
   ]
  },
  {
   "cell_type": "code",
   "execution_count": null,
   "metadata": {},
   "outputs": [],
   "source": [
    "import math\n",
    "\n",
    "opcion = 1\n",
    "pi = math.pi\n",
    "\n",
    "while opcion != 4:\n",
    "    print(\"MENU\")\n",
    "    print(\"\"\"\n",
    "            1. Área y perímetro de un círculo\n",
    "            2. Área y perímetro de un cuadrado\n",
    "            3. Perímetro de un triángulo.\n",
    "            4. Salir\n",
    "            \"\"\")\n",
    "\n",
    "    \n",
    "    opcion = int(input(\"Introduce una opción:  \"))\n",
    "    while opcion < 1 or opcion > 4:\n",
    "        print(\"Opción incorrecta, inténtalo de nuevo. \")\n",
    "        opcion = int(input(\"Introduce una opción: \"))\n",
    "    \n",
    "    \n",
    "    if opcion == 1:\n",
    "        radio = float(input(\"Introduce el radio del círculo: \"))\n",
    "        while radio < 0 :\n",
    "            radio = float(input(\"Introduce el radio del círculo: \"))\n",
    "        area = pi * radio ** 2\n",
    "        print(f\"Área del círculo: {area}\")\n",
    "        \n",
    "    elif opcion == 2:\n",
    "        lado = float(input(\"Introduce el lado del cuadrado: \"))\n",
    "        while lado < 0: \n",
    "            lado = float(input(\"Introduce el lado del cuadrado: \"))\n",
    "        perimetro = 4 * lado \n",
    "        area = lado ** 2\n",
    "        print(f\"El área y el perímetro del cuadrado con lado {lado} son {area} y {perimetro}.\")\n",
    "        \n",
    "    elif opcion == 3:\n",
    "        lado1 = float(input(\"Introduce el primer lado: \"))\n",
    "        lado2 = float(input(\"Introduce el segundo lado: \"))\n",
    "        lado3 = float(input(\"Introduce el tercer lado: \"))\n",
    "        perimetro = lado1 + lado2 + lado3\n",
    "        print(f\"Perímetro del triángulo: {perimetro}\")\n",
    "  \n",
    "\n",
    "        \n",
    "print(\"\\nFin del programa\")"
   ]
  },
  {
   "cell_type": "markdown",
   "metadata": {},
   "source": [
    "###  Ejercicio #5. Suprimiendo vocales y espacios.\n",
    "\n",
    "Implementa un programa que solicite una cadena de texto y  devuelva una copia de esa misma cadena habiendo suprimido las vocales y otra cadena con todas las vocales suprimidas.\n",
    "- Ninguna de las cadenas de salida presentará espacios. \n",
    "- Repite este mismo ejercicio usando las distintas maneras que conoces de recorrer cadenas. \n",
    "\n",
    "\n",
    "\n",
    "\n"
   ]
  },
  {
   "cell_type": "markdown",
   "metadata": {},
   "source": [
    "#### Solución A"
   ]
  },
  {
   "cell_type": "code",
   "execution_count": 9,
   "metadata": {},
   "outputs": [
    {
     "name": "stdout",
     "output_type": "stream",
     "text": [
      "oaeoeuaaeaeeeo\n",
      "Hlstsncdndjmpl\n"
     ]
    }
   ],
   "source": [
    "cadena  = \"Hola esto es una cadena de ejemplo\"\n",
    "vocales = \"aeiou\"\n",
    "espacio = \" \"\n",
    "salida_vocales = \"\"\n",
    "salida_consonantes = \"\"\n",
    "\n",
    "contador = 0 \n",
    "while contador < len(cadena):\n",
    "    contador_vocales = 0\n",
    "    esta_vocal = False\n",
    "    \n",
    "    while contador_vocales < len(vocales) and not esta_vocal:\n",
    "        if cadena[contador] == vocales[contador_vocales]:\n",
    "            esta_vocal = True\n",
    "        contador_vocales += 1\n",
    "        \n",
    "    if esta_vocal:\n",
    "        salida_vocales += cadena[contador]\n",
    "    elif cadena[contador] != espacio:\n",
    "        salida_consonantes += cadena[contador]\n",
    "        \n",
    "    contador += 1\n",
    "        \n",
    "print(salida_vocales)\n",
    "print(salida_consonantes)"
   ]
  },
  {
   "cell_type": "markdown",
   "metadata": {},
   "source": [
    "#### Solución B"
   ]
  },
  {
   "cell_type": "code",
   "execution_count": 13,
   "metadata": {},
   "outputs": [
    {
     "name": "stdout",
     "output_type": "stream",
     "text": [
      "oaeoeuaaeaeeeo\n",
      "Hlstsncdndjmpl\n"
     ]
    }
   ],
   "source": [
    "cadena  = \"Hola esto es una cadena de ejemplo\"\n",
    "vocales = \"aeiou\"\n",
    "espacio = \" \"\n",
    "salida_vocales = \"\"\n",
    "salida_consonantes = \"\"\n",
    "\n",
    "for letra in cadena:\n",
    "    esta_vocal = False\n",
    "    \n",
    "    for vocal in vocales:\n",
    "        if letra == vocal:\n",
    "            esta_vocal = True\n",
    "            \n",
    "    if esta_vocal:\n",
    "        salida_vocales += letra\n",
    "    elif letra != espacio:\n",
    "        salida_consonantes += letra\n",
    "        \n",
    "print(salida_vocales)\n",
    "print(salida_consonantes)"
   ]
  },
  {
   "cell_type": "markdown",
   "metadata": {},
   "source": [
    "#### Solución C"
   ]
  },
  {
   "cell_type": "code",
   "execution_count": 12,
   "metadata": {},
   "outputs": [
    {
     "name": "stdout",
     "output_type": "stream",
     "text": [
      "oaeoeuaaeaeeeo\n",
      "Hlstsncdndjmpl\n"
     ]
    }
   ],
   "source": [
    "cadena  = \"Hola esto es una cadena de ejemplo\"\n",
    "vocales = \"aeiou\"\n",
    "espacio = \" \"\n",
    "salida_vocales = \"\"\n",
    "salida_consonantes = \"\"\n",
    "\n",
    "for letra in cadena:\n",
    "    esta_vocal = False\n",
    "    \n",
    "    if letra in vocales:\n",
    "        salida_vocales += letra\n",
    "    elif letra != espacio:\n",
    "        salida_consonantes += letra\n",
    "        \n",
    "print(salida_vocales)\n",
    "print(salida_consonantes)"
   ]
  },
  {
   "cell_type": "markdown",
   "metadata": {},
   "source": [
    "###  Ejercicio #6. Extrayendo palabrasde un texto\n",
    "\n",
    "Implementa un programa que reciba como entrada una cadena compuesta por varias palabras y espacios y devuelva las palabras en una lista.\n",
    "\n",
    "- No se pueden usar métodos de string."
   ]
  },
  {
   "cell_type": "markdown",
   "metadata": {},
   "source": [
    "#### Solución"
   ]
  },
  {
   "cell_type": "code",
   "execution_count": 18,
   "metadata": {},
   "outputs": [
    {
     "name": "stdout",
     "output_type": "stream",
     "text": [
      "['En', 'un', 'lugar', 'de', 'la', 'Mancha']\n"
     ]
    }
   ],
   "source": [
    "entrada = \"En un lugar de la Mancha\"\n",
    "espacio = \" \"\n",
    "contador = 0 \n",
    "palabras = []\n",
    "\n",
    "palabra = \"\"\n",
    "for letra in entrada:\n",
    "    if letra != espacio:\n",
    "        palabra += letra\n",
    "    else:\n",
    "        palabras.append(palabra)\n",
    "        palabra = \"\"\n",
    "\n",
    "palabras.append(palabra)\n",
    "\n",
    "print(palabras)"
   ]
  },
  {
   "cell_type": "markdown",
   "metadata": {},
   "source": [
    "###  Ejercicio #7. Extrayendo  las palabras de una cadena de texto.\n",
    "\n",
    "Implementa un programa que reciba como entrada una cadena de texto y devuelva una lista donde cada elemento es una palabra de la cadena. \n",
    "- El único método permitido es append()\n",
    "\n"
   ]
  },
  {
   "cell_type": "markdown",
   "metadata": {},
   "source": [
    "#### Solucion"
   ]
  },
  {
   "cell_type": "code",
   "execution_count": 9,
   "metadata": {},
   "outputs": [
    {
     "name": "stdout",
     "output_type": "stream",
     "text": [
      "['Hola', 'esto', 'es', 'una', 'cadena', 'de', 'prueba']\n"
     ]
    }
   ],
   "source": [
    "entrada = \"Hola esto es una cadena de prueba\"\n",
    "espacio = \" \"\n",
    "contador = 0 \n",
    "salida = []\n",
    "palabra = \"\"\n",
    "\n",
    "while contador < len(entrada):\n",
    "    if entrada[contador] != espacio:\n",
    "        palabra += entrada[contador]\n",
    "    else: \n",
    "        indice = contador\n",
    "        salida.append(palabra)\n",
    "        palabra = \"\"\n",
    "    contador += 1\n",
    "\n",
    "#Última palabra\n",
    "palabra = entrada[indice+1: ]\n",
    "salida.append(palabra)\n",
    "\n",
    "print(salida)"
   ]
  },
  {
   "cell_type": "markdown",
   "metadata": {},
   "source": [
    "###  Ejercicio #8. Acrónimo\n",
    "\n",
    "- Implementa un programa que reciba una cadena de texto como entrada y devuelva su acrónimo. \n",
    "- Para ello, validaremos que la **primera** y sólo la **primera** letra de cada palabra es mayúscula. Si esto se cumple, la añadiremos al acrónimo. "
   ]
  },
  {
   "cell_type": "markdown",
   "metadata": {},
   "source": [
    "#### Ejemplo"
   ]
  },
  {
   "cell_type": "code",
   "execution_count": 19,
   "metadata": {},
   "outputs": [],
   "source": [
    "entrada = \"Universidad Pontificia de Comillas ICAI - ICADE\"\n",
    "salida = \"UPCII\""
   ]
  },
  {
   "cell_type": "markdown",
   "metadata": {},
   "source": [
    "#### Solución"
   ]
  },
  {
   "cell_type": "code",
   "execution_count": 21,
   "metadata": {},
   "outputs": [
    {
     "name": "stdout",
     "output_type": "stream",
     "text": [
      "UPCII\n"
     ]
    }
   ],
   "source": [
    "entrada = \"Universidad Pontificia de Comillas ICAI - ICADE\"\n",
    "espacio = \" \"\n",
    "salida = \"\"\n",
    "\n",
    "contador = 0\n",
    "while contador < len(entrada):\n",
    "    if entrada[contador].isupper() and (contador == 0 or entrada[contador-1] == espacio):\n",
    "        salida += entrada[contador]\n",
    "    contador += 1\n",
    "    \n",
    "print(salida)"
   ]
  },
  {
   "cell_type": "markdown",
   "metadata": {},
   "source": [
    "###  Ejercicio #9. Alumnos de una clase y nota media, máxima y mínima.\n",
    "\n",
    "Implementa un programa que calcule la nota media, máxima y mínima de los alumnos de una clase. Para ello, deberás pedir y validar el número de alumnos y la nota obtenida en el último examen, para almacenarla en la lista **notas**.\n",
    "- La lista **alumnos** contendrá el nombre de cada uno de los alumnos y se irá llenando a la vez que la lista notas.\n",
    "- A continuación, calcula la media, la nota máxima y la nota mínima, así como el índice de los alumnos con las notas máximas y mínimas (Para mostrarlo por pantalla). \n"
   ]
  },
  {
   "cell_type": "markdown",
   "metadata": {},
   "source": [
    "#### Restricciones\n",
    "No se pueden usar las funciones sum(), max() y min()."
   ]
  },
  {
   "cell_type": "markdown",
   "metadata": {},
   "source": [
    "#### Solución"
   ]
  },
  {
   "cell_type": "code",
   "execution_count": 22,
   "metadata": {},
   "outputs": [
    {
     "name": "stdout",
     "output_type": "stream",
     "text": [
      "Introduce el número de alumnos de la clase: 0\n"
     ]
    }
   ],
   "source": [
    "numero = int(input(\"Introduce el número de alumnos de la clase: \"))\n",
    "contador = 0 \n",
    "notas = []\n",
    "alumnos = []\n",
    "\n",
    "while contador < numero:\n",
    "    nombre = input(\"Introduce tu nombre: \")\n",
    "    alumnos.append(nombre)\n",
    "    nota = float(input(\"Introduce tu nota:  \"))\n",
    "    notas.append(nota)\n",
    "    \n",
    "    contador += 1"
   ]
  },
  {
   "cell_type": "code",
   "execution_count": 24,
   "metadata": {},
   "outputs": [
    {
     "name": "stdout",
     "output_type": "stream",
     "text": [
      "La nota media es: 5.666666666666667, la máxima 10 y la mínima 1\n",
      "El alumno con la nota máxima es: Lucas\n",
      "El alumno con la nota mínima es: David\n"
     ]
    }
   ],
   "source": [
    "### Cuando funciona, harcodeo la lista notas y alumnos\n",
    "\n",
    "notas = [10, 1, 6]\n",
    "alumnos = [\"Lucas\", \"David\", \"Pablo\"]\n",
    "suma = 0\n",
    "maximo = 0\n",
    "minimo = 10\n",
    "contador = 0 \n",
    "\n",
    "while contador < len(notas):\n",
    "    suma += notas[contador]\n",
    "    \n",
    "    if notas[contador] > maximo:\n",
    "        maximo = notas[contador]\n",
    "        indice_maximo = contador\n",
    "    elif notas[contador] < minimo:\n",
    "        minimo = notas[contador]\n",
    "        indice_minimo = contador\n",
    "        \n",
    "    \n",
    "    contador += 1\n",
    "    \n",
    "media = suma / len(notas)\n",
    "print(f\"La nota media es: {media}, la máxima {maximo} y la mínima {minimo}\")\n",
    "print(f\"El alumno con la nota máxima es: {alumnos[indice_maximo]}\")\n",
    "print(f\"El alumno con la nota mínima es: {alumnos[indice_minimo]}\")"
   ]
  }
 ],
 "metadata": {
  "kernelspec": {
   "display_name": "Python 3 (ipykernel)",
   "language": "python",
   "name": "python3"
  },
  "language_info": {
   "codemirror_mode": {
    "name": "ipython",
    "version": 3
   },
   "file_extension": ".py",
   "mimetype": "text/x-python",
   "name": "python",
   "nbconvert_exporter": "python",
   "pygments_lexer": "ipython3",
   "version": "3.9.13"
  }
 },
 "nbformat": 4,
 "nbformat_minor": 4
}
