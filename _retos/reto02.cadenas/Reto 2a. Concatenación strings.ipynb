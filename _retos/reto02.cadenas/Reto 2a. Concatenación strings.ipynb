{
 "cells": [
  {
   "cell_type": "markdown",
   "metadata": {},
   "source": [
    "# Reto 2. Rendimiento en la concatenación de strings\n",
    "## Enunciado"
   ]
  },
  {
   "cell_type": "markdown",
   "metadata": {},
   "source": [
    "### Ejercicio 1. Ley de los grandes números\n",
    "\n",
    "Demostrad que la probabilidad de tirar un dado y que salga un 1 es 1/6, es decir, 0.16.\n",
    "\n",
    "El código para generar un número aleatorio entre dos números [n, m] es:\n",
    "```python\n",
    "import random\n",
    "random.randint(n, m)\n",
    "```\n",
    "\n",
    "#### Indicad la probabilidad de obtener un 1 tirando un dado...\n",
    "...1, 10, 100, 1.000, 10.000, 100.000 veces."
   ]
  },
  {
   "cell_type": "markdown",
   "metadata": {},
   "source": [
    "#### Solución"
   ]
  },
  {
   "cell_type": "code",
   "execution_count": null,
   "metadata": {},
   "outputs": [],
   "source": []
  }
 ],
 "metadata": {
  "kernelspec": {
   "display_name": "Python 3",
   "language": "python",
   "name": "python3"
  },
  "language_info": {
   "codemirror_mode": {
    "name": "ipython",
    "version": 3
   },
   "file_extension": ".py",
   "mimetype": "text/x-python",
   "name": "python",
   "nbconvert_exporter": "python",
   "pygments_lexer": "ipython3",
   "version": "3.7.6"
  }
 },
 "nbformat": 4,
 "nbformat_minor": 4
}
