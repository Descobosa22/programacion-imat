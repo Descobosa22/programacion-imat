{
 "cells": [
  {
   "cell_type": "markdown",
   "metadata": {},
   "source": [
    "# Incremento #1. Interfaz de usuario"
   ]
  },
  {
   "cell_type": "markdown",
   "metadata": {},
   "source": [
    "## Objetivo\n",
    "\n",
    "Se realizará el interfaz global del juego (más adelante se mejorará), el cual refleja los dos tableros de los jugadores.\n",
    "\n",
    "## Funcionalidad\n",
    "\n",
    "Se deberán crear dos matrices que contendrán la configuración de los barcos del usuario y del oponente. Las matrices de los jugadores solo contendrán las celdas propias del juego, es decir, las posiciones propias de los barcos. No formarán parte de la matriz las etiquetas de las filas ni las columnas (las letras y los números).\n",
    "\n",
    "Las celdas de las matrices podrán contener la siguiente información:\n",
    "- \"··\": Agua\n",
    "- \"##\": Barco \n",
    "- \"\\*\\*\": Barco tocado\n",
    "- \"!!\": Barco hundido\n",
    "- \"++\": Agua en el disparo realizado\n",
    "\n",
    "## Salida\n",
    "\n",
    "Se deberá crear la pantalla del juego con los dos tableros que incorporen una información de ejemplo similando acciones del juego: posición de los barcos, disparos, etc.\n",
    "\n",
    "```\n",
    "            USUARIO                           OPONENTE            \n",
    "\n",
    "   1  2  3  4  5  6  7  8  9 10      1  2  3  4  5  6  7  8  9 10\n",
    "A ## ## ** ## ## ·· ·· ·· ·· ··    A ·· ·· ·· ·· ·· ·· ·· ·· ·· ··\n",
    "B ·· ## ## ## ## ·· ·· ·· !! ··    B ·· ·· ++ ·· ·· ·· ** ** ·· ··\n",
    "C ·· ·· ·· ·· ·· ·· ·· ·· !! ··    C ·· ·· ·· ·· ·· ·· ·· ·· ·· ··\n",
    "D ·· ## ·· ·· ·· ·· ·· ·· ·· ··    D ·· ·· ·· ·· ++ ·· ·· ·· ·· ··\n",
    "E ·· ## ·· ·· ·· ·· ·· ·· ·· ··    E ·· !! !! ·· ·· ·· ·· ·· ·· ··\n",
    "F ·· ** ·· ·· ·· ·· ·· ·· ·· ··    F ·· ·· ·· ·· ·· ·· ·· ·· ·· ··\n",
    "G ·· ·· ·· ·· ·· ·· ·· ·· ·· ··    G ·· ·· ·· ·· ·· ++ ·· ·· ·· ··\n",
    "H ·· ·· ·· ·· ·· ·· ·· ·· ·· ··    H ·· ·· ·· ·· ·· ·· ·· ·· ·· ··\n",
    "I ·· ·· ·· ·· ·· ·· ·· ·· ·· ··    I ·· ·· ·· ·· ·· ·· ·· ·· ·· ··\n",
    "J ·· ·· ·· ·· ·· ·· ·· ·· ·· ··    J ·· ·· ·· ·· ·· ·· ·· ·· ·· ··\n",
    "```\n"
   ]
  },
  {
   "cell_type": "markdown",
   "metadata": {},
   "source": [
    "Más adelante se dará más información sobre la forma y fecha de entrega."
   ]
  },
  {
   "cell_type": "code",
   "execution_count": null,
   "metadata": {},
   "outputs": [],
   "source": []
  }
 ],
 "metadata": {
  "kernelspec": {
   "display_name": "Python 3",
   "language": "python",
   "name": "python3"
  },
  "language_info": {
   "codemirror_mode": {
    "name": "ipython",
    "version": 3
   },
   "file_extension": ".py",
   "mimetype": "text/x-python",
   "name": "python",
   "nbconvert_exporter": "python",
   "pygments_lexer": "ipython3",
   "version": "3.7.6"
  }
 },
 "nbformat": 4,
 "nbformat_minor": 4
}
