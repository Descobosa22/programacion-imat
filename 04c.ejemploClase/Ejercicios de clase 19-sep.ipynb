{
 "cells": [
  {
   "cell_type": "code",
   "execution_count": 25,
   "id": "2b06d824",
   "metadata": {},
   "outputs": [
    {
     "name": "stdout",
     "output_type": "stream",
     "text": [
      "Introduce tu PIN: 1111\n",
      "Buenos días Luis\n"
     ]
    }
   ],
   "source": [
    "pin = input(\"Introduce tu PIN: \")\n",
    "\n",
    "if pin == \"1111\":\n",
    "    print(\"Buenos días Luis\")\n",
    "else:\n",
    "    if pin == \"2222\":\n",
    "        print(\"Buenos días Ana\")"
   ]
  },
  {
   "cell_type": "code",
   "execution_count": 24,
   "id": "b8663e6e",
   "metadata": {},
   "outputs": [
    {
     "name": "stdout",
     "output_type": "stream",
     "text": [
      "mayor que 1000\n"
     ]
    }
   ],
   "source": [
    "numero = 1111\n",
    "numero = numero + 1\n",
    "if numero > 1000:\n",
    "    print(\"mayor que 1000\")\n",
    "    \n",
    "\n",
    "pin = \"z\"\n",
    "if pin == \"1111\":\n",
    "    print(\"mayor que 1000\")"
   ]
  },
  {
   "cell_type": "code",
   "execution_count": 31,
   "id": "32348567",
   "metadata": {},
   "outputs": [
    {
     "name": "stdout",
     "output_type": "stream",
     "text": [
      "Introduce tu PIN: 1111\n",
      "Buenos días Luis\n"
     ]
    }
   ],
   "source": [
    "pin = input(\"Introduce tu PIN: \")\n",
    "\n",
    "if pin == \"1111\":\n",
    "    print(\"Buenos días Luis\")\n",
    "if pin == \"2222\":\n",
    "        print(\"Buenos días Ana\")"
   ]
  },
  {
   "cell_type": "code",
   "execution_count": 30,
   "id": "70793de8",
   "metadata": {},
   "outputs": [
    {
     "name": "stdout",
     "output_type": "stream",
     "text": [
      "Chicos\n",
      "Chicos y acción\n"
     ]
    }
   ],
   "source": [
    "x = \"chicos\"\n",
    "series = \"accion\"\n",
    "if x == \"chicos\":\n",
    "    print(\"Chicos\")\n",
    "    if series == \"accion\":\n",
    "        print(\"Chicos y acción\")"
   ]
  },
  {
   "cell_type": "code",
   "execution_count": 3,
   "id": "2d0bc1eb",
   "metadata": {},
   "outputs": [
    {
     "name": "stdout",
     "output_type": "stream",
     "text": [
      "Guay\n",
      "Me como una manzana\n"
     ]
    }
   ],
   "source": [
    "temperatura = 15\n",
    "if temperatura > 10:\n",
    "    print(\"Guay\")\n",
    "    print(\"Me como una manzana\")\n",
    "else:\n",
    "    print(\"Frío\")\n",
    "    print(\"Me como una manzana\")"
   ]
  },
  {
   "cell_type": "code",
   "execution_count": 2,
   "id": "2bc45f7c",
   "metadata": {},
   "outputs": [
    {
     "name": "stdout",
     "output_type": "stream",
     "text": [
      "Guay\n",
      "Me como una manzana\n"
     ]
    }
   ],
   "source": [
    "temperatura = 15\n",
    "if temperatura > 10:\n",
    "    print(\"Guay\")\n",
    "else:\n",
    "    print(\"Frío\")\n",
    "\n",
    "print(\"Me como una manzana\")"
   ]
  },
  {
   "cell_type": "code",
   "execution_count": 5,
   "id": "75d45081",
   "metadata": {},
   "outputs": [
    {
     "data": {
      "text/plain": [
       "2"
      ]
     },
     "execution_count": 5,
     "metadata": {},
     "output_type": "execute_result"
    }
   ],
   "source": [
    "5 // 2 "
   ]
  },
  {
   "cell_type": "code",
   "execution_count": 11,
   "id": "12b33141",
   "metadata": {},
   "outputs": [
    {
     "name": "stdout",
     "output_type": "stream",
     "text": [
      "Sumatorio: 15\n",
      "Factorial: 120\n"
     ]
    }
   ],
   "source": [
    "numero = 5\n",
    "\n",
    "sumatorio = 0\n",
    "factorial = 1\n",
    "\n",
    "contador = 1\n",
    "while contador < 6:\n",
    "    #print(numero)   \n",
    "    sumatorio = sumatorio + numero\n",
    "    factorial = factorial * numero\n",
    "    \n",
    "    numero = numero - 1\n",
    "    contador = contador + 1\n",
    "\n",
    "    \n",
    "print(\"Sumatorio:\", sumatorio)  \n",
    "print(\"Factorial:\", factorial)  "
   ]
  },
  {
   "cell_type": "code",
   "execution_count": 15,
   "id": "45bc40be",
   "metadata": {},
   "outputs": [
    {
     "name": "stdout",
     "output_type": "stream",
     "text": [
      "Sumatorio: 15\n",
      "Factorial: 120\n"
     ]
    }
   ],
   "source": [
    "numero = 5\n",
    "sumatorio = 0\n",
    "factorial = 1\n",
    "\n",
    "while numero > 0:\n",
    "    sumatorio = sumatorio + numero\n",
    "    factorial = factorial * numero\n",
    "    \n",
    "    numero = numero - 1\n",
    "\n",
    "    \n",
    "print(\"Sumatorio:\", sumatorio)  \n",
    "print(\"Factorial:\", factorial)  "
   ]
  },
  {
   "cell_type": "code",
   "execution_count": 23,
   "id": "7b9538ed",
   "metadata": {},
   "outputs": [
    {
     "name": "stdout",
     "output_type": "stream",
     "text": [
      "1\n",
      "2\n",
      "3\n",
      "4\n",
      "5\n",
      "6\n",
      "7\n",
      "8\n",
      "9\n",
      "10\n",
      "9\n",
      "8\n",
      "7\n",
      "6\n",
      "5\n",
      "4\n",
      "3\n",
      "2\n",
      "1\n"
     ]
    }
   ],
   "source": [
    "contador = 1\n",
    "offset = 1\n",
    "\n",
    "numero_max = 10\n",
    "\n",
    "while contador > 0:\n",
    "    print(contador)\n",
    "    if contador == numero_max: \n",
    "        offset = -1\n",
    "    contador = contador + offset"
   ]
  },
  {
   "cell_type": "code",
   "execution_count": null,
   "id": "03fe005a",
   "metadata": {},
   "outputs": [],
   "source": []
  },
  {
   "cell_type": "code",
   "execution_count": null,
   "id": "72839fe6",
   "metadata": {},
   "outputs": [],
   "source": []
  },
  {
   "cell_type": "code",
   "execution_count": null,
   "id": "196ea13f",
   "metadata": {},
   "outputs": [],
   "source": []
  },
  {
   "cell_type": "code",
   "execution_count": null,
   "id": "5f0bd3ce",
   "metadata": {},
   "outputs": [],
   "source": []
  }
 ],
 "metadata": {
  "kernelspec": {
   "display_name": "Python 3 (ipykernel)",
   "language": "python",
   "name": "python3"
  },
  "language_info": {
   "codemirror_mode": {
    "name": "ipython",
    "version": 3
   },
   "file_extension": ".py",
   "mimetype": "text/x-python",
   "name": "python",
   "nbconvert_exporter": "python",
   "pygments_lexer": "ipython3",
   "version": "3.9.12"
  }
 },
 "nbformat": 4,
 "nbformat_minor": 5
}
