{
 "cells": [
  {
   "cell_type": "code",
   "execution_count": 11,
   "id": "3d4a6fc8",
   "metadata": {},
   "outputs": [],
   "source": [
    "edad = 45"
   ]
  },
  {
   "cell_type": "code",
   "execution_count": 12,
   "id": "153d22e0",
   "metadata": {},
   "outputs": [
    {
     "data": {
      "text/plain": [
       "int"
      ]
     },
     "execution_count": 12,
     "metadata": {},
     "output_type": "execute_result"
    }
   ],
   "source": [
    "type(edad)"
   ]
  },
  {
   "cell_type": "code",
   "execution_count": 15,
   "id": "157173d2",
   "metadata": {},
   "outputs": [],
   "source": [
    "nombre = \"a\""
   ]
  },
  {
   "cell_type": "code",
   "execution_count": 16,
   "id": "919cd345",
   "metadata": {},
   "outputs": [
    {
     "data": {
      "text/plain": [
       "str"
      ]
     },
     "execution_count": 16,
     "metadata": {},
     "output_type": "execute_result"
    }
   ],
   "source": [
    "type(nombre)"
   ]
  },
  {
   "cell_type": "code",
   "execution_count": 18,
   "id": "2303e9e1",
   "metadata": {},
   "outputs": [],
   "source": [
    "temperatura = 23.56"
   ]
  },
  {
   "cell_type": "code",
   "execution_count": 19,
   "id": "5ec57a65",
   "metadata": {},
   "outputs": [
    {
     "data": {
      "text/plain": [
       "float"
      ]
     },
     "execution_count": 19,
     "metadata": {},
     "output_type": "execute_result"
    }
   ],
   "source": [
    "type(temperatura)"
   ]
  },
  {
   "cell_type": "code",
   "execution_count": 25,
   "id": "14abb4b5",
   "metadata": {},
   "outputs": [
    {
     "name": "stdout",
     "output_type": "stream",
     "text": [
      "Dame un numero23\n"
     ]
    }
   ],
   "source": [
    "numero_str = input(\"Dame un numero\")"
   ]
  },
  {
   "cell_type": "code",
   "execution_count": 27,
   "id": "8a4a35ae",
   "metadata": {},
   "outputs": [
    {
     "data": {
      "text/plain": [
       "str"
      ]
     },
     "execution_count": 27,
     "metadata": {},
     "output_type": "execute_result"
    }
   ],
   "source": [
    "type(numero_str)"
   ]
  },
  {
   "cell_type": "code",
   "execution_count": 28,
   "id": "7726e9e1",
   "metadata": {},
   "outputs": [],
   "source": [
    "numero_entero = int(numero_str)"
   ]
  },
  {
   "cell_type": "code",
   "execution_count": 30,
   "id": "6a23d622",
   "metadata": {},
   "outputs": [
    {
     "data": {
      "text/plain": [
       "int"
      ]
     },
     "execution_count": 30,
     "metadata": {},
     "output_type": "execute_result"
    }
   ],
   "source": [
    "type(numero_entero)"
   ]
  },
  {
   "cell_type": "code",
   "execution_count": 31,
   "id": "ed81c21b",
   "metadata": {},
   "outputs": [
    {
     "data": {
      "text/plain": [
       "float"
      ]
     },
     "execution_count": 31,
     "metadata": {},
     "output_type": "execute_result"
    }
   ],
   "source": [
    "numero_float = float(numero_entero)\n",
    "type(numero_float)"
   ]
  },
  {
   "cell_type": "code",
   "execution_count": 32,
   "id": "0a303d85",
   "metadata": {},
   "outputs": [],
   "source": [
    "f1 = 23.6"
   ]
  },
  {
   "cell_type": "code",
   "execution_count": 33,
   "id": "646fd5d7",
   "metadata": {},
   "outputs": [
    {
     "data": {
      "text/plain": [
       "23.6"
      ]
     },
     "execution_count": 33,
     "metadata": {},
     "output_type": "execute_result"
    }
   ],
   "source": [
    "f1"
   ]
  },
  {
   "cell_type": "code",
   "execution_count": 34,
   "id": "01f71ffe",
   "metadata": {},
   "outputs": [
    {
     "data": {
      "text/plain": [
       "23"
      ]
     },
     "execution_count": 34,
     "metadata": {},
     "output_type": "execute_result"
    }
   ],
   "source": [
    "int(f1)"
   ]
  },
  {
   "cell_type": "code",
   "execution_count": 35,
   "id": "61e4ca85",
   "metadata": {},
   "outputs": [
    {
     "data": {
      "text/plain": [
       "12.0"
      ]
     },
     "execution_count": 35,
     "metadata": {},
     "output_type": "execute_result"
    }
   ],
   "source": [
    "float(\"12\")"
   ]
  },
  {
   "cell_type": "code",
   "execution_count": 36,
   "id": "c2fafdf6",
   "metadata": {},
   "outputs": [
    {
     "data": {
      "text/plain": [
       "12.0"
      ]
     },
     "execution_count": 36,
     "metadata": {},
     "output_type": "execute_result"
    }
   ],
   "source": [
    "float(12)"
   ]
  },
  {
   "cell_type": "code",
   "execution_count": 37,
   "id": "30792bd6",
   "metadata": {},
   "outputs": [
    {
     "data": {
      "text/plain": [
       "True"
      ]
     },
     "execution_count": 37,
     "metadata": {},
     "output_type": "execute_result"
    }
   ],
   "source": [
    "True"
   ]
  },
  {
   "cell_type": "code",
   "execution_count": 38,
   "id": "68fff9a5",
   "metadata": {},
   "outputs": [
    {
     "data": {
      "text/plain": [
       "False"
      ]
     },
     "execution_count": 38,
     "metadata": {},
     "output_type": "execute_result"
    }
   ],
   "source": [
    "False"
   ]
  },
  {
   "cell_type": "code",
   "execution_count": 39,
   "id": "2d8ccf78",
   "metadata": {},
   "outputs": [],
   "source": [
    "calor = \"si\""
   ]
  },
  {
   "cell_type": "code",
   "execution_count": 40,
   "id": "c0f01d75",
   "metadata": {},
   "outputs": [],
   "source": [
    "calor = True"
   ]
  },
  {
   "cell_type": "code",
   "execution_count": 42,
   "id": "ba95d89c",
   "metadata": {},
   "outputs": [
    {
     "data": {
      "text/plain": [
       "int"
      ]
     },
     "execution_count": 42,
     "metadata": {},
     "output_type": "execute_result"
    }
   ],
   "source": [
    "type(calor + 1)"
   ]
  },
  {
   "cell_type": "code",
   "execution_count": 43,
   "id": "5d4b9928",
   "metadata": {},
   "outputs": [],
   "source": [
    "b = 1"
   ]
  },
  {
   "cell_type": "code",
   "execution_count": 44,
   "id": "4f1d61bb",
   "metadata": {},
   "outputs": [
    {
     "data": {
      "text/plain": [
       "1"
      ]
     },
     "execution_count": 44,
     "metadata": {},
     "output_type": "execute_result"
    }
   ],
   "source": [
    "b"
   ]
  },
  {
   "cell_type": "code",
   "execution_count": 45,
   "id": "680f7b5a",
   "metadata": {},
   "outputs": [],
   "source": [
    "mi_bool = bool(b)"
   ]
  },
  {
   "cell_type": "code",
   "execution_count": 46,
   "id": "b751f11f",
   "metadata": {},
   "outputs": [
    {
     "data": {
      "text/plain": [
       "True"
      ]
     },
     "execution_count": 46,
     "metadata": {},
     "output_type": "execute_result"
    }
   ],
   "source": [
    "mi_bool"
   ]
  },
  {
   "cell_type": "code",
   "execution_count": 6,
   "id": "96dabea1",
   "metadata": {},
   "outputs": [
    {
     "name": "stdout",
     "output_type": "stream",
     "text": [
      "a es 5\n"
     ]
    }
   ],
   "source": [
    "a = 5\n",
    "if a == 5:\n",
    "    print(\"a es 5\")"
   ]
  },
  {
   "cell_type": "code",
   "execution_count": 7,
   "id": "854d5a02",
   "metadata": {},
   "outputs": [],
   "source": [
    "expresion = a == 5\n",
    "expresion = (a == 5)"
   ]
  },
  {
   "cell_type": "code",
   "execution_count": 8,
   "id": "c74ac6b6",
   "metadata": {},
   "outputs": [
    {
     "data": {
      "text/plain": [
       "True"
      ]
     },
     "execution_count": 8,
     "metadata": {},
     "output_type": "execute_result"
    }
   ],
   "source": [
    "expresion"
   ]
  },
  {
   "cell_type": "code",
   "execution_count": 9,
   "id": "72867a8d",
   "metadata": {},
   "outputs": [
    {
     "data": {
      "text/plain": [
       "True"
      ]
     },
     "execution_count": 9,
     "metadata": {},
     "output_type": "execute_result"
    }
   ],
   "source": [
    "bool(5)"
   ]
  },
  {
   "cell_type": "code",
   "execution_count": 10,
   "id": "a907bae8",
   "metadata": {},
   "outputs": [],
   "source": [
    "a = a > 5\n",
    "if a:\n",
    "    print(\"asasas\")"
   ]
  },
  {
   "cell_type": "code",
   "execution_count": 11,
   "id": "cd39f2bb",
   "metadata": {},
   "outputs": [],
   "source": [
    "# Bucle infinito\n",
    "#while True:\n",
    "#    print(\"a es 5\")"
   ]
  },
  {
   "cell_type": "code",
   "execution_count": 12,
   "id": "af095fc7",
   "metadata": {},
   "outputs": [
    {
     "name": "stdout",
     "output_type": "stream",
     "text": [
      "a es 5\n",
      "a es 5\n",
      "a es 5\n",
      "a es 5\n",
      "a es 5\n"
     ]
    }
   ],
   "source": [
    "cont = 0\n",
    "while cont < 5:\n",
    "    print(\"a es 5\")\n",
    "    cont = cont + 1"
   ]
  },
  {
   "cell_type": "code",
   "execution_count": 3,
   "id": "06e55046",
   "metadata": {},
   "outputs": [],
   "source": [
    "contador = 0\n",
    "contador = contador + 1"
   ]
  },
  {
   "cell_type": "code",
   "execution_count": 4,
   "id": "9b85ed4b",
   "metadata": {},
   "outputs": [
    {
     "data": {
      "text/plain": [
       "1"
      ]
     },
     "execution_count": 4,
     "metadata": {},
     "output_type": "execute_result"
    }
   ],
   "source": [
    "contador"
   ]
  },
  {
   "cell_type": "code",
   "execution_count": null,
   "id": "1dc76838",
   "metadata": {},
   "outputs": [],
   "source": [
    "contador = contador + 1\n",
    "contador += 1"
   ]
  },
  {
   "cell_type": "code",
   "execution_count": 13,
   "id": "54d06f63",
   "metadata": {},
   "outputs": [
    {
     "name": "stdout",
     "output_type": "stream",
     "text": [
      "a es 5\n",
      "a es 5\n",
      "a es 5\n",
      "a es 5\n",
      "a es 5\n"
     ]
    }
   ],
   "source": [
    "cont = 0\n",
    "while cont < 5:\n",
    "    print(\"a es 5\")\n",
    "    cont += 1"
   ]
  },
  {
   "cell_type": "code",
   "execution_count": 16,
   "id": "8ff74a16",
   "metadata": {},
   "outputs": [
    {
     "name": "stdout",
     "output_type": "stream",
     "text": [
      "A\n",
      "B\n",
      "C\n",
      "D\n",
      "E\n",
      "F\n",
      "G\n",
      "H\n",
      "I\n",
      "J\n",
      "K\n",
      "L\n",
      "M\n",
      "N\n",
      "O\n",
      "P\n",
      "Q\n",
      "R\n",
      "S\n",
      "T\n",
      "U\n",
      "V\n",
      "W\n",
      "X\n",
      "Y\n",
      "Z\n"
     ]
    }
   ],
   "source": [
    "cont = 65\n",
    "while cont < 91:\n",
    "    print(chr(cont))\n",
    "    cont += 1"
   ]
  }
 ],
 "metadata": {
  "kernelspec": {
   "display_name": "Python 3 (ipykernel)",
   "language": "python",
   "name": "python3"
  },
  "language_info": {
   "codemirror_mode": {
    "name": "ipython",
    "version": 3
   },
   "file_extension": ".py",
   "mimetype": "text/x-python",
   "name": "python",
   "nbconvert_exporter": "python",
   "pygments_lexer": "ipython3",
   "version": "3.9.13"
  }
 },
 "nbformat": 4,
 "nbformat_minor": 5
}
