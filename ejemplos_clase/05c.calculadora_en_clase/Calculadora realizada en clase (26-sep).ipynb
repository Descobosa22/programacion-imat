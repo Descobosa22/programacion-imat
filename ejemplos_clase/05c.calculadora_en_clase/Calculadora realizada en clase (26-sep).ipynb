{
 "cells": [
  {
   "cell_type": "markdown",
   "id": "05626559",
   "metadata": {},
   "source": [
    "# Calculadora desarrollada en clase de prácticas de forma colaborativa"
   ]
  },
  {
   "cell_type": "code",
   "execution_count": 35,
   "id": "23f0e5bc",
   "metadata": {},
   "outputs": [
    {
     "name": "stdout",
     "output_type": "stream",
     "text": [
      "\n",
      "Menú\n",
      "1. Sumar\n",
      "2. Restar\n",
      "3. Multiplicar\n",
      "5. ABS\n",
      "9. SALIR\n",
      "\n",
      "OPCIÓN: 9\n"
     ]
    }
   ],
   "source": [
    "opcion_entera = 0\n",
    "\n",
    "while opcion_entera != 9:\n",
    "    print()\n",
    "    print(\"Menú\")\n",
    "    print(\"1. Sumar\")\n",
    "    print(\"2. Restar\")\n",
    "    print(\"3. Multiplicar\")\n",
    "    print(\"5. ABS\")\n",
    "    print(\"9. SALIR\")\n",
    "    print()\n",
    "    opcion = input(\"OPCIÓN: \")\n",
    "    # validaciones varias....\n",
    "    opcion_entera = int(opcion)  # +, -, *, %...\n",
    "    \n",
    "    if opcion_entera > 9:\n",
    "        print(\"Opción no válida\")\n",
    "\n",
    "    if opcion_entera < 5:  # +, -, *, %...   \n",
    "        tipo_dato = input(\"Tipo de dato: \")\n",
    "        numero1_str = input(\"Número #1: \")\n",
    "        numero2_str = input(\"Número #2: \")\n",
    "\n",
    "        if tipo_dato == \"int\":\n",
    "            numero1 = int(numero1_str)\n",
    "            numero2 = int(numero2_str)\n",
    "        else: \n",
    "            if tipo_dato == \"float\":\n",
    "                numero1 = float(numero1_str)\n",
    "                numero2 = float(numero2_str)\n",
    "            else: \n",
    "                if tipo_dato == \"complex\":\n",
    "                    numero1 = complex(numero1_str)\n",
    "                    numero2 = complex(numero2_str) \n",
    "\n",
    "        if opcion_entera == 1:  #sumar\n",
    "            resultado = numero1 + numero2\n",
    "            caracter_operacion = \"+\"\n",
    "        else:\n",
    "            if opcion_entera == 2:  #restar\n",
    "                resultado = numero1 - numero2\n",
    "                caracter_operacion = \"-\"  \n",
    "            else:\n",
    "                if opcion_entera == 3:  #multiplicar\n",
    "                    resultado = numero1 * numero2\n",
    "                    caracter_operacion = \"*\"\n",
    "\n",
    "        print(numero1, caracter_operacion, numero2, \"=\", resultado)     \n",
    "    else:  \n",
    "        if opcion_entera == 5:  # abs\n",
    "            numero1_str = input(\"Número #1: \") \n",
    "            numero1 = int(numero1_str)\n",
    "            resultado = abs(numero1)\n",
    "            print(\"El valor absoluto de\", numero1, \"es\", resultado)\n",
    "            \n",
    "            # NO: print(\"El valor absoluto de,\" numero1_str, \"es\", abs(int(numero1_str)))\n",
    "        else:\n",
    "            if opcion_entera == 7:  # char to ascci\n",
    "                char = input(\"Carácter: \") \n",
    "                \n",
    "            "
   ]
  },
  {
   "cell_type": "markdown",
   "id": "a460c356",
   "metadata": {},
   "source": [
    "### Códigos de prueba"
   ]
  },
  {
   "cell_type": "code",
   "execution_count": 17,
   "id": "f72afce5",
   "metadata": {},
   "outputs": [
    {
     "name": "stdout",
     "output_type": "stream",
     "text": [
      "1 + 1 = 2\n"
     ]
    }
   ],
   "source": [
    "a = 1\n",
    "b = 1\n",
    "suma = a + b\n",
    "print(a, \"+\", b, \"=\", suma)"
   ]
  },
  {
   "cell_type": "code",
   "execution_count": 28,
   "id": "7148d00f",
   "metadata": {},
   "outputs": [
    {
     "data": {
      "text/plain": [
       "(8+10j)"
      ]
     },
     "execution_count": 28,
     "metadata": {},
     "output_type": "execute_result"
    }
   ],
   "source": [
    "complex(\"8+10j\")"
   ]
  },
  {
   "cell_type": "code",
   "execution_count": 26,
   "id": "30838ca3",
   "metadata": {},
   "outputs": [
    {
     "data": {
      "text/plain": [
       "(8+10j)"
      ]
     },
     "execution_count": 26,
     "metadata": {},
     "output_type": "execute_result"
    }
   ],
   "source": [
    "10j+8"
   ]
  },
  {
   "cell_type": "code",
   "execution_count": 37,
   "id": "c1d79bfc",
   "metadata": {},
   "outputs": [
    {
     "name": "stdout",
     "output_type": "stream",
     "text": [
      "Número: 5\n",
      "Enhorabuena! Acertaste! Era el 5\n"
     ]
    }
   ],
   "source": [
    "numero_a_adivinar = 5\n",
    "numero_usuario = 0\n",
    "while numero_usuario != numero:\n",
    "    numero_usuario = int(input(\"Número: \"))\n",
    "    \n",
    "print(\"Enhorabuena! Acertaste! Era el\", numero_a_adivinar)"
   ]
  },
  {
   "cell_type": "code",
   "execution_count": 38,
   "id": "8443e7c3",
   "metadata": {},
   "outputs": [
    {
     "name": "stdout",
     "output_type": "stream",
     "text": [
      "5.0\n"
     ]
    }
   ],
   "source": [
    "a = 3\n",
    "b = 2\n",
    "if True:\n",
    "    x = float(a)\n",
    "    y = float(b)\n",
    "    print(x + y)\n",
    "else:\n",
    "    x = int(a)\n",
    "    y = int(b)\n",
    "    print(x + y)"
   ]
  },
  {
   "cell_type": "code",
   "execution_count": 39,
   "id": "a3786c6e",
   "metadata": {},
   "outputs": [
    {
     "name": "stdout",
     "output_type": "stream",
     "text": [
      "5.0\n"
     ]
    }
   ],
   "source": [
    "a = 3\n",
    "b = 2\n",
    "if True:\n",
    "    x = float(a)\n",
    "    y = float(b)\n",
    "else:\n",
    "    x = int(a)\n",
    "    y = int(b)\n",
    "\n",
    "print(x + y)"
   ]
  },
  {
   "cell_type": "code",
   "execution_count": null,
   "id": "1b941a7d",
   "metadata": {},
   "outputs": [],
   "source": []
  }
 ],
 "metadata": {
  "kernelspec": {
   "display_name": "Python 3 (ipykernel)",
   "language": "python",
   "name": "python3"
  },
  "language_info": {
   "codemirror_mode": {
    "name": "ipython",
    "version": 3
   },
   "file_extension": ".py",
   "mimetype": "text/x-python",
   "name": "python",
   "nbconvert_exporter": "python",
   "pygments_lexer": "ipython3",
   "version": "3.9.12"
  }
 },
 "nbformat": 4,
 "nbformat_minor": 5
}
