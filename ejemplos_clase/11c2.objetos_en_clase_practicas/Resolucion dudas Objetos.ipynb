{
 "cells": [
  {
   "cell_type": "markdown",
   "id": "47c92fa1",
   "metadata": {},
   "source": [
    "### Dudas de replace"
   ]
  },
  {
   "cell_type": "code",
   "execution_count": 1,
   "id": "6daf66a8",
   "metadata": {},
   "outputs": [
    {
     "name": "stdout",
     "output_type": "stream",
     "text": [
      "1,3\n"
     ]
    }
   ],
   "source": [
    "s = \"    1   , 3    \"\n",
    "print(s.replace(\" \", \"\"))"
   ]
  },
  {
   "cell_type": "markdown",
   "id": "8c05a5c6",
   "metadata": {},
   "source": [
    "### Solución sin objetos"
   ]
  },
  {
   "cell_type": "code",
   "execution_count": 2,
   "id": "d6a40d35",
   "metadata": {},
   "outputs": [
    {
     "name": "stdout",
     "output_type": "stream",
     "text": [
      "Vacía\n",
      "un Cliente\n",
      "un Uber\n"
     ]
    }
   ],
   "source": [
    "lista = [\"....\", \"c...\", \"u...\"]\n",
    "for en_plan in lista:\n",
    "    if en_plan[0] == \"u\":\n",
    "        print(\"un Uber\")\n",
    "    elif en_plan[0] == \"c\":\n",
    "        print(\"un Cliente\")\n",
    "    else:\n",
    "        print(\"Vacía\")"
   ]
  },
  {
   "cell_type": "markdown",
   "id": "04811059",
   "metadata": {},
   "source": [
    "### Solución con objetos"
   ]
  },
  {
   "cell_type": "code",
   "execution_count": 3,
   "id": "c78a490e",
   "metadata": {},
   "outputs": [],
   "source": [
    "class Uber: \n",
    "    def __init__(self, x, y):\n",
    "        self.x = x\n",
    "        self.y = y"
   ]
  },
  {
   "cell_type": "code",
   "execution_count": 4,
   "id": "0340681b",
   "metadata": {},
   "outputs": [
    {
     "name": "stdout",
     "output_type": "stream",
     "text": [
      "....\n",
      "....\n",
      "<__main__.Uber object at 0x000001C72371FE80>\n"
     ]
    }
   ],
   "source": [
    "uber1 = Uber(1, 1)\n",
    "lista = [\"....\", \"....\", uber1]\n",
    "\n",
    "for elemento in lista:\n",
    "    print(elemento)"
   ]
  },
  {
   "cell_type": "code",
   "execution_count": 5,
   "id": "da1c7873",
   "metadata": {},
   "outputs": [],
   "source": [
    "class Uber: \n",
    "    def __init__(self, x, y):\n",
    "        self.x = x\n",
    "        self.y = y"
   ]
  },
  {
   "cell_type": "code",
   "execution_count": 6,
   "id": "e7ab52ba",
   "metadata": {},
   "outputs": [
    {
     "name": "stdout",
     "output_type": "stream",
     "text": [
      "<class 'str'>\n",
      "....\n",
      "<class 'str'>\n",
      "....\n",
      "<class '__main__.Uber'>\n",
      "(1, 1)\n"
     ]
    }
   ],
   "source": [
    "uber1 = Uber(1, 1)\n",
    "lista = [\"....\", \"....\", uber1]\n",
    "\n",
    "for elemento in lista:\n",
    "    print(type(elemento))\n",
    "    if type(elemento) == Uber:\n",
    "        print(f\"({elemento.x}, {elemento.y})\")\n",
    "    else:\n",
    "        print(elemento)"
   ]
  },
  {
   "cell_type": "code",
   "execution_count": 7,
   "id": "9351d122",
   "metadata": {},
   "outputs": [],
   "source": [
    "class Uber:\n",
    "    def __init__(self, x, y):\n",
    "        self.x = x\n",
    "        self.y = y\n",
    "\n",
    "    def mostrar(self):\n",
    "        return f\"({self.x}, {self.y})\""
   ]
  },
  {
   "cell_type": "code",
   "execution_count": 8,
   "id": "41625177",
   "metadata": {},
   "outputs": [
    {
     "name": "stdout",
     "output_type": "stream",
     "text": [
      "<class 'str'>\n",
      "....\n",
      "<class 'str'>\n",
      "....\n",
      "<class '__main__.Uber'>\n",
      "(12, 12)\n"
     ]
    }
   ],
   "source": [
    "uber1 = Uber(12, 12)\n",
    "lista = [\"....\", \"....\", uber1]\n",
    "\n",
    "for elemento in lista:\n",
    "    print(type(elemento))\n",
    "    if type(elemento) == Uber:\n",
    "        print(elemento.mostrar())\n",
    "    else:\n",
    "        print(elemento)"
   ]
  },
  {
   "cell_type": "code",
   "execution_count": 9,
   "id": "799648df",
   "metadata": {},
   "outputs": [],
   "source": [
    "class Uber:\n",
    "    def __init__(self, x, y):\n",
    "        self.x = x\n",
    "        self.y = y\n",
    "\n",
    "    def __str__(self):\n",
    "        return f\"({self.x}, {self.y})\""
   ]
  },
  {
   "cell_type": "code",
   "execution_count": 10,
   "id": "216858ba",
   "metadata": {},
   "outputs": [
    {
     "name": "stdout",
     "output_type": "stream",
     "text": [
      "....\n",
      "....\n",
      "(12, 12)\n"
     ]
    }
   ],
   "source": [
    "uber1 = Uber(12, 12)\n",
    "lista = [\"....\", \"....\", uber1]\n",
    "\n",
    "for elemento in lista:\n",
    "    print(elemento)"
   ]
  },
  {
   "cell_type": "code",
   "execution_count": 11,
   "id": "949fcc37",
   "metadata": {},
   "outputs": [
    {
     "name": "stdout",
     "output_type": "stream",
     "text": [
      "Ana y estoy en (1, 1)\n",
      "Luis y estoy en (2, 2)\n",
      "(2, 2) llevando a Ana y estoy en (1, 1)\n"
     ]
    }
   ],
   "source": [
    "class Uber: \n",
    "    def __init__(self, x, y):\n",
    "        self.x = x\n",
    "        self.y = y\n",
    "        self.cliente = None\n",
    "        \n",
    "    def is_libre(self):\n",
    "        if self.cliente == None:\n",
    "            return True\n",
    "        else:\n",
    "            return False\n",
    "            \n",
    "    def buscar_cliente(self):\n",
    "        pass \n",
    "        \n",
    "    def recoger_cliente(self, cliente):\n",
    "        self.cliente = cliente\n",
    "        \n",
    "    def __str__(self):\n",
    "        return f\"({self.x}, {self.y}) llevando a {self.cliente}\"\n",
    "\n",
    "class Cliente:\n",
    "    def __init__(self, nombre, x, y):\n",
    "        self.x = x\n",
    "        self.y = y       \n",
    "        self.nombre = nombre\n",
    "        \n",
    "    def __str__(self):\n",
    "        return f\"{self.nombre} y estoy en ({self.x}, {self.y})\"\n",
    "\n",
    "\"\"\"\n",
    "Main\n",
    "\"\"\"\n",
    "if __name__ == \"__main__\":\n",
    "    FILAS = 5\n",
    "    COLUMNAS = 5\n",
    "    uber1 = Uber(2, 2)\n",
    "    cliente1 = Cliente(\"Ana\", 1, 1)\n",
    "    uber2 = Uber(1, 1)\n",
    "    cliente2 = Cliente(\"Luis\", 2, 2)\n",
    "\n",
    "    print(cliente1)\n",
    "    print(cliente2)\n",
    "\n",
    "    uber1.cliente = cliente1\n",
    "    uber1.recoger_cliente(cliente1)    \n",
    "    print(uber1)"
   ]
  },
  {
   "cell_type": "code",
   "execution_count": null,
   "id": "ea1a85bc",
   "metadata": {},
   "outputs": [],
   "source": []
  }
 ],
 "metadata": {
  "kernelspec": {
   "display_name": "Python 3 (ipykernel)",
   "language": "python",
   "name": "python3"
  },
  "language_info": {
   "codemirror_mode": {
    "name": "ipython",
    "version": 3
   },
   "file_extension": ".py",
   "mimetype": "text/x-python",
   "name": "python",
   "nbconvert_exporter": "python",
   "pygments_lexer": "ipython3",
   "version": "3.9.13"
  }
 },
 "nbformat": 4,
 "nbformat_minor": 5
}
