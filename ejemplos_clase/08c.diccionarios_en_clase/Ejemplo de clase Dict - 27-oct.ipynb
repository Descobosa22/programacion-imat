{
 "cells": [
  {
   "cell_type": "markdown",
   "id": "e5cb8e00",
   "metadata": {},
   "source": [
    "# Tuplas"
   ]
  },
  {
   "cell_type": "code",
   "execution_count": 54,
   "id": "98b18952",
   "metadata": {},
   "outputs": [
    {
     "name": "stdout",
     "output_type": "stream",
     "text": [
      "Ana 18 1\n"
     ]
    }
   ],
   "source": [
    "nombres = [\"Ana\", \"Luis\", \"Javier\"]\n",
    "edades = [18, 22, 33]\n",
    "dnis = [1, 2, 3]\n",
    "\n",
    "print(nombres[0], edades[0], dnis[0])"
   ]
  },
  {
   "cell_type": "markdown",
   "id": "d0ce63bc",
   "metadata": {},
   "source": [
    "El siguiente código no es una buena recomendación, ya que las listas son mutables y dinámicas, pueden crecer..."
   ]
  },
  {
   "cell_type": "code",
   "execution_count": 55,
   "id": "a5d43740",
   "metadata": {},
   "outputs": [
    {
     "name": "stdout",
     "output_type": "stream",
     "text": [
      "['Ana', 18, 1]\n",
      "Ana\n"
     ]
    }
   ],
   "source": [
    "personas = [[\"Ana\", 18, 1],\n",
    "            [\"Luis\", 22, 2],\n",
    "            [\"Javier\", 33, 3]\n",
    "           ]\n",
    "persona = personas[0]\n",
    "print(persona)\n",
    "print(persona[0])"
   ]
  },
  {
   "cell_type": "code",
   "execution_count": 59,
   "id": "50b98a43",
   "metadata": {},
   "outputs": [
    {
     "data": {
      "text/plain": [
       "[1]"
      ]
     },
     "execution_count": 59,
     "metadata": {},
     "output_type": "execute_result"
    }
   ],
   "source": [
    "lista = []\n",
    "lista.append(1)\n",
    "lista"
   ]
  },
  {
   "cell_type": "markdown",
   "id": "087b85e5",
   "metadata": {},
   "source": [
    "Para estos casos, mejor utilizar las tuplas:"
   ]
  },
  {
   "cell_type": "code",
   "execution_count": 6,
   "id": "a7aa1919",
   "metadata": {},
   "outputs": [
    {
     "name": "stdout",
     "output_type": "stream",
     "text": [
      "<class 'tuple'>\n",
      "('Ana', 18, 1)\n",
      "Ana\n"
     ]
    }
   ],
   "source": [
    "personas = [(\"Ana\", 18, 1),\n",
    "            (\"Luis\", 22, 2),\n",
    "            (\"Javier\", 33, 3)\n",
    "           ]\n",
    "\n",
    "tupla = personas[0]\n",
    "print(type(tupla))\n",
    "print(tupla)\n",
    "print(tupla[0])\n"
   ]
  },
  {
   "cell_type": "code",
   "execution_count": 11,
   "id": "09562280",
   "metadata": {},
   "outputs": [],
   "source": [
    "nombre, edad, dni = tupla"
   ]
  },
  {
   "cell_type": "code",
   "execution_count": 12,
   "id": "b8978983",
   "metadata": {},
   "outputs": [
    {
     "data": {
      "text/plain": [
       "'Ana'"
      ]
     },
     "execution_count": 12,
     "metadata": {},
     "output_type": "execute_result"
    }
   ],
   "source": [
    "nombre"
   ]
  },
  {
   "cell_type": "code",
   "execution_count": 13,
   "id": "92e965ce",
   "metadata": {},
   "outputs": [
    {
     "data": {
      "text/plain": [
       "18"
      ]
     },
     "execution_count": 13,
     "metadata": {},
     "output_type": "execute_result"
    }
   ],
   "source": [
    "edad"
   ]
  },
  {
   "cell_type": "code",
   "execution_count": 14,
   "id": "7fc6ea38",
   "metadata": {},
   "outputs": [
    {
     "data": {
      "text/plain": [
       "1"
      ]
     },
     "execution_count": 14,
     "metadata": {},
     "output_type": "execute_result"
    }
   ],
   "source": [
    "dni"
   ]
  },
  {
   "cell_type": "markdown",
   "id": "443bfcea",
   "metadata": {},
   "source": [
    "El mejor caso de uso:"
   ]
  },
  {
   "cell_type": "code",
   "execution_count": 15,
   "id": "9c0bafa1",
   "metadata": {},
   "outputs": [
    {
     "data": {
      "text/plain": [
       "12"
      ]
     },
     "execution_count": 15,
     "metadata": {},
     "output_type": "execute_result"
    }
   ],
   "source": [
    "coordenadas = (12, 34, 1)\n",
    "x, y, z = coordenadas\n",
    "x"
   ]
  },
  {
   "cell_type": "code",
   "execution_count": 57,
   "id": "c50213d7",
   "metadata": {},
   "outputs": [
    {
     "data": {
      "text/plain": [
       "1"
      ]
     },
     "execution_count": 57,
     "metadata": {},
     "output_type": "execute_result"
    }
   ],
   "source": [
    "coordenadas.count(12)"
   ]
  },
  {
   "cell_type": "code",
   "execution_count": 58,
   "id": "1ab71654",
   "metadata": {},
   "outputs": [
    {
     "data": {
      "text/plain": [
       "0"
      ]
     },
     "execution_count": 58,
     "metadata": {},
     "output_type": "execute_result"
    }
   ],
   "source": [
    "coordenadas.index(12)"
   ]
  },
  {
   "cell_type": "markdown",
   "id": "d241d679",
   "metadata": {},
   "source": [
    "# Diccionarios"
   ]
  },
  {
   "cell_type": "code",
   "execution_count": 41,
   "id": "b03d1402",
   "metadata": {},
   "outputs": [],
   "source": [
    "coches = dict()\n",
    "coches = {}"
   ]
  },
  {
   "cell_type": "code",
   "execution_count": 42,
   "id": "35b2b06d",
   "metadata": {},
   "outputs": [],
   "source": [
    "coches = {\"Luis\": \"Seat\",\n",
    "          \"Ana\": \"VW\"}"
   ]
  },
  {
   "cell_type": "code",
   "execution_count": 43,
   "id": "c4b77d3d",
   "metadata": {},
   "outputs": [
    {
     "data": {
      "text/plain": [
       "{'Luis': 'Seat', 'Ana': 'VW'}"
      ]
     },
     "execution_count": 43,
     "metadata": {},
     "output_type": "execute_result"
    }
   ],
   "source": [
    "coches"
   ]
  },
  {
   "cell_type": "markdown",
   "id": "89886fb8",
   "metadata": {},
   "source": [
    "Luis cambia de coche"
   ]
  },
  {
   "cell_type": "code",
   "execution_count": 44,
   "id": "410ca07f",
   "metadata": {},
   "outputs": [],
   "source": [
    "coches[\"Luis\"] = \"BMW\""
   ]
  },
  {
   "cell_type": "markdown",
   "id": "1b698342",
   "metadata": {},
   "source": [
    "Lucía se compra un coche nuevo, no existía en el dict"
   ]
  },
  {
   "cell_type": "code",
   "execution_count": 46,
   "id": "79b7267e",
   "metadata": {},
   "outputs": [],
   "source": [
    "coches[\"Lucia\"] = \"Mini\""
   ]
  },
  {
   "cell_type": "code",
   "execution_count": 47,
   "id": "30ce5ed3",
   "metadata": {},
   "outputs": [
    {
     "data": {
      "text/plain": [
       "{'Luis': 'BMW', 'Ana': 'VW', 'Lucia': 'Mini'}"
      ]
     },
     "execution_count": 47,
     "metadata": {},
     "output_type": "execute_result"
    }
   ],
   "source": [
    "coches"
   ]
  },
  {
   "cell_type": "code",
   "execution_count": 37,
   "id": "a72bdeb3",
   "metadata": {},
   "outputs": [
    {
     "name": "stdout",
     "output_type": "stream",
     "text": [
      "Nombre:Luis\n"
     ]
    },
    {
     "data": {
      "text/plain": [
       "'Seat'"
      ]
     },
     "execution_count": 37,
     "metadata": {},
     "output_type": "execute_result"
    }
   ],
   "source": [
    "nombre = input(\"Nombre:\")\n",
    "coches[nombre]"
   ]
  },
  {
   "cell_type": "code",
   "execution_count": 60,
   "id": "fbb9fdfa",
   "metadata": {},
   "outputs": [],
   "source": [
    "notas = {\"Luis\": [1,2, 3,5],\n",
    "          \"Ana\": [10, 8, 9, 10]}"
   ]
  },
  {
   "cell_type": "code",
   "execution_count": 61,
   "id": "cf09e6ab",
   "metadata": {},
   "outputs": [],
   "source": [
    "notas_luis = notas[\"Luis\"]"
   ]
  },
  {
   "cell_type": "code",
   "execution_count": 62,
   "id": "b5a380cf",
   "metadata": {},
   "outputs": [
    {
     "data": {
      "text/plain": [
       "5"
      ]
     },
     "execution_count": 62,
     "metadata": {},
     "output_type": "execute_result"
    }
   ],
   "source": [
    "notas_luis[3]"
   ]
  },
  {
   "cell_type": "code",
   "execution_count": 63,
   "id": "6275120e",
   "metadata": {},
   "outputs": [
    {
     "data": {
      "text/plain": [
       "[10, 8, 9, 10]"
      ]
     },
     "execution_count": 63,
     "metadata": {},
     "output_type": "execute_result"
    }
   ],
   "source": [
    "notas[\"Ana\"]"
   ]
  },
  {
   "cell_type": "markdown",
   "id": "a2ae2563",
   "metadata": {},
   "source": [
    "## Conjuntos"
   ]
  },
  {
   "cell_type": "code",
   "execution_count": 68,
   "id": "a5b624e6",
   "metadata": {},
   "outputs": [],
   "source": [
    "conjunto1 = {1, 2, 3}\n",
    "conjunto2 = {3, 4, 5}"
   ]
  },
  {
   "cell_type": "code",
   "execution_count": 70,
   "id": "1eae8c8d",
   "metadata": {},
   "outputs": [
    {
     "data": {
      "text/plain": [
       "set"
      ]
     },
     "execution_count": 70,
     "metadata": {},
     "output_type": "execute_result"
    }
   ],
   "source": [
    "type(conjunto1)"
   ]
  },
  {
   "cell_type": "code",
   "execution_count": 74,
   "id": "5a84bce8",
   "metadata": {},
   "outputs": [
    {
     "data": {
      "text/plain": [
       "{1, 2, 3, 4, 5}"
      ]
     },
     "execution_count": 74,
     "metadata": {},
     "output_type": "execute_result"
    }
   ],
   "source": [
    "conjunto1.union(conjunto2)"
   ]
  },
  {
   "cell_type": "code",
   "execution_count": 73,
   "id": "1a0388da",
   "metadata": {},
   "outputs": [
    {
     "data": {
      "text/plain": [
       "{3}"
      ]
     },
     "execution_count": 73,
     "metadata": {},
     "output_type": "execute_result"
    }
   ],
   "source": [
    "conjunto1.intersection(conjunto2)"
   ]
  },
  {
   "cell_type": "code",
   "execution_count": null,
   "id": "5e844671",
   "metadata": {},
   "outputs": [],
   "source": []
  }
 ],
 "metadata": {
  "kernelspec": {
   "display_name": "Python 3 (ipykernel)",
   "language": "python",
   "name": "python3"
  },
  "language_info": {
   "codemirror_mode": {
    "name": "ipython",
    "version": 3
   },
   "file_extension": ".py",
   "mimetype": "text/x-python",
   "name": "python",
   "nbconvert_exporter": "python",
   "pygments_lexer": "ipython3",
   "version": "3.9.13"
  }
 },
 "nbformat": 4,
 "nbformat_minor": 5
}
