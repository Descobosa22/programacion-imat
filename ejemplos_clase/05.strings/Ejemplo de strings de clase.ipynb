{
 "cells": [
  {
   "cell_type": "code",
   "execution_count": 64,
   "id": "fdb6e193",
   "metadata": {},
   "outputs": [],
   "source": [
    "emoji = 0x0001F601"
   ]
  },
  {
   "cell_type": "code",
   "execution_count": 65,
   "id": "70826782",
   "metadata": {},
   "outputs": [
    {
     "name": "stdout",
     "output_type": "stream",
     "text": [
      "😁\n",
      "😂\n",
      "😃\n",
      "😄\n",
      "😅\n",
      "😆\n",
      "😇\n",
      "😈\n",
      "😉\n",
      "😊\n",
      "😋\n",
      "😌\n",
      "😍\n",
      "😎\n",
      "😏\n",
      "😐\n",
      "😑\n",
      "😒\n",
      "😓\n",
      "😔\n"
     ]
    }
   ],
   "source": [
    "contador = 0\n",
    "while contador < 20:\n",
    "    print(chr(emoji))\n",
    "    emoji += 1\n",
    "    contador += 1"
   ]
  },
  {
   "cell_type": "code",
   "execution_count": 63,
   "id": "113069a4",
   "metadata": {},
   "outputs": [
    {
     "data": {
      "text/plain": [
       "'😈'"
      ]
     },
     "execution_count": 63,
     "metadata": {},
     "output_type": "execute_result"
    }
   ],
   "source": [
    "chr(a)"
   ]
  },
  {
   "cell_type": "code",
   "execution_count": 48,
   "id": "fea893bd",
   "metadata": {},
   "outputs": [
    {
     "data": {
      "text/plain": [
       "'A'"
      ]
     },
     "execution_count": 48,
     "metadata": {},
     "output_type": "execute_result"
    }
   ],
   "source": [
    "chr(65)"
   ]
  },
  {
   "cell_type": "code",
   "execution_count": null,
   "id": "e98900e1",
   "metadata": {},
   "outputs": [],
   "source": []
  },
  {
   "cell_type": "code",
   "execution_count": 43,
   "id": "529443eb",
   "metadata": {},
   "outputs": [
    {
     "data": {
      "text/plain": [
       "'😁'"
      ]
     },
     "execution_count": 43,
     "metadata": {},
     "output_type": "execute_result"
    }
   ],
   "source": [
    "\"\\U0001F601\""
   ]
  },
  {
   "cell_type": "code",
   "execution_count": 39,
   "id": "2722f48e",
   "metadata": {},
   "outputs": [
    {
     "data": {
      "text/plain": [
       "'h'"
      ]
     },
     "execution_count": 39,
     "metadata": {},
     "output_type": "execute_result"
    }
   ],
   "source": [
    "\"\\u0068\""
   ]
  },
  {
   "cell_type": "code",
   "execution_count": 40,
   "id": "48130bfe",
   "metadata": {},
   "outputs": [
    {
     "data": {
      "text/plain": [
       "104"
      ]
     },
     "execution_count": 40,
     "metadata": {},
     "output_type": "execute_result"
    }
   ],
   "source": [
    "0x0068"
   ]
  },
  {
   "cell_type": "code",
   "execution_count": 41,
   "id": "870a7b9d",
   "metadata": {},
   "outputs": [
    {
     "data": {
      "text/plain": [
       "'0x68'"
      ]
     },
     "execution_count": 41,
     "metadata": {},
     "output_type": "execute_result"
    }
   ],
   "source": [
    "hex(104)"
   ]
  },
  {
   "cell_type": "code",
   "execution_count": 42,
   "id": "91ba0c34",
   "metadata": {},
   "outputs": [
    {
     "data": {
      "text/plain": [
       "'0b1101000'"
      ]
     },
     "execution_count": 42,
     "metadata": {},
     "output_type": "execute_result"
    }
   ],
   "source": [
    "bin(104)"
   ]
  },
  {
   "cell_type": "code",
   "execution_count": 69,
   "id": "8ebfd251",
   "metadata": {},
   "outputs": [],
   "source": [
    "nombre = \"Manuel alias \\\"el friki\\\"\""
   ]
  },
  {
   "cell_type": "code",
   "execution_count": 70,
   "id": "98f00912",
   "metadata": {},
   "outputs": [
    {
     "data": {
      "text/plain": [
       "'Manuel alias \"el friki\"'"
      ]
     },
     "execution_count": 70,
     "metadata": {},
     "output_type": "execute_result"
    }
   ],
   "source": [
    "nombre"
   ]
  },
  {
   "cell_type": "code",
   "execution_count": 68,
   "id": "3f0eadf4",
   "metadata": {},
   "outputs": [
    {
     "data": {
      "text/plain": [
       "'u0001F601'"
      ]
     },
     "execution_count": 68,
     "metadata": {},
     "output_type": "execute_result"
    }
   ],
   "source": [
    "\"u0001F601\""
   ]
  },
  {
   "cell_type": "code",
   "execution_count": 73,
   "id": "1cb06ba0",
   "metadata": {},
   "outputs": [
    {
     "name": "stdout",
     "output_type": "stream",
     "text": [
      "C\\ el pez, 34\n"
     ]
    }
   ],
   "source": [
    "print(\"C\\\\ el pez, 34\")"
   ]
  },
  {
   "cell_type": "code",
   "execution_count": 78,
   "id": "63675632",
   "metadata": {},
   "outputs": [
    {
     "name": "stdout",
     "output_type": "stream",
     "text": [
      "Luis 😁 \"el friki\"\n",
      "Valladolid \t(Castilla León)\n",
      "C\\ el pez, 34\n"
     ]
    }
   ],
   "source": [
    "print(\"Luis \\U0001F601 \\\"el friki\\\"\\nValladolid \\t(Castilla León)\\nC\\\\ el pez, 34\")"
   ]
  },
  {
   "cell_type": "code",
   "execution_count": 79,
   "id": "82133edf",
   "metadata": {},
   "outputs": [],
   "source": [
    "texto = \"Edad: \" + str(33)"
   ]
  },
  {
   "cell_type": "code",
   "execution_count": 80,
   "id": "0655669c",
   "metadata": {},
   "outputs": [
    {
     "data": {
      "text/plain": [
       "str"
      ]
     },
     "execution_count": 80,
     "metadata": {},
     "output_type": "execute_result"
    }
   ],
   "source": [
    "type(texto)"
   ]
  },
  {
   "cell_type": "code",
   "execution_count": 81,
   "id": "2c7f76c2",
   "metadata": {},
   "outputs": [
    {
     "data": {
      "text/plain": [
       "'23'"
      ]
     },
     "execution_count": 81,
     "metadata": {},
     "output_type": "execute_result"
    }
   ],
   "source": [
    "str(23)"
   ]
  },
  {
   "cell_type": "markdown",
   "id": "88c05d5c",
   "metadata": {},
   "source": [
    "### Métodos"
   ]
  },
  {
   "cell_type": "code",
   "execution_count": 87,
   "id": "1af8c343",
   "metadata": {},
   "outputs": [
    {
     "data": {
      "text/plain": [
       "'Hola Esto Es Una Prueba'"
      ]
     },
     "execution_count": 87,
     "metadata": {},
     "output_type": "execute_result"
    }
   ],
   "source": [
    "# Métodos\n",
    "texto = \"Hola esto es una prueba\"\n",
    "texto.title()"
   ]
  },
  {
   "cell_type": "code",
   "execution_count": 88,
   "id": "9f418f48",
   "metadata": {},
   "outputs": [
    {
     "name": "stdout",
     "output_type": "stream",
     "text": [
      "Dime tu nombre: aa\n"
     ]
    },
    {
     "data": {
      "text/plain": [
       "'aa'"
      ]
     },
     "execution_count": 88,
     "metadata": {},
     "output_type": "execute_result"
    }
   ],
   "source": [
    "input(\"Dime tu nombre: \")"
   ]
  },
  {
   "cell_type": "code",
   "execution_count": 89,
   "id": "09daa26f",
   "metadata": {},
   "outputs": [
    {
     "data": {
      "text/plain": [
       "'HOLA ESTO ES UNA PRUEBA'"
      ]
     },
     "execution_count": 89,
     "metadata": {},
     "output_type": "execute_result"
    }
   ],
   "source": [
    "texto.upper()"
   ]
  },
  {
   "cell_type": "code",
   "execution_count": 92,
   "id": "f1007dc3",
   "metadata": {},
   "outputs": [],
   "source": [
    "j = 1\n",
    "nombre = \"adda\" + str(232)\n",
    "a = 3"
   ]
  },
  {
   "cell_type": "code",
   "execution_count": 155,
   "id": "5f1605e0",
   "metadata": {},
   "outputs": [
    {
     "name": "stdout",
     "output_type": "stream",
     "text": [
      "Dime tu nombre:  Luis\n"
     ]
    },
    {
     "data": {
      "text/plain": [
       "'Luis'"
      ]
     },
     "execution_count": 155,
     "metadata": {},
     "output_type": "execute_result"
    }
   ],
   "source": [
    "nombre = input(\"Dime tu nombre:\")\n",
    "nombre.strip()"
   ]
  },
  {
   "cell_type": "code",
   "execution_count": 94,
   "id": "0f832dc2",
   "metadata": {},
   "outputs": [
    {
     "data": {
      "text/plain": [
       "2"
      ]
     },
     "execution_count": 94,
     "metadata": {},
     "output_type": "execute_result"
    }
   ],
   "source": [
    "texto = \"abcdeabc\"\n",
    "texto.count(\"ab\")"
   ]
  },
  {
   "cell_type": "code",
   "execution_count": 103,
   "id": "57ac4bd3",
   "metadata": {},
   "outputs": [
    {
     "data": {
      "text/plain": [
       "-1"
      ]
     },
     "execution_count": 103,
     "metadata": {},
     "output_type": "execute_result"
    }
   ],
   "source": [
    "texto = \"abcdceabc\"\n",
    "texto.find(\"A\")"
   ]
  },
  {
   "cell_type": "code",
   "execution_count": 105,
   "id": "9c5893e4",
   "metadata": {},
   "outputs": [
    {
     "data": {
      "text/plain": [
       "2"
      ]
     },
     "execution_count": 105,
     "metadata": {},
     "output_type": "execute_result"
    }
   ],
   "source": [
    "texto = \"abcDceabc\".lower()\n",
    "texto.find(\"c\".lower())"
   ]
  },
  {
   "cell_type": "code",
   "execution_count": 106,
   "id": "3e73a8e3",
   "metadata": {},
   "outputs": [
    {
     "data": {
      "text/plain": [
       "8"
      ]
     },
     "execution_count": 106,
     "metadata": {},
     "output_type": "execute_result"
    }
   ],
   "source": [
    "texto.rfind(\"c\")"
   ]
  },
  {
   "cell_type": "code",
   "execution_count": 99,
   "id": "15c44677",
   "metadata": {},
   "outputs": [
    {
     "data": {
      "text/plain": [
       "8"
      ]
     },
     "execution_count": 99,
     "metadata": {},
     "output_type": "execute_result"
    }
   ],
   "source": [
    "len(texto)"
   ]
  },
  {
   "cell_type": "code",
   "execution_count": 107,
   "id": "eebbf934",
   "metadata": {},
   "outputs": [
    {
     "data": {
      "text/plain": [
       "3"
      ]
     },
     "execution_count": 107,
     "metadata": {},
     "output_type": "execute_result"
    }
   ],
   "source": [
    "texto.count(\"c\")"
   ]
  },
  {
   "cell_type": "code",
   "execution_count": 111,
   "id": "bb976c6b",
   "metadata": {},
   "outputs": [
    {
     "name": "stdout",
     "output_type": "stream",
     "text": [
      "a\n",
      "b\n",
      "c\n",
      "d\n"
     ]
    }
   ],
   "source": [
    "texto = \"abcd\"\n",
    "print(texto[0])\n",
    "print(texto[1])\n",
    "print(texto[2])\n",
    "print(texto[3])"
   ]
  },
  {
   "cell_type": "code",
   "execution_count": 112,
   "id": "1462740f",
   "metadata": {},
   "outputs": [
    {
     "ename": "IndexError",
     "evalue": "string index out of range",
     "output_type": "error",
     "traceback": [
      "\u001b[1;31m---------------------------------------------------------------------------\u001b[0m",
      "\u001b[1;31mIndexError\u001b[0m                                Traceback (most recent call last)",
      "\u001b[1;32m~\\AppData\\Local\\Temp\\ipykernel_2896\\93497752.py\u001b[0m in \u001b[0;36m<module>\u001b[1;34m\u001b[0m\n\u001b[1;32m----> 1\u001b[1;33m \u001b[0mprint\u001b[0m\u001b[1;33m(\u001b[0m\u001b[0mtexto\u001b[0m\u001b[1;33m[\u001b[0m\u001b[1;36m4\u001b[0m\u001b[1;33m]\u001b[0m\u001b[1;33m)\u001b[0m\u001b[1;33m\u001b[0m\u001b[1;33m\u001b[0m\u001b[0m\n\u001b[0m",
      "\u001b[1;31mIndexError\u001b[0m: string index out of range"
     ]
    }
   ],
   "source": [
    "print(texto[4])"
   ]
  },
  {
   "cell_type": "code",
   "execution_count": 118,
   "id": "4243cc5c",
   "metadata": {},
   "outputs": [
    {
     "name": "stdout",
     "output_type": "stream",
     "text": [
      "abcabca\n",
      "3\n"
     ]
    }
   ],
   "source": [
    "texto = \"abcabca\"\n",
    "print(texto)\n",
    "cuenta_a = 0\n",
    "index = 0\n",
    "while index < len(texto):\n",
    "    #print(texto[index])\n",
    "    if texto[index] == \"a\":\n",
    "        cuenta_a += 1\n",
    "    index += 1\n",
    "\n",
    "print(cuenta_a)"
   ]
  },
  {
   "cell_type": "code",
   "execution_count": 119,
   "id": "34f80133",
   "metadata": {},
   "outputs": [
    {
     "data": {
      "text/plain": [
       "'abcabca'"
      ]
     },
     "execution_count": 119,
     "metadata": {},
     "output_type": "execute_result"
    }
   ],
   "source": [
    "texto"
   ]
  },
  {
   "cell_type": "markdown",
   "id": "385b39dd",
   "metadata": {},
   "source": [
    "### Slicing"
   ]
  },
  {
   "cell_type": "code",
   "execution_count": 121,
   "id": "45d3ffde",
   "metadata": {},
   "outputs": [
    {
     "data": {
      "text/plain": [
       "'abcd'"
      ]
     },
     "execution_count": 121,
     "metadata": {},
     "output_type": "execute_result"
    }
   ],
   "source": [
    "texto = \"abcd\"\n",
    "texto[0:4]"
   ]
  },
  {
   "cell_type": "code",
   "execution_count": 127,
   "id": "c46ca281",
   "metadata": {},
   "outputs": [
    {
     "data": {
      "text/plain": [
       "'ac'"
      ]
     },
     "execution_count": 127,
     "metadata": {},
     "output_type": "execute_result"
    }
   ],
   "source": [
    "texto[0:4:2]"
   ]
  },
  {
   "cell_type": "code",
   "execution_count": 128,
   "id": "4bdea709",
   "metadata": {},
   "outputs": [
    {
     "data": {
      "text/plain": [
       "'ac'"
      ]
     },
     "execution_count": 128,
     "metadata": {},
     "output_type": "execute_result"
    }
   ],
   "source": [
    "texto[::2]"
   ]
  },
  {
   "cell_type": "code",
   "execution_count": 131,
   "id": "115651b8",
   "metadata": {},
   "outputs": [
    {
     "data": {
      "text/plain": [
       "'c'"
      ]
     },
     "execution_count": 131,
     "metadata": {},
     "output_type": "execute_result"
    }
   ],
   "source": [
    "texto[2::2]"
   ]
  },
  {
   "cell_type": "code",
   "execution_count": 130,
   "id": "37b2014e",
   "metadata": {},
   "outputs": [
    {
     "data": {
      "text/plain": [
       "'dcba'"
      ]
     },
     "execution_count": 130,
     "metadata": {},
     "output_type": "execute_result"
    }
   ],
   "source": [
    "texto[::-1]"
   ]
  },
  {
   "cell_type": "code",
   "execution_count": 133,
   "id": "6d78771b",
   "metadata": {},
   "outputs": [
    {
     "data": {
      "text/plain": [
       "'abcd'"
      ]
     },
     "execution_count": 133,
     "metadata": {},
     "output_type": "execute_result"
    }
   ],
   "source": [
    "texto"
   ]
  },
  {
   "cell_type": "code",
   "execution_count": 132,
   "id": "6c696716",
   "metadata": {},
   "outputs": [
    {
     "data": {
      "text/plain": [
       "'d'"
      ]
     },
     "execution_count": 132,
     "metadata": {},
     "output_type": "execute_result"
    }
   ],
   "source": [
    "texto[-1]"
   ]
  },
  {
   "cell_type": "code",
   "execution_count": 134,
   "id": "6f719dd9",
   "metadata": {},
   "outputs": [
    {
     "data": {
      "text/plain": [
       "-1"
      ]
     },
     "execution_count": 134,
     "metadata": {},
     "output_type": "execute_result"
    }
   ],
   "source": [
    "texto.find(\"x\")"
   ]
  },
  {
   "cell_type": "code",
   "execution_count": 135,
   "id": "7c77b8c7",
   "metadata": {},
   "outputs": [
    {
     "data": {
      "text/plain": [
       "'d'"
      ]
     },
     "execution_count": 135,
     "metadata": {},
     "output_type": "execute_result"
    }
   ],
   "source": [
    "texto[-1]"
   ]
  },
  {
   "cell_type": "code",
   "execution_count": 137,
   "id": "9e924203",
   "metadata": {},
   "outputs": [
    {
     "data": {
      "text/plain": [
       "'ab'"
      ]
     },
     "execution_count": 137,
     "metadata": {},
     "output_type": "execute_result"
    }
   ],
   "source": [
    "texto[0:2]"
   ]
  },
  {
   "cell_type": "code",
   "execution_count": 138,
   "id": "e1b24426",
   "metadata": {},
   "outputs": [
    {
     "data": {
      "text/plain": [
       "'ab'"
      ]
     },
     "execution_count": 138,
     "metadata": {},
     "output_type": "execute_result"
    }
   ],
   "source": [
    "texto[:2]"
   ]
  },
  {
   "cell_type": "code",
   "execution_count": 139,
   "id": "2ff22733",
   "metadata": {},
   "outputs": [
    {
     "data": {
      "text/plain": [
       "'cd'"
      ]
     },
     "execution_count": 139,
     "metadata": {},
     "output_type": "execute_result"
    }
   ],
   "source": [
    "texto[len(texto)-2:]"
   ]
  },
  {
   "cell_type": "code",
   "execution_count": 140,
   "id": "2e51af5e",
   "metadata": {},
   "outputs": [
    {
     "data": {
      "text/plain": [
       "'abcd'"
      ]
     },
     "execution_count": 140,
     "metadata": {},
     "output_type": "execute_result"
    }
   ],
   "source": [
    "texto"
   ]
  },
  {
   "cell_type": "code",
   "execution_count": 141,
   "id": "40f3c62f",
   "metadata": {},
   "outputs": [
    {
     "data": {
      "text/plain": [
       "'d'"
      ]
     },
     "execution_count": 141,
     "metadata": {},
     "output_type": "execute_result"
    }
   ],
   "source": [
    "texto[3]"
   ]
  },
  {
   "cell_type": "code",
   "execution_count": 146,
   "id": "b8f4621e",
   "metadata": {},
   "outputs": [
    {
     "data": {
      "text/plain": [
       "'dcb'"
      ]
     },
     "execution_count": 146,
     "metadata": {},
     "output_type": "execute_result"
    }
   ],
   "source": [
    "texto[3:0:-1]"
   ]
  },
  {
   "cell_type": "code",
   "execution_count": 149,
   "id": "f70658fd",
   "metadata": {},
   "outputs": [
    {
     "name": "stdout",
     "output_type": "stream",
     "text": [
      "12\n",
      "34\n",
      "56\n"
     ]
    }
   ],
   "source": [
    "texto = \"1234567890\"\n",
    "print(texto[0:2])\n",
    "print(texto[2:4])\n",
    "print(texto[4:6])"
   ]
  },
  {
   "cell_type": "code",
   "execution_count": 151,
   "id": "3349d9f3",
   "metadata": {},
   "outputs": [
    {
     "name": "stdout",
     "output_type": "stream",
     "text": [
      "La suma de 2 + 3 es 5\n"
     ]
    }
   ],
   "source": [
    "x = 2\n",
    "y = 3\n",
    "suma = x + y\n",
    "print(\"La suma de\", x, \"+\", y, \"es\", suma)"
   ]
  },
  {
   "cell_type": "code",
   "execution_count": 152,
   "id": "3d21a129",
   "metadata": {},
   "outputs": [
    {
     "name": "stdout",
     "output_type": "stream",
     "text": [
      "La suma de x + y es suma\n"
     ]
    }
   ],
   "source": [
    "print(\"La suma de x + y es suma\")"
   ]
  },
  {
   "cell_type": "code",
   "execution_count": 154,
   "id": "3df7e01d",
   "metadata": {},
   "outputs": [
    {
     "name": "stdout",
     "output_type": "stream",
     "text": [
      "La suma de 2 + 3 es 5\n"
     ]
    }
   ],
   "source": [
    "print(f\"La suma de {x} + {y} es {suma}\")"
   ]
  },
  {
   "cell_type": "code",
   "execution_count": null,
   "id": "d4ff5944",
   "metadata": {},
   "outputs": [],
   "source": []
  }
 ],
 "metadata": {
  "kernelspec": {
   "display_name": "Python 3 (ipykernel)",
   "language": "python",
   "name": "python3"
  },
  "language_info": {
   "codemirror_mode": {
    "name": "ipython",
    "version": 3
   },
   "file_extension": ".py",
   "mimetype": "text/x-python",
   "name": "python",
   "nbconvert_exporter": "python",
   "pygments_lexer": "ipython3",
   "version": "3.9.13"
  }
 },
 "nbformat": 4,
 "nbformat_minor": 5
}
