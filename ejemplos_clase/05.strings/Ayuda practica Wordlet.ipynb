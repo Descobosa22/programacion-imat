{
 "cells": [
  {
   "cell_type": "code",
   "execution_count": 48,
   "id": "cde20d32",
   "metadata": {},
   "outputs": [
    {
     "name": "stdout",
     "output_type": "stream",
     "text": [
      "Palabra: arbol\n",
      "\u001b[1;42m A \u001b[0m \u001b[0;47m R \u001b[0m \u001b[0;41m B \u001b[0m \u001b[0;47m O \u001b[0m \u001b[0;47m L \u001b[0m \n",
      "\n",
      "\u001b[0;47m   \u001b[0m \u001b[0;47m   \u001b[0m \u001b[0;47m   \u001b[0m \u001b[0;47m   \u001b[0m \u001b[0;47m   \u001b[0m \n",
      "\n",
      "\u001b[0;47m   \u001b[0m \u001b[0;47m   \u001b[0m \u001b[0;47m   \u001b[0m \u001b[0;47m   \u001b[0m \u001b[0;47m   \u001b[0m \n",
      "\n",
      "\u001b[0;47m   \u001b[0m \u001b[0;47m   \u001b[0m \u001b[0;47m   \u001b[0m \u001b[0;47m   \u001b[0m \u001b[0;47m   \u001b[0m \n",
      "\n",
      "\u001b[0;47m   \u001b[0m \u001b[0;47m   \u001b[0m \u001b[0;47m   \u001b[0m \u001b[0;47m   \u001b[0m \u001b[0;47m   \u001b[0m \n",
      "\n"
     ]
    }
   ],
   "source": [
    "GRIS = \"\\033[0;47m\"\n",
    "VERDE = \"\\033[1;42m\"\n",
    "ROJO = \"\\033[0;41m\"\n",
    "DEFECTO = \"\\033[0m\"\n",
    "\n",
    "INTENTOS = 5\n",
    "\n",
    "usuario = input(\"Palabra: \")\n",
    "usuario = usuario.upper()\n",
    "palabra_ganadora = \"abcde\".upper()\n",
    "\n",
    "i = 0\n",
    "while i < len(palabra_ganadora)*INTENTOS:\n",
    "    if i < len(usuario):\n",
    "        if palabra_ganadora[i] == usuario[i]:\n",
    "            print(f\"{VERDE} {usuario[i]} {DEFECTO} \", end = \"\")\n",
    "        else:\n",
    "            j = 0\n",
    "            letra_esta = False\n",
    "            while j < len(palabra_ganadora):\n",
    "                if usuario[i] == palabra_ganadora[j]:\n",
    "                    letra_esta = True\n",
    "                j += 1\n",
    "            if letra_esta:\n",
    "                print(f\"{ROJO} {usuario[i]} {DEFECTO} \", end = \"\")\n",
    "            else:\n",
    "                print(f\"{GRIS} {usuario[i]} {DEFECTO} \", end = \"\")\n",
    "    else:\n",
    "        print(f\"{GRIS}   {DEFECTO} \", end = \"\")\n",
    "    i += 1\n",
    "    if i % 5 == 0:\n",
    "        print(\"\\n\")\n"
   ]
  },
  {
   "cell_type": "code",
   "execution_count": 11,
   "id": "3cd5f7ae",
   "metadata": {},
   "outputs": [
    {
     "name": "stdout",
     "output_type": "stream",
     "text": [
      "aaa"
     ]
    }
   ],
   "source": [
    "print(\"a\", end = \"\")\n",
    "print(\"a\", end = \"\")\n",
    "print(\"a\", end = \"\")"
   ]
  }
 ],
 "metadata": {
  "kernelspec": {
   "display_name": "Python 3 (ipykernel)",
   "language": "python",
   "name": "python3"
  },
  "language_info": {
   "codemirror_mode": {
    "name": "ipython",
    "version": 3
   },
   "file_extension": ".py",
   "mimetype": "text/x-python",
   "name": "python",
   "nbconvert_exporter": "python",
   "pygments_lexer": "ipython3",
   "version": "3.9.13"
  }
 },
 "nbformat": 4,
 "nbformat_minor": 5
}
