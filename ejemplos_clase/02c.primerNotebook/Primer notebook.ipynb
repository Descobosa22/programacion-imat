{
 "cells": [
  {
   "cell_type": "markdown",
   "id": "8d1a0541",
   "metadata": {},
   "source": [
    "# Primer notebook\n",
    "## Programando en Python"
   ]
  },
  {
   "cell_type": "code",
   "execution_count": 1,
   "id": "5a0b1dc2",
   "metadata": {},
   "outputs": [
    {
     "data": {
      "text/plain": [
       "4"
      ]
     },
     "execution_count": 1,
     "metadata": {},
     "output_type": "execute_result"
    }
   ],
   "source": [
    "2 + 2"
   ]
  },
  {
   "cell_type": "code",
   "execution_count": 2,
   "id": "21f007ca",
   "metadata": {},
   "outputs": [
    {
     "data": {
      "text/plain": [
       "6"
      ]
     },
     "execution_count": 2,
     "metadata": {},
     "output_type": "execute_result"
    }
   ],
   "source": [
    "2 * 3"
   ]
  },
  {
   "cell_type": "code",
   "execution_count": 3,
   "id": "cb234ee0",
   "metadata": {},
   "outputs": [
    {
     "data": {
      "text/plain": [
       "1024"
      ]
     },
     "execution_count": 3,
     "metadata": {},
     "output_type": "execute_result"
    }
   ],
   "source": [
    "2 ** 10"
   ]
  },
  {
   "cell_type": "code",
   "execution_count": 4,
   "id": "83dae3d6",
   "metadata": {},
   "outputs": [
    {
     "name": "stdout",
     "output_type": "stream",
     "text": [
      "Cómo te llamas?David\n"
     ]
    },
    {
     "data": {
      "text/plain": [
       "'David'"
      ]
     },
     "execution_count": 4,
     "metadata": {},
     "output_type": "execute_result"
    }
   ],
   "source": [
    "input(\"Cómo te llamas?\")"
   ]
  },
  {
   "cell_type": "code",
   "execution_count": 5,
   "id": "4c8203b6",
   "metadata": {},
   "outputs": [
    {
     "name": "stdout",
     "output_type": "stream",
     "text": [
      "Hola mundo\n"
     ]
    }
   ],
   "source": [
    "print(\"Hola mundo\")"
   ]
  },
  {
   "cell_type": "code",
   "execution_count": 11,
   "id": "8450cefe",
   "metadata": {},
   "outputs": [
    {
     "name": "stdout",
     "output_type": "stream",
     "text": [
      "18\n"
     ]
    }
   ],
   "source": [
    "print(18)"
   ]
  },
  {
   "cell_type": "code",
   "execution_count": 15,
   "id": "d8e5ca5c",
   "metadata": {},
   "outputs": [],
   "source": [
    "edad = 22"
   ]
  },
  {
   "cell_type": "code",
   "execution_count": 16,
   "id": "c2730099",
   "metadata": {},
   "outputs": [
    {
     "name": "stdout",
     "output_type": "stream",
     "text": [
      "22\n"
     ]
    }
   ],
   "source": [
    "print(edad)"
   ]
  },
  {
   "cell_type": "code",
   "execution_count": 7,
   "id": "c562bb55",
   "metadata": {},
   "outputs": [],
   "source": [
    "nombre = \"Luis\""
   ]
  },
  {
   "cell_type": "code",
   "execution_count": 8,
   "id": "bddcceb6",
   "metadata": {},
   "outputs": [],
   "source": [
    "temperatura = -23"
   ]
  },
  {
   "cell_type": "code",
   "execution_count": 20,
   "id": "08759659",
   "metadata": {},
   "outputs": [
    {
     "name": "stdout",
     "output_type": "stream",
     "text": [
      "Cómo te llamas?Raquel\n"
     ]
    }
   ],
   "source": [
    "nombre = input(\"Cómo te llamas?\")"
   ]
  },
  {
   "cell_type": "code",
   "execution_count": 21,
   "id": "494529a8",
   "metadata": {},
   "outputs": [
    {
     "name": "stdout",
     "output_type": "stream",
     "text": [
      "Raquel\n"
     ]
    }
   ],
   "source": [
    "print(nombre)"
   ]
  },
  {
   "cell_type": "code",
   "execution_count": 26,
   "id": "43c36745",
   "metadata": {},
   "outputs": [],
   "source": [
    "a = 1"
   ]
  },
  {
   "cell_type": "code",
   "execution_count": 27,
   "id": "4a282d8e",
   "metadata": {},
   "outputs": [],
   "source": [
    "b = 2"
   ]
  },
  {
   "cell_type": "code",
   "execution_count": 24,
   "id": "926fded9",
   "metadata": {},
   "outputs": [
    {
     "data": {
      "text/plain": [
       "5"
      ]
     },
     "execution_count": 24,
     "metadata": {},
     "output_type": "execute_result"
    }
   ],
   "source": [
    "2 + 3"
   ]
  },
  {
   "cell_type": "code",
   "execution_count": 28,
   "id": "11008c7a",
   "metadata": {},
   "outputs": [
    {
     "data": {
      "text/plain": [
       "3"
      ]
     },
     "execution_count": 28,
     "metadata": {},
     "output_type": "execute_result"
    }
   ],
   "source": [
    "a + b"
   ]
  },
  {
   "cell_type": "code",
   "execution_count": 29,
   "id": "a00aee31",
   "metadata": {},
   "outputs": [],
   "source": [
    "c = 2"
   ]
  },
  {
   "cell_type": "code",
   "execution_count": 30,
   "id": "b48a142b",
   "metadata": {},
   "outputs": [
    {
     "data": {
      "text/plain": [
       "1.5"
      ]
     },
     "execution_count": 30,
     "metadata": {},
     "output_type": "execute_result"
    }
   ],
   "source": [
    "(a + b) / 2"
   ]
  },
  {
   "cell_type": "code",
   "execution_count": 31,
   "id": "50ce58d8",
   "metadata": {},
   "outputs": [],
   "source": [
    "edad = 12"
   ]
  },
  {
   "cell_type": "code",
   "execution_count": 36,
   "id": "74a00de9",
   "metadata": {},
   "outputs": [],
   "source": [
    "edad = 12\n",
    "nombre = \"Luis\"\n",
    "curso = 1\n",
    "\n",
    "curso = curso + 1\n",
    "\n",
    "print(edad + 1)\n",
    "print(curso)\n",
    "\n",
    "print(edad)"
   ]
  },
  {
   "cell_type": "code",
   "execution_count": 46,
   "id": "38e6f25f",
   "metadata": {},
   "outputs": [
    {
     "name": "stdout",
     "output_type": "stream",
     "text": [
      "No te puedes ir\n",
      "No te puedes ir\n"
     ]
    }
   ],
   "source": [
    "edad = 12\n",
    "nombre = \"Luis\"\n",
    "curso = 3\n",
    "\n",
    "if curso >= 4:\n",
    "    print(\"Intercambio OK\")\n",
    "else:\n",
    "    print(\"No te puedes ir\")\n",
    "    \n",
    "if curso > 3:\n",
    "    print(\"Intercambio OK\")\n",
    "else:\n",
    "    print(\"No te puedes ir\")"
   ]
  },
  {
   "cell_type": "code",
   "execution_count": null,
   "id": "51102e43",
   "metadata": {},
   "outputs": [],
   "source": []
  }
 ],
 "metadata": {
  "kernelspec": {
   "display_name": "Python 3 (ipykernel)",
   "language": "python",
   "name": "python3"
  },
  "language_info": {
   "codemirror_mode": {
    "name": "ipython",
    "version": 3
   },
   "file_extension": ".py",
   "mimetype": "text/x-python",
   "name": "python",
   "nbconvert_exporter": "python",
   "pygments_lexer": "ipython3",
   "version": "3.9.12"
  }
 },
 "nbformat": 4,
 "nbformat_minor": 5
}
