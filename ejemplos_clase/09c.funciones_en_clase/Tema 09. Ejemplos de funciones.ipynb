{
 "cells": [
  {
   "cell_type": "markdown",
   "id": "d36e4704",
   "metadata": {},
   "source": [
    "# 9. Ejemplos de funciones"
   ]
  },
  {
   "cell_type": "markdown",
   "id": "bd3e7746",
   "metadata": {},
   "source": [
    "## 9.1 Funciones del lenguaje"
   ]
  },
  {
   "cell_type": "code",
   "execution_count": 28,
   "id": "30251a4d",
   "metadata": {},
   "outputs": [
    {
     "name": "stdout",
     "output_type": "stream",
     "text": [
      "Hola\n",
      "\n",
      "5\n",
      "2\n"
     ]
    }
   ],
   "source": [
    "print(\"Hola\")\n",
    "print()\n",
    "valor_aboluto = abs(-5)\n",
    "valor_entero = int(\"2\")\n",
    "print(valor_aboluto)\n",
    "print(valor_entero)"
   ]
  },
  {
   "cell_type": "code",
   "execution_count": 27,
   "id": "8ecd5825",
   "metadata": {},
   "outputs": [
    {
     "name": "stdout",
     "output_type": "stream",
     "text": [
      "<built-in function print>\n"
     ]
    }
   ],
   "source": [
    "valor = print  # A las funciones nunca las llamaremos sin los paréntesis\n",
    "print(valor)"
   ]
  },
  {
   "cell_type": "markdown",
   "id": "c5acc8d0",
   "metadata": {},
   "source": [
    "## 9.2 Funciones básicas"
   ]
  },
  {
   "cell_type": "markdown",
   "id": "9c317e3a",
   "metadata": {},
   "source": [
    "### Sin parámetros ni return"
   ]
  },
  {
   "cell_type": "code",
   "execution_count": 12,
   "id": "aa0731b5",
   "metadata": {},
   "outputs": [
    {
     "name": "stdout",
     "output_type": "stream",
     "text": [
      "Hola Mundo!\n"
     ]
    }
   ],
   "source": [
    "def hola_mundo():\n",
    "    print(\"Hola Mundo!\")\n",
    "\n",
    "hola_mundo()"
   ]
  },
  {
   "cell_type": "markdown",
   "id": "21304946",
   "metadata": {},
   "source": [
    "### Con parámetros no return"
   ]
  },
  {
   "cell_type": "code",
   "execution_count": 13,
   "id": "95a96982",
   "metadata": {},
   "outputs": [
    {
     "name": "stdout",
     "output_type": "stream",
     "text": [
      "Hola Luis\n"
     ]
    }
   ],
   "source": [
    "def saludar(nombre):\n",
    "    print(f\"Hola {nombre}\")\n",
    "\n",
    "saludar(\"Luis\")"
   ]
  },
  {
   "cell_type": "markdown",
   "id": "5bd70c42",
   "metadata": {},
   "source": [
    "### Con parámetros y con return"
   ]
  },
  {
   "cell_type": "code",
   "execution_count": 14,
   "id": "303ed360",
   "metadata": {},
   "outputs": [
    {
     "data": {
      "text/plain": [
       "5"
      ]
     },
     "execution_count": 14,
     "metadata": {},
     "output_type": "execute_result"
    }
   ],
   "source": [
    "def sumar(x, y):\n",
    "    return x + y\n",
    "\n",
    "sumar(2, 3)"
   ]
  },
  {
   "cell_type": "markdown",
   "id": "ac6379be",
   "metadata": {},
   "source": [
    "## 9.3 Ámbito de las funciones"
   ]
  },
  {
   "cell_type": "markdown",
   "id": "76ad0bed",
   "metadata": {},
   "source": [
    "### Sin parámetros"
   ]
  },
  {
   "cell_type": "code",
   "execution_count": 15,
   "id": "a8ad6968",
   "metadata": {},
   "outputs": [
    {
     "name": "stdout",
     "output_type": "stream",
     "text": [
      "a en f1(): 1\n",
      "a en f2(): 2\n",
      "a en programa principal: 3\n"
     ]
    }
   ],
   "source": [
    "def f1():\n",
    "    a = 1\n",
    "    print(f\"a en f1(): {a}\")\n",
    "    \n",
    "def f2():\n",
    "    a = 2\n",
    "    print(f\"a en f2(): {a}\")\n",
    "\n",
    "a = 3\n",
    "f1()\n",
    "f2()\n",
    "print(f\"a en programa principal: {a}\")"
   ]
  },
  {
   "cell_type": "markdown",
   "id": "ab2d843d",
   "metadata": {},
   "source": [
    "### Con parámetros"
   ]
  },
  {
   "cell_type": "code",
   "execution_count": 11,
   "id": "5c2fb8b9",
   "metadata": {},
   "outputs": [
    {
     "name": "stdout",
     "output_type": "stream",
     "text": [
      "a en f1(): 4\n",
      "a en f2(): 5\n",
      "a en programa principal: 3\n"
     ]
    }
   ],
   "source": [
    "def f1(a):\n",
    "    a += 1\n",
    "    print(f\"a en f1(): {a}\")\n",
    "    \n",
    "def f2(a):\n",
    "    a += 2\n",
    "    print(f\"a en f2(): {a}\")\n",
    "\n",
    "a = 3\n",
    "f1(a)\n",
    "f2(a)\n",
    "print(f\"a en programa principal: {a}\")"
   ]
  },
  {
   "cell_type": "markdown",
   "id": "f5d3ecf0",
   "metadata": {},
   "source": [
    "## 9.4 Ejemplo completo \n",
    "### Modularizando..."
   ]
  },
  {
   "cell_type": "code",
   "execution_count": 35,
   "id": "0edc5d48",
   "metadata": {},
   "outputs": [
    {
     "name": "stdout",
     "output_type": "stream",
     "text": [
      "6\n",
      "10\n",
      "9\n",
      "mostrar_resultado\n"
     ]
    }
   ],
   "source": [
    "def mostrar_resultado(x, y, z):\n",
    "    print(x)\n",
    "    print(y)\n",
    "    print(z)\n",
    "    print(\"mostrar_resultado\")  \n",
    "    \n",
    "def f1():\n",
    "    x1 = 2\n",
    "    x2 = 4\n",
    "    a = x1 + x2\n",
    "    variable_b = 12\n",
    "    return a\n",
    "\n",
    "def f2():\n",
    "    x1 = 5\n",
    "    x2 = 5\n",
    "    b = x1 + x2\n",
    "    return b\n",
    "\n",
    "def f3():\n",
    "    x1 = 1\n",
    "    x2 = 8\n",
    "    c = x1 + x2\n",
    "    return c\n",
    "\n",
    "# Programa principal\n",
    "variable_b = 45\n",
    "resultado1 = f1()\n",
    "resultado2 = f2()\n",
    "resultado3 = f3()\n",
    "\n",
    "mostrar_resultado(resultado1, resultado2, resultado3)\n",
    "#mostrar_resultado(f1(), f2(), f3()) # También se podría trabajar así, aunque no se recomienda"
   ]
  },
  {
   "cell_type": "markdown",
   "id": "2af7a439",
   "metadata": {},
   "source": [
    "### Reutilizando..."
   ]
  },
  {
   "cell_type": "code",
   "execution_count": 31,
   "id": "d6224dba",
   "metadata": {},
   "outputs": [
    {
     "name": "stdout",
     "output_type": "stream",
     "text": [
      "6\n",
      "10\n",
      "9\n"
     ]
    }
   ],
   "source": [
    "def mostrar_resultado(x):\n",
    "    print(x)\n",
    "    \n",
    "def f1(x1, x2):\n",
    "    a = x1 + x2\n",
    "    return a\n",
    "\n",
    "# Programa principal\n",
    "resultado1 = f1(2, 4)\n",
    "resultado2 = f1(5, 5)\n",
    "resultado3 = f1(1, 8)\n",
    "\n",
    "mostrar_resultado(resultado1)\n",
    "mostrar_resultado(resultado2)\n",
    "mostrar_resultado(resultado3)"
   ]
  },
  {
   "cell_type": "markdown",
   "id": "ccde3e4d",
   "metadata": {},
   "source": [
    "### Refinando..."
   ]
  },
  {
   "cell_type": "code",
   "execution_count": 34,
   "id": "090e27f4",
   "metadata": {},
   "outputs": [
    {
     "name": "stdout",
     "output_type": "stream",
     "text": [
      "6\n",
      "10\n",
      "9\n"
     ]
    }
   ],
   "source": [
    "def mostrar_resultado(x):\n",
    "    \"\"\"\n",
    "    Muesta una valor por pantalla\n",
    "    \n",
    "    Args:\n",
    "        x (*): un valor a mostrar\n",
    "    \"\"\"\n",
    "    print(x)\n",
    "    \n",
    "def f1(x1, x2):\n",
    "    \"\"\"\n",
    "    Suma dos números\n",
    "    \n",
    "    Args: \n",
    "        x1 (int): numero 1\n",
    "        x2 (int): numero 2\n",
    "    Returns:\n",
    "        suma (int): la suma de los dos números\n",
    "    \"\"\"\n",
    "    suma = x1 + x2\n",
    "    return suma\n",
    "\n",
    "# Programa principal\n",
    "\n",
    "numeros = [(2, 4), (5, 5), (1, 8)]\n",
    "for x, y in numeros:\n",
    "    resultado = f1(x, y)\n",
    "    mostrar_resultado(resultado)"
   ]
  },
  {
   "cell_type": "code",
   "execution_count": null,
   "id": "20c4dc2a",
   "metadata": {},
   "outputs": [],
   "source": []
  }
 ],
 "metadata": {
  "kernelspec": {
   "display_name": "Python 3 (ipykernel)",
   "language": "python",
   "name": "python3"
  },
  "language_info": {
   "codemirror_mode": {
    "name": "ipython",
    "version": 3
   },
   "file_extension": ".py",
   "mimetype": "text/x-python",
   "name": "python",
   "nbconvert_exporter": "python",
   "pygments_lexer": "ipython3",
   "version": "3.9.13"
  }
 },
 "nbformat": 4,
 "nbformat_minor": 5
}
