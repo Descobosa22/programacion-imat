{
 "cells": [
  {
   "cell_type": "code",
   "execution_count": null,
   "id": "ff99f948",
   "metadata": {},
   "outputs": [],
   "source": [
    "dir()"
   ]
  },
  {
   "cell_type": "code",
   "execution_count": 15,
   "id": "36278fee",
   "metadata": {},
   "outputs": [],
   "source": [
    "cadena = \"\"\n",
    "lista = []\n",
    "cadena = \"un contenido\""
   ]
  },
  {
   "cell_type": "code",
   "execution_count": 16,
   "id": "d43492e5",
   "metadata": {},
   "outputs": [
    {
     "data": {
      "text/plain": [
       "str"
      ]
     },
     "execution_count": 16,
     "metadata": {},
     "output_type": "execute_result"
    }
   ],
   "source": [
    "type(cadena)"
   ]
  },
  {
   "cell_type": "code",
   "execution_count": 17,
   "id": "433a08d3",
   "metadata": {},
   "outputs": [
    {
     "data": {
      "text/plain": [
       "list"
      ]
     },
     "execution_count": 17,
     "metadata": {},
     "output_type": "execute_result"
    }
   ],
   "source": [
    "type(lista)"
   ]
  },
  {
   "cell_type": "code",
   "execution_count": 18,
   "id": "9e696991",
   "metadata": {},
   "outputs": [
    {
     "data": {
      "text/plain": [
       "3"
      ]
     },
     "execution_count": 18,
     "metadata": {},
     "output_type": "execute_result"
    }
   ],
   "source": [
    "cadena.count(\"n\")"
   ]
  },
  {
   "cell_type": "code",
   "execution_count": 22,
   "id": "7c6a77d9",
   "metadata": {},
   "outputs": [],
   "source": [
    "personas = [\"Luis\", \"Manuel\", \"Ana\"]"
   ]
  },
  {
   "cell_type": "code",
   "execution_count": 23,
   "id": "c6af7638",
   "metadata": {},
   "outputs": [
    {
     "data": {
      "text/plain": [
       "['Luis', 'Manuel', 'Ana']"
      ]
     },
     "execution_count": 23,
     "metadata": {},
     "output_type": "execute_result"
    }
   ],
   "source": [
    "personas"
   ]
  },
  {
   "cell_type": "code",
   "execution_count": 24,
   "id": "795b2fa0",
   "metadata": {},
   "outputs": [],
   "source": [
    "notas = [5, 7, 3, 9, 10]"
   ]
  },
  {
   "cell_type": "code",
   "execution_count": 28,
   "id": "a122b571",
   "metadata": {},
   "outputs": [
    {
     "name": "stdout",
     "output_type": "stream",
     "text": [
      "5\n",
      "7\n",
      "3\n",
      "9\n",
      "10\n"
     ]
    }
   ],
   "source": [
    "i = 0\n",
    "while i < len(notas):\n",
    "    print(notas[i])\n",
    "    i += 1"
   ]
  },
  {
   "cell_type": "code",
   "execution_count": 32,
   "id": "01b8abef",
   "metadata": {},
   "outputs": [
    {
     "name": "stdout",
     "output_type": "stream",
     "text": [
      "1\n",
      "2\n",
      "3\n",
      "4\n"
     ]
    }
   ],
   "source": [
    "for nota in \"1234\":\n",
    "    print(nota)"
   ]
  },
  {
   "cell_type": "code",
   "execution_count": 33,
   "id": "3c3f62e6",
   "metadata": {},
   "outputs": [
    {
     "data": {
      "text/plain": [
       "1"
      ]
     },
     "execution_count": 33,
     "metadata": {},
     "output_type": "execute_result"
    }
   ],
   "source": [
    "\"1234\".count(\"1\")"
   ]
  },
  {
   "cell_type": "code",
   "execution_count": 29,
   "id": "ff4eac5e",
   "metadata": {},
   "outputs": [
    {
     "name": "stdout",
     "output_type": "stream",
     "text": [
      "5\n",
      "7\n",
      "3\n",
      "9\n",
      "10\n"
     ]
    }
   ],
   "source": [
    "for nota in notas:\n",
    "    print(nota)"
   ]
  },
  {
   "cell_type": "code",
   "execution_count": 36,
   "id": "38909989",
   "metadata": {},
   "outputs": [
    {
     "data": {
      "text/plain": [
       "[5, 7, 3, 9, 10]"
      ]
     },
     "execution_count": 36,
     "metadata": {},
     "output_type": "execute_result"
    }
   ],
   "source": [
    "notas"
   ]
  },
  {
   "cell_type": "code",
   "execution_count": 45,
   "id": "cbf720bf",
   "metadata": {},
   "outputs": [],
   "source": [
    "notas = []"
   ]
  },
  {
   "cell_type": "code",
   "execution_count": 53,
   "id": "874f2d65",
   "metadata": {},
   "outputs": [
    {
     "data": {
      "text/plain": [
       "[5, 5, 5, 5, 5]"
      ]
     },
     "execution_count": 53,
     "metadata": {},
     "output_type": "execute_result"
    }
   ],
   "source": [
    "notas"
   ]
  },
  {
   "cell_type": "code",
   "execution_count": 47,
   "id": "ba7cbb07",
   "metadata": {},
   "outputs": [
    {
     "data": {
      "text/plain": [
       "0"
      ]
     },
     "execution_count": 47,
     "metadata": {},
     "output_type": "execute_result"
    }
   ],
   "source": [
    "len(notas)"
   ]
  },
  {
   "cell_type": "code",
   "execution_count": 59,
   "id": "163ece7a",
   "metadata": {},
   "outputs": [],
   "source": [
    "i = 0\n",
    "while i < 5:\n",
    "    notas.append(5)\n",
    "    i += 1"
   ]
  },
  {
   "cell_type": "code",
   "execution_count": 54,
   "id": "2f51b4b9",
   "metadata": {},
   "outputs": [],
   "source": [
    "notas.append(5)\n",
    "notas.append(7)\n",
    "notas.append(3)\n",
    "notas.append(9)\n",
    "notas.append(10)"
   ]
  },
  {
   "cell_type": "code",
   "execution_count": 60,
   "id": "003ddb2a",
   "metadata": {},
   "outputs": [
    {
     "data": {
      "text/plain": [
       "5"
      ]
     },
     "execution_count": 60,
     "metadata": {},
     "output_type": "execute_result"
    }
   ],
   "source": [
    "len(notas)"
   ]
  },
  {
   "cell_type": "code",
   "execution_count": 57,
   "id": "03592275",
   "metadata": {},
   "outputs": [],
   "source": [
    "notas.clear()"
   ]
  },
  {
   "cell_type": "code",
   "execution_count": 63,
   "id": "d4b46b85",
   "metadata": {},
   "outputs": [
    {
     "data": {
      "text/plain": [
       "[5, 5, 5, 5, 5]"
      ]
     },
     "execution_count": 63,
     "metadata": {},
     "output_type": "execute_result"
    }
   ],
   "source": [
    "notas"
   ]
  },
  {
   "cell_type": "code",
   "execution_count": 62,
   "id": "866b4995",
   "metadata": {},
   "outputs": [
    {
     "data": {
      "text/plain": [
       "[5, 5, 5, 5, 5]"
      ]
     },
     "execution_count": 62,
     "metadata": {},
     "output_type": "execute_result"
    }
   ],
   "source": [
    "notas"
   ]
  },
  {
   "cell_type": "code",
   "execution_count": 65,
   "id": "f6b9674b",
   "metadata": {},
   "outputs": [],
   "source": [
    "notas_programacion = []\n",
    "notas_algebra = notas"
   ]
  },
  {
   "cell_type": "code",
   "execution_count": 67,
   "id": "eb1f3549",
   "metadata": {},
   "outputs": [],
   "source": [
    "notas_programacion = [6, 6, 6, 6, 6]"
   ]
  },
  {
   "cell_type": "code",
   "execution_count": 68,
   "id": "4b3e39b4",
   "metadata": {},
   "outputs": [
    {
     "data": {
      "text/plain": [
       "[6, 6, 6, 6, 6]"
      ]
     },
     "execution_count": 68,
     "metadata": {},
     "output_type": "execute_result"
    }
   ],
   "source": [
    "notas_programacion"
   ]
  },
  {
   "cell_type": "code",
   "execution_count": 69,
   "id": "526351b4",
   "metadata": {},
   "outputs": [
    {
     "data": {
      "text/plain": [
       "[5, 5, 5, 5, 5]"
      ]
     },
     "execution_count": 69,
     "metadata": {},
     "output_type": "execute_result"
    }
   ],
   "source": [
    "notas_algebra"
   ]
  },
  {
   "cell_type": "code",
   "execution_count": 70,
   "id": "12804d43",
   "metadata": {},
   "outputs": [
    {
     "data": {
      "text/plain": [
       "[6, 6, 6, 6, 6, 5, 5, 5, 5, 5]"
      ]
     },
     "execution_count": 70,
     "metadata": {},
     "output_type": "execute_result"
    }
   ],
   "source": [
    "notas_programacion + notas_algebra"
   ]
  },
  {
   "cell_type": "code",
   "execution_count": 72,
   "id": "ea096c2f",
   "metadata": {},
   "outputs": [],
   "source": [
    "notas_totales = notas_programacion + notas_algebra"
   ]
  },
  {
   "cell_type": "code",
   "execution_count": 73,
   "id": "21a144ae",
   "metadata": {},
   "outputs": [
    {
     "data": {
      "text/plain": [
       "[6, 6, 6, 6, 6, 5, 5, 5, 5, 5]"
      ]
     },
     "execution_count": 73,
     "metadata": {},
     "output_type": "execute_result"
    }
   ],
   "source": [
    "notas_totales"
   ]
  },
  {
   "cell_type": "code",
   "execution_count": 74,
   "id": "1250522f",
   "metadata": {},
   "outputs": [],
   "source": [
    "notas_programacion.extend(notas_algebra)"
   ]
  },
  {
   "cell_type": "code",
   "execution_count": 75,
   "id": "936a6309",
   "metadata": {},
   "outputs": [],
   "source": [
    "notas_programacion = notas_programacion + notas_algebra"
   ]
  },
  {
   "cell_type": "code",
   "execution_count": 76,
   "id": "5840f51c",
   "metadata": {},
   "outputs": [],
   "source": [
    "cadena = \"abc\""
   ]
  },
  {
   "cell_type": "code",
   "execution_count": 78,
   "id": "4117bb6d",
   "metadata": {},
   "outputs": [
    {
     "ename": "TypeError",
     "evalue": "'str' object does not support item assignment",
     "output_type": "error",
     "traceback": [
      "\u001b[1;31m---------------------------------------------------------------------------\u001b[0m",
      "\u001b[1;31mTypeError\u001b[0m                                 Traceback (most recent call last)",
      "\u001b[1;32m~\\AppData\\Local\\Temp\\ipykernel_5816\\1250892314.py\u001b[0m in \u001b[0;36m<module>\u001b[1;34m\u001b[0m\n\u001b[1;32m----> 1\u001b[1;33m \u001b[0mcadena\u001b[0m\u001b[1;33m[\u001b[0m\u001b[1;36m0\u001b[0m\u001b[1;33m]\u001b[0m \u001b[1;33m=\u001b[0m \u001b[1;34m\"x\"\u001b[0m\u001b[1;33m\u001b[0m\u001b[1;33m\u001b[0m\u001b[0m\n\u001b[0m",
      "\u001b[1;31mTypeError\u001b[0m: 'str' object does not support item assignment"
     ]
    }
   ],
   "source": [
    "cadena[0] = \"x\""
   ]
  },
  {
   "cell_type": "code",
   "execution_count": 79,
   "id": "23cb6121",
   "metadata": {},
   "outputs": [
    {
     "data": {
      "text/plain": [
       "6"
      ]
     },
     "execution_count": 79,
     "metadata": {},
     "output_type": "execute_result"
    }
   ],
   "source": [
    "notas_programacion[0]"
   ]
  },
  {
   "cell_type": "code",
   "execution_count": 80,
   "id": "6157ad85",
   "metadata": {},
   "outputs": [
    {
     "data": {
      "text/plain": [
       "[6, 6, 6, 6, 6, 5, 5, 5, 5, 5, 5, 5, 5, 5, 5]"
      ]
     },
     "execution_count": 80,
     "metadata": {},
     "output_type": "execute_result"
    }
   ],
   "source": [
    "notas_programacion"
   ]
  },
  {
   "cell_type": "code",
   "execution_count": 81,
   "id": "d103545f",
   "metadata": {},
   "outputs": [],
   "source": [
    "notas_programacion[0] = 10"
   ]
  },
  {
   "cell_type": "code",
   "execution_count": 82,
   "id": "865bfcba",
   "metadata": {},
   "outputs": [
    {
     "data": {
      "text/plain": [
       "[10, 6, 6, 6, 6, 5, 5, 5, 5, 5, 5, 5, 5, 5, 5]"
      ]
     },
     "execution_count": 82,
     "metadata": {},
     "output_type": "execute_result"
    }
   ],
   "source": [
    "notas_programacion"
   ]
  },
  {
   "cell_type": "code",
   "execution_count": 10,
   "id": "a601806b",
   "metadata": {},
   "outputs": [],
   "source": [
    "cadena = cadena + \"un contenido\""
   ]
  },
  {
   "cell_type": "code",
   "execution_count": 11,
   "id": "0a52dc59",
   "metadata": {},
   "outputs": [
    {
     "data": {
      "text/plain": [
       "'un contenido'"
      ]
     },
     "execution_count": 11,
     "metadata": {},
     "output_type": "execute_result"
    }
   ],
   "source": [
    "cadena"
   ]
  },
  {
   "cell_type": "code",
   "execution_count": 85,
   "id": "fd8594df",
   "metadata": {},
   "outputs": [
    {
     "name": "stdout",
     "output_type": "stream",
     "text": [
      "9\n",
      "9\n",
      "9\n",
      "9\n",
      "9\n"
     ]
    }
   ],
   "source": [
    "notas_programacion = [6, 6, 6, 6, 6]\n",
    "for nota in notas_programacion:\n",
    "    nota += 3\n",
    "    print(nota)"
   ]
  },
  {
   "cell_type": "code",
   "execution_count": 88,
   "id": "3a18bfcf",
   "metadata": {},
   "outputs": [
    {
     "name": "stdout",
     "output_type": "stream",
     "text": [
      "9\n",
      "9\n",
      "9\n",
      "9\n",
      "9\n"
     ]
    }
   ],
   "source": [
    "notas_programacion = [6, 6, 6, 6, 6]\n",
    "i = 0\n",
    "while i < len(notas_programacion):\n",
    "    nota = notas_programacion[i]\n",
    "    nota += 3\n",
    "    print(nota)\n",
    "    i += 1"
   ]
  },
  {
   "cell_type": "code",
   "execution_count": 89,
   "id": "19a2c35a",
   "metadata": {},
   "outputs": [
    {
     "name": "stdout",
     "output_type": "stream",
     "text": [
      "9\n",
      "9\n",
      "9\n",
      "9\n",
      "9\n"
     ]
    }
   ],
   "source": [
    "notas_programacion = [6, 6, 6, 6, 6]\n",
    "i = 0\n",
    "while i < len(notas_programacion):\n",
    "    notas_programacion[i] += 3\n",
    "    print(notas_programacion[i])\n",
    "    i += 1"
   ]
  },
  {
   "cell_type": "code",
   "execution_count": 90,
   "id": "b860cf82",
   "metadata": {},
   "outputs": [
    {
     "data": {
      "text/plain": [
       "[9, 9, 9, 9, 9]"
      ]
     },
     "execution_count": 90,
     "metadata": {},
     "output_type": "execute_result"
    }
   ],
   "source": [
    "notas_programacion"
   ]
  },
  {
   "cell_type": "code",
   "execution_count": 93,
   "id": "a468ee25",
   "metadata": {},
   "outputs": [
    {
     "data": {
      "text/plain": [
       "'aaaaa'"
      ]
     },
     "execution_count": 93,
     "metadata": {},
     "output_type": "execute_result"
    }
   ],
   "source": [
    "\"a\" * 5"
   ]
  },
  {
   "cell_type": "code",
   "execution_count": 94,
   "id": "2c13a5b2",
   "metadata": {},
   "outputs": [
    {
     "data": {
      "text/plain": [
       "['Luis', 'Luis', 'Luis', 'Luis', 'Luis']"
      ]
     },
     "execution_count": 94,
     "metadata": {},
     "output_type": "execute_result"
    }
   ],
   "source": [
    "[\"Luis\"] * 5"
   ]
  },
  {
   "cell_type": "code",
   "execution_count": 95,
   "id": "efd28847",
   "metadata": {},
   "outputs": [
    {
     "data": {
      "text/plain": [
       "['Luis', 'Luis', 'Luis', 'Luis', 'Luis']"
      ]
     },
     "execution_count": 95,
     "metadata": {},
     "output_type": "execute_result"
    }
   ],
   "source": [
    "nombres = [\"Luis\"]\n",
    "nombres * 5"
   ]
  },
  {
   "cell_type": "code",
   "execution_count": 109,
   "id": "80b8680d",
   "metadata": {},
   "outputs": [],
   "source": [
    "nombres = [\"a\", \"b\", \"c\"]"
   ]
  },
  {
   "cell_type": "code",
   "execution_count": 101,
   "id": "8c859cc1",
   "metadata": {},
   "outputs": [],
   "source": [
    "nombres.remove(\"b\")"
   ]
  },
  {
   "cell_type": "code",
   "execution_count": 104,
   "id": "62a5bd2b",
   "metadata": {},
   "outputs": [
    {
     "data": {
      "text/plain": [
       "['a', 'b', 'c']"
      ]
     },
     "execution_count": 104,
     "metadata": {},
     "output_type": "execute_result"
    }
   ],
   "source": [
    "nombres"
   ]
  },
  {
   "cell_type": "code",
   "execution_count": 107,
   "id": "a5e64a2e",
   "metadata": {},
   "outputs": [
    {
     "data": {
      "text/plain": [
       "'b'"
      ]
     },
     "execution_count": 107,
     "metadata": {},
     "output_type": "execute_result"
    }
   ],
   "source": [
    "nombres[1]"
   ]
  },
  {
   "cell_type": "code",
   "execution_count": 110,
   "id": "7e9735f5",
   "metadata": {},
   "outputs": [],
   "source": [
    "nombre_a_borrar = nombres[1]\n",
    "nombres.remove(nombre_a_borrar)"
   ]
  },
  {
   "cell_type": "code",
   "execution_count": 111,
   "id": "cde0fcd6",
   "metadata": {},
   "outputs": [
    {
     "data": {
      "text/plain": [
       "['a', 'c']"
      ]
     },
     "execution_count": 111,
     "metadata": {},
     "output_type": "execute_result"
    }
   ],
   "source": [
    "nombres"
   ]
  },
  {
   "cell_type": "markdown",
   "id": "c86204e8",
   "metadata": {},
   "source": [
    "### Código pedido por un compi: quiero borrar un elemento y sus repeticiones"
   ]
  },
  {
   "cell_type": "code",
   "execution_count": 129,
   "id": "f842fd3d",
   "metadata": {},
   "outputs": [
    {
     "data": {
      "text/plain": [
       "['Luis', 'Ana', 'Manuel', 'Ana', 'Jaime', 'Ana', 'Marta']"
      ]
     },
     "execution_count": 129,
     "metadata": {},
     "output_type": "execute_result"
    }
   ],
   "source": [
    "personas = [\"Luis\", \"Ana\", \"Manuel\", \"Ana\", \"Jaime\", \"Ana\", \"Marta\"]\n",
    "personas"
   ]
  },
  {
   "cell_type": "code",
   "execution_count": 130,
   "id": "dba99495",
   "metadata": {},
   "outputs": [
    {
     "data": {
      "text/plain": [
       "['Luis', 'Manuel', 'Ana', 'Jaime', 'Ana', 'Marta']"
      ]
     },
     "execution_count": 130,
     "metadata": {},
     "output_type": "execute_result"
    }
   ],
   "source": [
    "personas.remove(\"Ana\")\n",
    "personas"
   ]
  },
  {
   "cell_type": "markdown",
   "id": "acaf4075",
   "metadata": {},
   "source": [
    "#### Volvemos a la importancia de dominar el bajo nivel"
   ]
  },
  {
   "cell_type": "code",
   "execution_count": 131,
   "id": "769e2bbe",
   "metadata": {},
   "outputs": [
    {
     "data": {
      "text/plain": [
       "['Luis', 'Manuel', 'Jaime', 'Marta']"
      ]
     },
     "execution_count": 131,
     "metadata": {},
     "output_type": "execute_result"
    }
   ],
   "source": [
    "personas = [\"Luis\", \"Ana\", \"Manuel\", \"Ana\", \"Jaime\", \"Ana\", \"Marta\"]\n",
    "i = 0\n",
    "while i < len(personas) and personas.count(\"Ana\") > 0:\n",
    "    personas.remove(\"Ana\")\n",
    "    i += 1\n",
    "personas"
   ]
  },
  {
   "cell_type": "code",
   "execution_count": null,
   "id": "529dd954",
   "metadata": {},
   "outputs": [],
   "source": []
  }
 ],
 "metadata": {
  "kernelspec": {
   "display_name": "Python 3 (ipykernel)",
   "language": "python",
   "name": "python3"
  },
  "language_info": {
   "codemirror_mode": {
    "name": "ipython",
    "version": 3
   },
   "file_extension": ".py",
   "mimetype": "text/x-python",
   "name": "python",
   "nbconvert_exporter": "python",
   "pygments_lexer": "ipython3",
   "version": "3.9.13"
  }
 },
 "nbformat": 4,
 "nbformat_minor": 5
}
