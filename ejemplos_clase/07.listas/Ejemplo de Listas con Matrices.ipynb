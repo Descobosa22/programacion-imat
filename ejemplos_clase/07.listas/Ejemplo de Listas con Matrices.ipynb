{
 "cells": [
  {
   "cell_type": "code",
   "execution_count": 38,
   "id": "299e18a1",
   "metadata": {},
   "outputs": [],
   "source": [
    "lista = [] "
   ]
  },
  {
   "cell_type": "code",
   "execution_count": 39,
   "id": "16436682",
   "metadata": {},
   "outputs": [
    {
     "data": {
      "text/plain": [
       "list"
      ]
     },
     "execution_count": 39,
     "metadata": {},
     "output_type": "execute_result"
    }
   ],
   "source": [
    "type(lista)"
   ]
  },
  {
   "cell_type": "code",
   "execution_count": 40,
   "id": "a75a87e9",
   "metadata": {},
   "outputs": [],
   "source": [
    "lista = list()"
   ]
  },
  {
   "cell_type": "code",
   "execution_count": 41,
   "id": "adf0b56f",
   "metadata": {},
   "outputs": [
    {
     "data": {
      "text/plain": [
       "list"
      ]
     },
     "execution_count": 41,
     "metadata": {},
     "output_type": "execute_result"
    }
   ],
   "source": [
    "type(lista)"
   ]
  },
  {
   "cell_type": "code",
   "execution_count": 44,
   "id": "cb56a2e2",
   "metadata": {},
   "outputs": [
    {
     "data": {
      "text/plain": [
       "'abcdef'"
      ]
     },
     "execution_count": 44,
     "metadata": {},
     "output_type": "execute_result"
    }
   ],
   "source": [
    "s = \"abc\" + \"def\"\n",
    "s"
   ]
  },
  {
   "cell_type": "code",
   "execution_count": 47,
   "id": "ea3aca0f",
   "metadata": {},
   "outputs": [
    {
     "data": {
      "text/plain": [
       "['a', 'b', 'c', 'd', 'e', 'f']"
      ]
     },
     "execution_count": 47,
     "metadata": {},
     "output_type": "execute_result"
    }
   ],
   "source": [
    "list(\"abc\") + list(\"def\")"
   ]
  },
  {
   "cell_type": "code",
   "execution_count": 48,
   "id": "6d54df0f",
   "metadata": {},
   "outputs": [
    {
     "data": {
      "text/plain": [
       "2"
      ]
     },
     "execution_count": 48,
     "metadata": {},
     "output_type": "execute_result"
    }
   ],
   "source": [
    "int(\"2\")"
   ]
  },
  {
   "cell_type": "code",
   "execution_count": 49,
   "id": "70f2d2c3",
   "metadata": {},
   "outputs": [
    {
     "ename": "TypeError",
     "evalue": "'int' object is not iterable",
     "output_type": "error",
     "traceback": [
      "\u001b[1;31m---------------------------------------------------------------------------\u001b[0m",
      "\u001b[1;31mTypeError\u001b[0m                                 Traceback (most recent call last)",
      "\u001b[1;32m~\\AppData\\Local\\Temp\\ipykernel_29660\\392784406.py\u001b[0m in \u001b[0;36m<module>\u001b[1;34m\u001b[0m\n\u001b[1;32m----> 1\u001b[1;33m \u001b[0mlist\u001b[0m\u001b[1;33m(\u001b[0m\u001b[1;36m112\u001b[0m\u001b[1;33m)\u001b[0m\u001b[1;33m\u001b[0m\u001b[1;33m\u001b[0m\u001b[0m\n\u001b[0m",
      "\u001b[1;31mTypeError\u001b[0m: 'int' object is not iterable"
     ]
    }
   ],
   "source": [
    "list(112)"
   ]
  },
  {
   "cell_type": "code",
   "execution_count": 50,
   "id": "88c509fc",
   "metadata": {},
   "outputs": [
    {
     "data": {
      "text/plain": [
       "['In',\n",
       " 'Out',\n",
       " '_',\n",
       " '_12',\n",
       " '_13',\n",
       " '_16',\n",
       " '_18',\n",
       " '_19',\n",
       " '_2',\n",
       " '_21',\n",
       " '_22',\n",
       " '_24',\n",
       " '_25',\n",
       " '_26',\n",
       " '_3',\n",
       " '_32',\n",
       " '_33',\n",
       " '_36',\n",
       " '_39',\n",
       " '_41',\n",
       " '_42',\n",
       " '_43',\n",
       " '_44',\n",
       " '_45',\n",
       " '_46',\n",
       " '_47',\n",
       " '_48',\n",
       " '_6',\n",
       " '_7',\n",
       " '_9',\n",
       " '__',\n",
       " '___',\n",
       " '__builtin__',\n",
       " '__builtins__',\n",
       " '__doc__',\n",
       " '__loader__',\n",
       " '__name__',\n",
       " '__package__',\n",
       " '__spec__',\n",
       " '_dh',\n",
       " '_i',\n",
       " '_i1',\n",
       " '_i10',\n",
       " '_i11',\n",
       " '_i12',\n",
       " '_i13',\n",
       " '_i14',\n",
       " '_i15',\n",
       " '_i16',\n",
       " '_i17',\n",
       " '_i18',\n",
       " '_i19',\n",
       " '_i2',\n",
       " '_i20',\n",
       " '_i21',\n",
       " '_i22',\n",
       " '_i23',\n",
       " '_i24',\n",
       " '_i25',\n",
       " '_i26',\n",
       " '_i27',\n",
       " '_i28',\n",
       " '_i29',\n",
       " '_i3',\n",
       " '_i30',\n",
       " '_i31',\n",
       " '_i32',\n",
       " '_i33',\n",
       " '_i34',\n",
       " '_i35',\n",
       " '_i36',\n",
       " '_i37',\n",
       " '_i38',\n",
       " '_i39',\n",
       " '_i4',\n",
       " '_i40',\n",
       " '_i41',\n",
       " '_i42',\n",
       " '_i43',\n",
       " '_i44',\n",
       " '_i45',\n",
       " '_i46',\n",
       " '_i47',\n",
       " '_i48',\n",
       " '_i49',\n",
       " '_i5',\n",
       " '_i50',\n",
       " '_i6',\n",
       " '_i7',\n",
       " '_i8',\n",
       " '_i9',\n",
       " '_ih',\n",
       " '_ii',\n",
       " '_iii',\n",
       " '_oh',\n",
       " 'exit',\n",
       " 'frecuencia',\n",
       " 'frecuencias',\n",
       " 'frecuencias_sorted',\n",
       " 'get_ipython',\n",
       " 'i',\n",
       " 'l',\n",
       " 'letras',\n",
       " 'letras_sorted',\n",
       " 'lista',\n",
       " 'lista_s',\n",
       " 'posicion',\n",
       " 'quit',\n",
       " 's']"
      ]
     },
     "execution_count": 50,
     "metadata": {},
     "output_type": "execute_result"
    }
   ],
   "source": [
    "dir()"
   ]
  },
  {
   "cell_type": "code",
   "execution_count": 51,
   "id": "260d407b",
   "metadata": {},
   "outputs": [
    {
     "data": {
      "text/plain": [
       "['ArithmeticError',\n",
       " 'AssertionError',\n",
       " 'AttributeError',\n",
       " 'BaseException',\n",
       " 'BlockingIOError',\n",
       " 'BrokenPipeError',\n",
       " 'BufferError',\n",
       " 'BytesWarning',\n",
       " 'ChildProcessError',\n",
       " 'ConnectionAbortedError',\n",
       " 'ConnectionError',\n",
       " 'ConnectionRefusedError',\n",
       " 'ConnectionResetError',\n",
       " 'DeprecationWarning',\n",
       " 'EOFError',\n",
       " 'Ellipsis',\n",
       " 'EnvironmentError',\n",
       " 'Exception',\n",
       " 'False',\n",
       " 'FileExistsError',\n",
       " 'FileNotFoundError',\n",
       " 'FloatingPointError',\n",
       " 'FutureWarning',\n",
       " 'GeneratorExit',\n",
       " 'IOError',\n",
       " 'ImportError',\n",
       " 'ImportWarning',\n",
       " 'IndentationError',\n",
       " 'IndexError',\n",
       " 'InterruptedError',\n",
       " 'IsADirectoryError',\n",
       " 'KeyError',\n",
       " 'KeyboardInterrupt',\n",
       " 'LookupError',\n",
       " 'MemoryError',\n",
       " 'ModuleNotFoundError',\n",
       " 'NameError',\n",
       " 'None',\n",
       " 'NotADirectoryError',\n",
       " 'NotImplemented',\n",
       " 'NotImplementedError',\n",
       " 'OSError',\n",
       " 'OverflowError',\n",
       " 'PendingDeprecationWarning',\n",
       " 'PermissionError',\n",
       " 'ProcessLookupError',\n",
       " 'RecursionError',\n",
       " 'ReferenceError',\n",
       " 'ResourceWarning',\n",
       " 'RuntimeError',\n",
       " 'RuntimeWarning',\n",
       " 'StopAsyncIteration',\n",
       " 'StopIteration',\n",
       " 'SyntaxError',\n",
       " 'SyntaxWarning',\n",
       " 'SystemError',\n",
       " 'SystemExit',\n",
       " 'TabError',\n",
       " 'TimeoutError',\n",
       " 'True',\n",
       " 'TypeError',\n",
       " 'UnboundLocalError',\n",
       " 'UnicodeDecodeError',\n",
       " 'UnicodeEncodeError',\n",
       " 'UnicodeError',\n",
       " 'UnicodeTranslateError',\n",
       " 'UnicodeWarning',\n",
       " 'UserWarning',\n",
       " 'ValueError',\n",
       " 'Warning',\n",
       " 'WindowsError',\n",
       " 'ZeroDivisionError',\n",
       " '__IPYTHON__',\n",
       " '__build_class__',\n",
       " '__debug__',\n",
       " '__doc__',\n",
       " '__import__',\n",
       " '__loader__',\n",
       " '__name__',\n",
       " '__package__',\n",
       " '__spec__',\n",
       " 'abs',\n",
       " 'all',\n",
       " 'any',\n",
       " 'ascii',\n",
       " 'bin',\n",
       " 'bool',\n",
       " 'breakpoint',\n",
       " 'bytearray',\n",
       " 'bytes',\n",
       " 'callable',\n",
       " 'chr',\n",
       " 'classmethod',\n",
       " 'compile',\n",
       " 'complex',\n",
       " 'copyright',\n",
       " 'credits',\n",
       " 'delattr',\n",
       " 'dict',\n",
       " 'dir',\n",
       " 'display',\n",
       " 'divmod',\n",
       " 'enumerate',\n",
       " 'eval',\n",
       " 'exec',\n",
       " 'execfile',\n",
       " 'filter',\n",
       " 'float',\n",
       " 'format',\n",
       " 'frozenset',\n",
       " 'get_ipython',\n",
       " 'getattr',\n",
       " 'globals',\n",
       " 'hasattr',\n",
       " 'hash',\n",
       " 'help',\n",
       " 'hex',\n",
       " 'id',\n",
       " 'input',\n",
       " 'int',\n",
       " 'isinstance',\n",
       " 'issubclass',\n",
       " 'iter',\n",
       " 'len',\n",
       " 'license',\n",
       " 'list',\n",
       " 'locals',\n",
       " 'map',\n",
       " 'max',\n",
       " 'memoryview',\n",
       " 'min',\n",
       " 'next',\n",
       " 'object',\n",
       " 'oct',\n",
       " 'open',\n",
       " 'ord',\n",
       " 'pow',\n",
       " 'print',\n",
       " 'property',\n",
       " 'range',\n",
       " 'repr',\n",
       " 'reversed',\n",
       " 'round',\n",
       " 'runfile',\n",
       " 'set',\n",
       " 'setattr',\n",
       " 'slice',\n",
       " 'sorted',\n",
       " 'staticmethod',\n",
       " 'str',\n",
       " 'sum',\n",
       " 'super',\n",
       " 'tuple',\n",
       " 'type',\n",
       " 'vars',\n",
       " 'zip']"
      ]
     },
     "execution_count": 51,
     "metadata": {},
     "output_type": "execute_result"
    }
   ],
   "source": [
    "dir(__builtin__)"
   ]
  },
  {
   "cell_type": "code",
   "execution_count": 60,
   "id": "ecbc2538",
   "metadata": {},
   "outputs": [
    {
     "data": {
      "text/plain": [
       "type"
      ]
     },
     "execution_count": 60,
     "metadata": {},
     "output_type": "execute_result"
    }
   ],
   "source": [
    "lista = [5, 3, 2, 7]\n",
    "type(list)"
   ]
  },
  {
   "cell_type": "code",
   "execution_count": 61,
   "id": "86ffadcd",
   "metadata": {},
   "outputs": [
    {
     "data": {
      "text/plain": [
       "[5, 3, 2, 7]"
      ]
     },
     "execution_count": 61,
     "metadata": {},
     "output_type": "execute_result"
    }
   ],
   "source": [
    "lista"
   ]
  },
  {
   "cell_type": "code",
   "execution_count": 63,
   "id": "6589b72b",
   "metadata": {},
   "outputs": [
    {
     "name": "stdout",
     "output_type": "stream",
     "text": [
      "[5, 3, 2, 7]\n",
      "[2, 3, 5, 7]\n",
      "[5, 3, 2, 7]\n"
     ]
    }
   ],
   "source": [
    "lista = [5, 3, 2, 7]\n",
    "print(lista)\n",
    "lista_ordenada = sorted(lista)\n",
    "print(lista_ordenada)\n",
    "print(lista)"
   ]
  },
  {
   "cell_type": "code",
   "execution_count": 64,
   "id": "3bffe7f1",
   "metadata": {},
   "outputs": [
    {
     "name": "stdout",
     "output_type": "stream",
     "text": [
      "[5, 3, 2, 7]\n",
      "[2, 3, 5, 7]\n"
     ]
    }
   ],
   "source": [
    "lista = [5, 3, 2, 7]\n",
    "print(lista)\n",
    "lista.sort()\n",
    "print(lista)"
   ]
  },
  {
   "cell_type": "code",
   "execution_count": 58,
   "id": "939fe6f6",
   "metadata": {},
   "outputs": [
    {
     "data": {
      "text/plain": [
       "[2, 3, 5, 7]"
      ]
     },
     "execution_count": 58,
     "metadata": {},
     "output_type": "execute_result"
    }
   ],
   "source": [
    "lista"
   ]
  },
  {
   "cell_type": "code",
   "execution_count": 70,
   "id": "b4ce0bba",
   "metadata": {},
   "outputs": [
    {
     "name": "stdout",
     "output_type": "stream",
     "text": [
      "Help on method_descriptor:\n",
      "\n",
      "index(self, value, start=0, stop=9223372036854775807, /)\n",
      "    Return first index of value.\n",
      "    \n",
      "    Raises ValueError if the value is not present.\n",
      "\n"
     ]
    }
   ],
   "source": [
    "help(list)"
   ]
  },
  {
   "cell_type": "code",
   "execution_count": 85,
   "id": "32b0489a",
   "metadata": {},
   "outputs": [],
   "source": [
    "lista = [\"a\", \"b\", \"a\", \"c\"]"
   ]
  },
  {
   "cell_type": "code",
   "execution_count": 84,
   "id": "39ebdd66",
   "metadata": {},
   "outputs": [
    {
     "data": {
      "text/plain": [
       "2"
      ]
     },
     "execution_count": 84,
     "metadata": {},
     "output_type": "execute_result"
    }
   ],
   "source": [
    "pop / remove / del"
   ]
  },
  {
   "cell_type": "code",
   "execution_count": 89,
   "id": "2ec00c35",
   "metadata": {},
   "outputs": [
    {
     "ename": "SyntaxError",
     "evalue": "invalid syntax (2578314660.py, line 1)",
     "output_type": "error",
     "traceback": [
      "\u001b[1;36m  File \u001b[1;32m\"C:\\Users\\davidcb\\AppData\\Local\\Temp\\ipykernel_29660\\2578314660.py\"\u001b[1;36m, line \u001b[1;32m1\u001b[0m\n\u001b[1;33m    a = 12\"a\"\u001b[0m\n\u001b[1;37m          ^\u001b[0m\n\u001b[1;31mSyntaxError\u001b[0m\u001b[1;31m:\u001b[0m invalid syntax\n"
     ]
    }
   ],
   "source": [
    "a = 12\"a\""
   ]
  },
  {
   "cell_type": "code",
   "execution_count": 90,
   "id": "2e7bd6eb",
   "metadata": {},
   "outputs": [],
   "source": [
    "x = 34\n",
    "y = \"a\"\n",
    "z = 34.5\n",
    "lista = [x, y, z]"
   ]
  },
  {
   "cell_type": "code",
   "execution_count": 92,
   "id": "01ce8ff3",
   "metadata": {},
   "outputs": [
    {
     "name": "stdout",
     "output_type": "stream",
     "text": [
      "qwq\n",
      "['a', 'b', 'a', 12]\n",
      "['a', 'b']\n"
     ]
    }
   ],
   "source": [
    "lista = [\"a\", \"b\", \"a\", 12, \"qwq\"]\n",
    "cadena = \"aba12qwq\"\n",
    "a = lista.pop()\n",
    "print(a)\n",
    "print(lista)\n",
    "a = lista.pop()\n",
    "a = lista.pop()\n",
    "print(lista)"
   ]
  },
  {
   "cell_type": "code",
   "execution_count": 93,
   "id": "a2136dab",
   "metadata": {},
   "outputs": [
    {
     "name": "stdout",
     "output_type": "stream",
     "text": [
      "Help on built-in function sorted in module builtins:\n",
      "\n",
      "sorted(iterable, /, *, key=None, reverse=False)\n",
      "    Return a new list containing all items from the iterable in ascending order.\n",
      "    \n",
      "    A custom key function can be supplied to customize the sort order, and the\n",
      "    reverse flag can be set to request the result in descending order.\n",
      "\n"
     ]
    }
   ],
   "source": [
    "help(sorted)"
   ]
  },
  {
   "cell_type": "code",
   "execution_count": 97,
   "id": "72c8d9d3",
   "metadata": {},
   "outputs": [
    {
     "data": {
      "text/plain": [
       "['1', '2', '>', 'X', 'a', 'e', 'w']"
      ]
     },
     "execution_count": 97,
     "metadata": {},
     "output_type": "execute_result"
    }
   ],
   "source": [
    "s = \"aXwe>12\"\n",
    "sorted(s)"
   ]
  },
  {
   "cell_type": "code",
   "execution_count": 95,
   "id": "aa930f45",
   "metadata": {},
   "outputs": [
    {
     "data": {
      "text/plain": [
       "False"
      ]
     },
     "execution_count": 95,
     "metadata": {},
     "output_type": "execute_result"
    }
   ],
   "source": [
    "\"a\" > \"b\""
   ]
  },
  {
   "cell_type": "code",
   "execution_count": 96,
   "id": "17c8eca0",
   "metadata": {},
   "outputs": [
    {
     "data": {
      "text/plain": [
       "False"
      ]
     },
     "execution_count": 96,
     "metadata": {},
     "output_type": "execute_result"
    }
   ],
   "source": [
    "2 > 3"
   ]
  },
  {
   "cell_type": "code",
   "execution_count": 100,
   "id": "503c91a2",
   "metadata": {},
   "outputs": [
    {
     "name": "stdout",
     "output_type": "stream",
     "text": [
      "Help on method_descriptor:\n",
      "\n",
      "sort(self, /, *, key=None, reverse=False)\n",
      "    Sort the list in ascending order and return None.\n",
      "    \n",
      "    The sort is in-place (i.e. the list itself is modified) and stable (i.e. the\n",
      "    order of two equal elements is maintained).\n",
      "    \n",
      "    If a key function is given, apply it once to each list item and sort them,\n",
      "    ascending or descending, according to their function values.\n",
      "    \n",
      "    The reverse flag can be set to sort in descending order.\n",
      "\n"
     ]
    }
   ],
   "source": [
    "help(list.sort)"
   ]
  },
  {
   "cell_type": "code",
   "execution_count": 105,
   "id": "52e01309",
   "metadata": {},
   "outputs": [],
   "source": [
    "lista = [1, 5, 2, 55, 3]"
   ]
  },
  {
   "cell_type": "code",
   "execution_count": 108,
   "id": "137f11c1",
   "metadata": {},
   "outputs": [],
   "source": [
    "lista.sort()"
   ]
  },
  {
   "cell_type": "code",
   "execution_count": 109,
   "id": "132ad6bb",
   "metadata": {},
   "outputs": [
    {
     "data": {
      "text/plain": [
       "[1, 2, 3, 5, 55]"
      ]
     },
     "execution_count": 109,
     "metadata": {},
     "output_type": "execute_result"
    }
   ],
   "source": [
    "lista"
   ]
  },
  {
   "cell_type": "code",
   "execution_count": 119,
   "id": "de85de57",
   "metadata": {},
   "outputs": [],
   "source": [
    "a = lista.sort()\n",
    "print(a)"
   ]
  },
  {
   "cell_type": "code",
   "execution_count": 126,
   "id": "06fea16a",
   "metadata": {},
   "outputs": [
    {
     "data": {
      "text/plain": [
       "12"
      ]
     },
     "execution_count": 126,
     "metadata": {},
     "output_type": "execute_result"
    }
   ],
   "source": [
    "2 + 3 * 5 - 5"
   ]
  },
  {
   "cell_type": "code",
   "execution_count": 139,
   "id": "8b77f87a",
   "metadata": {},
   "outputs": [
    {
     "name": "stdout",
     "output_type": "stream",
     "text": [
      "[1, 2, 3, 5, 6, 99999]\n"
     ]
    }
   ],
   "source": [
    "lista = [1, 3, 6, 2, 5]\n",
    "lista.append(99999)\n",
    "lista.sort()\n",
    "print(lista)"
   ]
  },
  {
   "cell_type": "code",
   "execution_count": 132,
   "id": "2a30f1f0",
   "metadata": {},
   "outputs": [
    {
     "name": "stdout",
     "output_type": "stream",
     "text": [
      "B\n"
     ]
    }
   ],
   "source": [
    "s = \"abcd\"\n",
    "posicion = s.index(\"b\")\n",
    "car = s[posicion]\n",
    "x = car.upper()\n",
    "print(x)"
   ]
  },
  {
   "cell_type": "code",
   "execution_count": 133,
   "id": "e9b7191a",
   "metadata": {},
   "outputs": [
    {
     "name": "stdout",
     "output_type": "stream",
     "text": [
      "B\n"
     ]
    }
   ],
   "source": [
    "s = \"abcd\"\n",
    "x = s[s.index(\"b\")].upper()\n",
    "print(x)"
   ]
  },
  {
   "cell_type": "markdown",
   "id": "e824ee93",
   "metadata": {},
   "source": [
    "# Matrices"
   ]
  },
  {
   "cell_type": "code",
   "execution_count": 143,
   "id": "e9cf8534",
   "metadata": {},
   "outputs": [],
   "source": [
    "notas_al1 = [4, 5, 6, 7]\n",
    "notas_al2 = [5] * 4\n",
    "notas_al3 = [5, 5, 5, 5]\n",
    "notas_al4 = [9, 9, 9, 10]\n"
   ]
  },
  {
   "cell_type": "code",
   "execution_count": 146,
   "id": "7ecb76c3",
   "metadata": {},
   "outputs": [],
   "source": [
    "todas_notas = []\n",
    "todas_notas.append(1)\n",
    "todas_notas.append(notas_al1)\n",
    "todas_notas.append(3)"
   ]
  },
  {
   "cell_type": "code",
   "execution_count": 150,
   "id": "5d1a64f5",
   "metadata": {},
   "outputs": [
    {
     "data": {
      "text/plain": [
       "4"
      ]
     },
     "execution_count": 150,
     "metadata": {},
     "output_type": "execute_result"
    }
   ],
   "source": [
    "lista = todas_notas[1]\n",
    "lista[0]"
   ]
  },
  {
   "cell_type": "code",
   "execution_count": 151,
   "id": "a696403b",
   "metadata": {},
   "outputs": [
    {
     "data": {
      "text/plain": [
       "4"
      ]
     },
     "execution_count": 151,
     "metadata": {},
     "output_type": "execute_result"
    }
   ],
   "source": [
    "todas_notas[1][0]"
   ]
  },
  {
   "cell_type": "code",
   "execution_count": 152,
   "id": "82d4c0a2",
   "metadata": {},
   "outputs": [],
   "source": [
    "notas_al1 = [4, 5, 6, 7]\n",
    "notas_al2 = [1, 3, 7, 9]\n",
    "notas_al3 = [5, 5, 5, 5]\n",
    "notas_al4 = [9, 9, 9, 10]"
   ]
  },
  {
   "cell_type": "code",
   "execution_count": 153,
   "id": "edd69875",
   "metadata": {},
   "outputs": [],
   "source": [
    "todas_notas = []\n",
    "todas_notas.append(notas_al1)\n",
    "todas_notas.append(notas_al2)\n",
    "todas_notas.append(notas_al3)\n",
    "todas_notas.append(notas_al4)"
   ]
  },
  {
   "cell_type": "code",
   "execution_count": 154,
   "id": "823ed3c5",
   "metadata": {},
   "outputs": [
    {
     "data": {
      "text/plain": [
       "[[4, 5, 6, 7], [1, 3, 7, 9], [5, 5, 5, 5], [9, 9, 9, 10]]"
      ]
     },
     "execution_count": 154,
     "metadata": {},
     "output_type": "execute_result"
    }
   ],
   "source": [
    "todas_notas"
   ]
  },
  {
   "cell_type": "code",
   "execution_count": 155,
   "id": "e82acfc6",
   "metadata": {},
   "outputs": [
    {
     "data": {
      "text/plain": [
       "7"
      ]
     },
     "execution_count": 155,
     "metadata": {},
     "output_type": "execute_result"
    }
   ],
   "source": [
    "todas_notas[1][2]"
   ]
  },
  {
   "cell_type": "code",
   "execution_count": 157,
   "id": "e249130a",
   "metadata": {},
   "outputs": [],
   "source": [
    "todas_notas = []\n",
    "todas_notas.append([4, 5, 6, 7])\n",
    "todas_notas.append([1, 3, 7, 9])\n",
    "todas_notas.append([5, 5, 5, 5])\n",
    "todas_notas.append([9, 9, 9, 10])"
   ]
  },
  {
   "cell_type": "code",
   "execution_count": 158,
   "id": "e3d798a2",
   "metadata": {},
   "outputs": [
    {
     "data": {
      "text/plain": [
       "[[4, 5, 6, 7], [1, 3, 7, 9], [5, 5, 5, 5], [9, 9, 9, 10]]"
      ]
     },
     "execution_count": 158,
     "metadata": {},
     "output_type": "execute_result"
    }
   ],
   "source": [
    "todas_notas"
   ]
  },
  {
   "cell_type": "code",
   "execution_count": 181,
   "id": "2128629b",
   "metadata": {},
   "outputs": [
    {
     "name": "stdout",
     "output_type": "stream",
     "text": [
      "Introduzca las notas de Pepe\n",
      "Nota Álgebra:3\n",
      "Nota Progra:3\n",
      "Nota Cálculo:3\n",
      "Nota Cristianismo:3\n",
      "[3, 3, 3, 3]\n",
      "Introduzca las notas de María\n",
      "Nota Álgebra:9\n",
      "Nota Progra:9\n",
      "Nota Cálculo:9\n",
      "Nota Cristianismo:9\n",
      "[9, 9, 9, 9]\n",
      "Introduzca las notas de Alejandro\n",
      "Nota Álgebra:5\n",
      "Nota Progra:5\n",
      "Nota Cálculo:5\n",
      "Nota Cristianismo:5\n",
      "[5, 5, 5, 5]\n",
      "Introduzca las notas de Belén\n",
      "Nota Álgebra:6\n",
      "Nota Progra:6\n",
      "Nota Cálculo:6\n",
      "Nota Cristianismo:6\n",
      "[6, 6, 6, 6]\n"
     ]
    }
   ],
   "source": [
    "\n"
   ]
  },
  {
   "cell_type": "code",
   "execution_count": 182,
   "id": "d15a83d6",
   "metadata": {},
   "outputs": [
    {
     "name": "stdout",
     "output_type": "stream",
     "text": [
      "Introduzca las notas de Pepe\n",
      "Nota Álgebra:5\n",
      "Nota Progra:5\n",
      "Nota Cálculo:5\n",
      "Nota Cristianismo:5\n",
      "Introduzca las notas de María\n",
      "Nota Álgebra:9\n",
      "Nota Progra:9\n",
      "Nota Cálculo:9\n",
      "Nota Cristianismo:9\n",
      "Introduzca las notas de Alejandro\n",
      "Nota Álgebra:8\n",
      "Nota Progra:8\n",
      "Nota Cálculo:8\n",
      "Nota Cristianismo:8\n",
      "Introduzca las notas de Belén\n",
      "Nota Álgebra:4\n",
      "Nota Progra:4\n",
      "Nota Cálculo:4\n",
      "Nota Cristianismo:4\n",
      "Pepe:\n",
      "===============\n",
      "  - Álgebra: 5\n",
      "  - Progra: 5\n",
      "  - Cálculo: 5\n",
      "  - Cristianismo: 5\n",
      "María:\n",
      "===============\n",
      "  - Álgebra: 9\n",
      "  - Progra: 9\n",
      "  - Cálculo: 9\n",
      "  - Cristianismo: 9\n",
      "Alejandro:\n",
      "===============\n",
      "  - Álgebra: 8\n",
      "  - Progra: 8\n",
      "  - Cálculo: 8\n",
      "  - Cristianismo: 8\n",
      "Belén:\n",
      "===============\n",
      "  - Álgebra: 4\n",
      "  - Progra: 4\n",
      "  - Cálculo: 4\n",
      "  - Cristianismo: 4\n"
     ]
    }
   ],
   "source": [
    "todas_notas = []\n",
    "nombres_alumnos = [\"Pepe\", \"María\", \"Alejandro\", \"Belén\"]\n",
    "nombres_asignaturas = [\"Álgebra\", \"Progra\", \"Cálculo\", \"Cristianismo\"]\n",
    "\n",
    "j = 0\n",
    "while j < len(nombres_alumnos):\n",
    "    print(f\"Introduzca las notas de {nombres_alumnos[j]}\")\n",
    "    nota = 0\n",
    "    notas = []\n",
    "    i = 0\n",
    "    while i < len(nombres_asignaturas):\n",
    "        nota = int(input(f\"Nota {nombres_asignaturas[i]}:\"))\n",
    "        notas.append(nota)\n",
    "        i += 1\n",
    "\n",
    "    todas_notas.append(notas)\n",
    "    j += 1\n",
    "\n",
    "i = 0   # i\n",
    "while i < len(todas_notas):\n",
    "    print(f\"{nombres_alumnos[i]}:\")\n",
    "    print(f\"===============\")\n",
    "    notas_alumno = todas_notas[i]\n",
    "    j = 0   # j\n",
    "    while j < len(notas_alumno):\n",
    "        print(f\"  - {nombres_asignaturas[j]}: {notas_alumno[j]}\")\n",
    "        j += 1\n",
    "    i += 1"
   ]
  },
  {
   "cell_type": "code",
   "execution_count": 183,
   "id": "d016152e",
   "metadata": {},
   "outputs": [
    {
     "name": "stdout",
     "output_type": "stream",
     "text": [
      "[5, 5, 5, 5]\n",
      "[9, 9, 9, 9]\n",
      "[8, 8, 8, 8]\n",
      "[4, 4, 4, 4]\n"
     ]
    }
   ],
   "source": [
    "for notas in todas_notas:\n",
    "    print(notas)"
   ]
  },
  {
   "cell_type": "code",
   "execution_count": 186,
   "id": "669b5fd8",
   "metadata": {},
   "outputs": [
    {
     "name": "stdout",
     "output_type": "stream",
     "text": [
      "[5, 5, 5, 5]\n",
      "[9, 9, 9, 9]\n",
      "[8, 8, 8, 8]\n",
      "[4, 4, 4, 4]\n"
     ]
    }
   ],
   "source": [
    "for i in range(len(todas_notas)):\n",
    "    print(todas_notas[i])"
   ]
  },
  {
   "cell_type": "code",
   "execution_count": null,
   "id": "7838f224",
   "metadata": {},
   "outputs": [],
   "source": []
  }
 ],
 "metadata": {
  "kernelspec": {
   "display_name": "Python 3 (ipykernel)",
   "language": "python",
   "name": "python3"
  },
  "language_info": {
   "codemirror_mode": {
    "name": "ipython",
    "version": 3
   },
   "file_extension": ".py",
   "mimetype": "text/x-python",
   "name": "python",
   "nbconvert_exporter": "python",
   "pygments_lexer": "ipython3",
   "version": "3.9.13"
  }
 },
 "nbformat": 4,
 "nbformat_minor": 5
}
