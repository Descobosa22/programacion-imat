{
 "cells": [
  {
   "cell_type": "code",
   "execution_count": 3,
   "id": "f03bff84",
   "metadata": {},
   "outputs": [],
   "source": [
    "lista = []\n",
    "lista = list()\n",
    "\n",
    "nombre = \"\"\n",
    "nombre = str()"
   ]
  },
  {
   "cell_type": "code",
   "execution_count": 1,
   "id": "37d01618",
   "metadata": {},
   "outputs": [],
   "source": [
    "personas = {}\n",
    "personas = dict()\n",
    "personas = {k:v, k:v}"
   ]
  },
  {
   "cell_type": "code",
   "execution_count": 2,
   "id": "a4345d29",
   "metadata": {},
   "outputs": [
    {
     "data": {
      "text/plain": [
       "dict"
      ]
     },
     "execution_count": 2,
     "metadata": {},
     "output_type": "execute_result"
    }
   ],
   "source": [
    "type(personas)"
   ]
  },
  {
   "cell_type": "code",
   "execution_count": 4,
   "id": "7fe7c075",
   "metadata": {},
   "outputs": [],
   "source": [
    "personas[\"Luis\"] = 22"
   ]
  },
  {
   "cell_type": "code",
   "execution_count": 5,
   "id": "56e7c262",
   "metadata": {},
   "outputs": [],
   "source": [
    "personas[\"Luis\"] = \"Ciudad Real\""
   ]
  },
  {
   "cell_type": "code",
   "execution_count": 6,
   "id": "97288496",
   "metadata": {},
   "outputs": [],
   "source": [
    "personas[\"Luis\"] = (\"Ciudad Real\", 22)"
   ]
  },
  {
   "cell_type": "code",
   "execution_count": 30,
   "id": "8695f5f4",
   "metadata": {},
   "outputs": [],
   "source": [
    "personas[\"Luis\"] = [\"Ciudad Real\", \"Madrid\", \"Barcelona\"]\n",
    "personas[\"Ana\"] = [\"NYC\", \"Paris\", \"Londres\"]"
   ]
  },
  {
   "cell_type": "code",
   "execution_count": 31,
   "id": "671131f1",
   "metadata": {},
   "outputs": [
    {
     "name": "stdout",
     "output_type": "stream",
     "text": [
      "Nombre: Ana\n",
      "['NYC', 'Paris', 'Londres']\n"
     ]
    }
   ],
   "source": [
    "nombre = input(\"Nombre: \")\n",
    "if nombre in personas:\n",
    "    print(personas[nombre])\n",
    "else:\n",
    "    print(f\"{nombre} no está en el dict\")"
   ]
  },
  {
   "cell_type": "code",
   "execution_count": null,
   "id": "d0f0bde1",
   "metadata": {},
   "outputs": [],
   "source": [
    "for x in personas.keys():\n",
    "    print(x)"
   ]
  },
  {
   "cell_type": "code",
   "execution_count": 35,
   "id": "3680e70b",
   "metadata": {},
   "outputs": [
    {
     "name": "stdout",
     "output_type": "stream",
     "text": [
      "['Ciudad Real', 'Madrid', 'Barcelona']\n",
      "['NYC', 'Paris', 'Londres']\n"
     ]
    }
   ],
   "source": [
    "for x in personas.values():\n",
    "    print(x)"
   ]
  },
  {
   "cell_type": "code",
   "execution_count": 39,
   "id": "39f49027",
   "metadata": {},
   "outputs": [
    {
     "name": "stdout",
     "output_type": "stream",
     "text": [
      "Luis -ha vistado-> ['Ciudad Real', 'Madrid', 'Barcelona']\n",
      "Ana -ha vistado-> ['NYC', 'Paris', 'Londres']\n"
     ]
    }
   ],
   "source": [
    "for nombre, ciudades in personas.items():\n",
    "    print(f\"{nombre} -ha vistado-> {ciudades}\")"
   ]
  },
  {
   "cell_type": "code",
   "execution_count": 44,
   "id": "1a810966",
   "metadata": {},
   "outputs": [
    {
     "name": "stdout",
     "output_type": "stream",
     "text": [
      "Luis ...> ['Ciudad Real', 'Madrid', 'Barcelona']\n",
      "Ana ...> ['NYC', 'Paris', 'Londres']\n"
     ]
    }
   ],
   "source": [
    "for nombre in personas.keys():\n",
    "    print(nombre, \"...>\", personas[nombre])"
   ]
  },
  {
   "cell_type": "code",
   "execution_count": 23,
   "id": "979e0ab8",
   "metadata": {},
   "outputs": [
    {
     "name": "stdout",
     "output_type": "stream",
     "text": [
      "Manuel no está en el dict\n"
     ]
    }
   ],
   "source": [
    "try:\n",
    "    print(personas[\"Manuel\"])\n",
    "except KeyError as error:\n",
    "    print(\"Manuel no está en el dict\")"
   ]
  },
  {
   "cell_type": "code",
   "execution_count": 16,
   "id": "6827e74c",
   "metadata": {},
   "outputs": [],
   "source": [
    "ciudades = personas[\"Luis\"]"
   ]
  },
  {
   "cell_type": "code",
   "execution_count": 18,
   "id": "5c9a2c76",
   "metadata": {},
   "outputs": [],
   "source": [
    "ciudad = ciudades[1]"
   ]
  },
  {
   "cell_type": "code",
   "execution_count": 19,
   "id": "5d253b7f",
   "metadata": {},
   "outputs": [
    {
     "data": {
      "text/plain": [
       "'MADRID'"
      ]
     },
     "execution_count": 19,
     "metadata": {},
     "output_type": "execute_result"
    }
   ],
   "source": [
    "ciudad.upper()"
   ]
  },
  {
   "cell_type": "code",
   "execution_count": 40,
   "id": "abcd5cbd",
   "metadata": {},
   "outputs": [],
   "source": [
    "x, y = (12, 34)"
   ]
  },
  {
   "cell_type": "code",
   "execution_count": 41,
   "id": "46501480",
   "metadata": {},
   "outputs": [
    {
     "data": {
      "text/plain": [
       "12"
      ]
     },
     "execution_count": 41,
     "metadata": {},
     "output_type": "execute_result"
    }
   ],
   "source": [
    "x"
   ]
  },
  {
   "cell_type": "code",
   "execution_count": 42,
   "id": "580cde31",
   "metadata": {},
   "outputs": [
    {
     "data": {
      "text/plain": [
       "34"
      ]
     },
     "execution_count": 42,
     "metadata": {},
     "output_type": "execute_result"
    }
   ],
   "source": [
    "y"
   ]
  },
  {
   "cell_type": "code",
   "execution_count": 47,
   "id": "a74188e3",
   "metadata": {},
   "outputs": [
    {
     "data": {
      "text/plain": [
       "23"
      ]
     },
     "execution_count": 47,
     "metadata": {},
     "output_type": "execute_result"
    }
   ],
   "source": [
    "personas_dict = {\"Luis\": 22, \"Ana\": 23}\n",
    "personas_dict[\"Ana\"]"
   ]
  },
  {
   "cell_type": "code",
   "execution_count": 48,
   "id": "36ced3c4",
   "metadata": {},
   "outputs": [
    {
     "name": "stdout",
     "output_type": "stream",
     "text": [
      "23\n"
     ]
    }
   ],
   "source": [
    "personas_listas = [(\"Luis\", 22), (\"Ana\", 23)]\n",
    "for persona in personas_listas:\n",
    "    #nombre, edad = persona\n",
    "    nombre = persona[0]\n",
    "    if nombre == \"Ana\":\n",
    "        edad = persona[1]\n",
    "        print(edad)"
   ]
  },
  {
   "cell_type": "code",
   "execution_count": null,
   "id": "a6cdd6ef",
   "metadata": {},
   "outputs": [],
   "source": []
  }
 ],
 "metadata": {
  "kernelspec": {
   "display_name": "Python 3 (ipykernel)",
   "language": "python",
   "name": "python3"
  },
  "language_info": {
   "codemirror_mode": {
    "name": "ipython",
    "version": 3
   },
   "file_extension": ".py",
   "mimetype": "text/x-python",
   "name": "python",
   "nbconvert_exporter": "python",
   "pygments_lexer": "ipython3",
   "version": "3.9.13"
  }
 },
 "nbformat": 4,
 "nbformat_minor": 5
}
