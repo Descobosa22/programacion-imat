{
 "cells": [
  {
   "cell_type": "code",
   "execution_count": 27,
   "id": "ced07cae",
   "metadata": {},
   "outputs": [],
   "source": [
    "# No hace falta saber lo del int\n",
    "# Lo que empieza por # no se ejeucta, son comentarios\n",
    "# edad = int(input(\"Dime tu edad\"))"
   ]
  },
  {
   "cell_type": "code",
   "execution_count": 28,
   "id": "99f8bb5c",
   "metadata": {},
   "outputs": [
    {
     "name": "stdout",
     "output_type": "stream",
     "text": [
      "Eres un bebe\n"
     ]
    }
   ],
   "source": [
    "edad = 1\n",
    "if edad > 17:\n",
    "    print(\"Eres mayor de edad\")\n",
    "else:\n",
    "    if edad > 2:\n",
    "        print(\"Menor de edad\")\n",
    "    else:\n",
    "        print(\"Eres un bebe\")"
   ]
  },
  {
   "cell_type": "code",
   "execution_count": 30,
   "id": "afb5f6e6",
   "metadata": {},
   "outputs": [
    {
     "name": "stdout",
     "output_type": "stream",
     "text": [
      "dime tu nombre: \n",
      "Hola  !\n"
     ]
    }
   ],
   "source": [
    "nombre = input(\"dime tu nombre: \")\n",
    "print(\"Hola\", nombre, \"!\")"
   ]
  },
  {
   "cell_type": "code",
   "execution_count": 31,
   "id": "74b8135a",
   "metadata": {},
   "outputs": [
    {
     "name": "stdout",
     "output_type": "stream",
     "text": [
      "11\n"
     ]
    }
   ],
   "source": [
    "edad = 10\n",
    "edad = edad + 1\n",
    "print(edad)"
   ]
  },
  {
   "cell_type": "code",
   "execution_count": 32,
   "id": "0bac3bab",
   "metadata": {},
   "outputs": [
    {
     "name": "stdout",
     "output_type": "stream",
     "text": [
      "1\n",
      "2\n",
      "3\n",
      "4\n",
      "5\n",
      "6\n",
      "7\n",
      "8\n",
      "9\n",
      "10\n"
     ]
    }
   ],
   "source": [
    "contador = 1\n",
    "while contador < 11:\n",
    "    print(contador)\n",
    "    contador = contador + 1"
   ]
  },
  {
   "cell_type": "code",
   "execution_count": 33,
   "id": "4813ab8c",
   "metadata": {},
   "outputs": [
    {
     "name": "stdout",
     "output_type": "stream",
     "text": [
      "1\n",
      "3\n",
      "5\n",
      "7\n",
      "9\n"
     ]
    }
   ],
   "source": [
    "contador = 1\n",
    "while contador < 11:\n",
    "    print(contador)\n",
    "    contador = contador + 2"
   ]
  },
  {
   "cell_type": "code",
   "execution_count": 24,
   "id": "54ba0560",
   "metadata": {},
   "outputs": [
    {
     "name": "stdout",
     "output_type": "stream",
     "text": [
      "3 es dividible entre 3\n",
      "6 es dividible entre 3\n",
      "9 es dividible entre 3\n",
      "12 es dividible entre 3\n",
      "15 es dividible entre 3\n",
      "18 es dividible entre 3\n"
     ]
    }
   ],
   "source": [
    "contador = 1\n",
    "while contador < 20:\n",
    "    if contador%3 == 0:\n",
    "        print(contador, \"es dividible entre 3\")\n",
    "    contador = contador + 1"
   ]
  },
  {
   "cell_type": "code",
   "execution_count": 25,
   "id": "67511071",
   "metadata": {},
   "outputs": [
    {
     "name": "stdout",
     "output_type": "stream",
     "text": [
      "Capital de Españaasasa\n",
      "Capital de Españasdsdsd\n",
      "Capital de Españaewewew\n",
      "Capital de EspañaMAdrid\n",
      "Capital de EspañaMadrid\n",
      "enhorabuena\n"
     ]
    }
   ],
   "source": [
    "capital = input(\"Capital de España\")\n",
    "while capital != \"Madrid\":\n",
    "    capital = input(\"Capital de España\")\n",
    "\n",
    "print(\"enhorabuena\")"
   ]
  }
 ],
 "metadata": {
  "kernelspec": {
   "display_name": "Python 3 (ipykernel)",
   "language": "python",
   "name": "python3"
  },
  "language_info": {
   "codemirror_mode": {
    "name": "ipython",
    "version": 3
   },
   "file_extension": ".py",
   "mimetype": "text/x-python",
   "name": "python",
   "nbconvert_exporter": "python",
   "pygments_lexer": "ipython3",
   "version": "3.9.13"
  }
 },
 "nbformat": 4,
 "nbformat_minor": 5
}
