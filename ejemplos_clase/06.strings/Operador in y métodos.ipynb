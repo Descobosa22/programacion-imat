{
 "cells": [
  {
   "cell_type": "markdown",
   "id": "8861d046",
   "metadata": {},
   "source": [
    "## Recorrer una cadena con while"
   ]
  },
  {
   "cell_type": "code",
   "execution_count": 11,
   "id": "628d8119",
   "metadata": {},
   "outputs": [
    {
     "name": "stdout",
     "output_type": "stream",
     "text": [
      "hola"
     ]
    }
   ],
   "source": [
    "cadena = \"hola\"\n",
    "i = 0\n",
    "while i < len(cadena):\n",
    "    print(cadena[i], end = \"\")\n",
    "    i += 1"
   ]
  },
  {
   "cell_type": "markdown",
   "id": "c8ee7068",
   "metadata": {},
   "source": [
    "## Recorrer una cadena con for"
   ]
  },
  {
   "cell_type": "code",
   "execution_count": 12,
   "id": "8d648f61",
   "metadata": {},
   "outputs": [
    {
     "name": "stdout",
     "output_type": "stream",
     "text": [
      "hola"
     ]
    }
   ],
   "source": [
    "cadena = \"hola\"\n",
    "for c in cadena:\n",
    "    print(c, end = \"\")"
   ]
  },
  {
   "cell_type": "markdown",
   "id": "b4996ac5",
   "metadata": {},
   "source": [
    "## Búsqueda con while"
   ]
  },
  {
   "cell_type": "code",
   "execution_count": 13,
   "id": "7b49ca45",
   "metadata": {},
   "outputs": [
    {
     "name": "stdout",
     "output_type": "stream",
     "text": [
      "Hay alguna \"a\"\n"
     ]
    }
   ],
   "source": [
    "cadena = \"hola\"\n",
    "i = 0\n",
    "hay_a = False\n",
    "while i < len(cadena) and not hay_a:\n",
    "    if cadena[i] == \"a\":\n",
    "        hay_a = True\n",
    "    i += 1\n",
    "\n",
    "if hay_a:\n",
    "    print(\"Hay alguna \\\"a\\\"\")"
   ]
  },
  {
   "cell_type": "markdown",
   "id": "b8cf147a",
   "metadata": {},
   "source": [
    "## Búsqueda con operador in"
   ]
  },
  {
   "cell_type": "code",
   "execution_count": 14,
   "id": "587de093",
   "metadata": {},
   "outputs": [
    {
     "name": "stdout",
     "output_type": "stream",
     "text": [
      "Hay alguna \"a\"\n"
     ]
    }
   ],
   "source": [
    "cadena = \"hola\"\n",
    "if \"a\" in cadena:\n",
    "    print(\"Hay alguna \\\"a\\\"\")"
   ]
  },
  {
   "cell_type": "markdown",
   "id": "f0b39bfd",
   "metadata": {},
   "source": [
    "## Métodos de string"
   ]
  },
  {
   "cell_type": "code",
   "execution_count": 18,
   "id": "d8d4d997",
   "metadata": {},
   "outputs": [
    {
     "data": {
      "text/plain": [
       "1"
      ]
     },
     "execution_count": 18,
     "metadata": {},
     "output_type": "execute_result"
    }
   ],
   "source": [
    "cuenta = cadena.count(\"a\")\n",
    "cuenta"
   ]
  },
  {
   "cell_type": "code",
   "execution_count": 19,
   "id": "0861dc73",
   "metadata": {},
   "outputs": [
    {
     "data": {
      "text/plain": [
       "'a'"
      ]
     },
     "execution_count": 19,
     "metadata": {},
     "output_type": "execute_result"
    }
   ],
   "source": [
    "posicion = cadena.find(\"a\")\n",
    "cadena[posicion]"
   ]
  },
  {
   "cell_type": "code",
   "execution_count": 24,
   "id": "ad8a5685",
   "metadata": {},
   "outputs": [
    {
     "data": {
      "text/plain": [
       "False"
      ]
     },
     "execution_count": 24,
     "metadata": {},
     "output_type": "execute_result"
    }
   ],
   "source": [
    "cadena.isdecimal()"
   ]
  },
  {
   "cell_type": "code",
   "execution_count": 23,
   "id": "4ecbd289",
   "metadata": {},
   "outputs": [
    {
     "data": {
      "text/plain": [
       "True"
      ]
     },
     "execution_count": 23,
     "metadata": {},
     "output_type": "execute_result"
    }
   ],
   "source": [
    "cadena.startswith(\"h\")"
   ]
  },
  {
   "cell_type": "code",
   "execution_count": 22,
   "id": "ff0e05d9",
   "metadata": {},
   "outputs": [
    {
     "data": {
      "text/plain": [
       "False"
      ]
     },
     "execution_count": 22,
     "metadata": {},
     "output_type": "execute_result"
    }
   ],
   "source": [
    "cadena.endswith(\"A\")"
   ]
  },
  {
   "cell_type": "code",
   "execution_count": 26,
   "id": "2b5e6992",
   "metadata": {},
   "outputs": [
    {
     "data": {
      "text/plain": [
       "'hola'"
      ]
     },
     "execution_count": 26,
     "metadata": {},
     "output_type": "execute_result"
    }
   ],
   "source": [
    "cadena = \"  hola  \"\n",
    "cadena.strip()"
   ]
  },
  {
   "cell_type": "code",
   "execution_count": null,
   "id": "02247a03",
   "metadata": {},
   "outputs": [],
   "source": []
  }
 ],
 "metadata": {
  "kernelspec": {
   "display_name": "Python 3 (ipykernel)",
   "language": "python",
   "name": "python3"
  },
  "language_info": {
   "codemirror_mode": {
    "name": "ipython",
    "version": 3
   },
   "file_extension": ".py",
   "mimetype": "text/x-python",
   "name": "python",
   "nbconvert_exporter": "python",
   "pygments_lexer": "ipython3",
   "version": "3.9.13"
  }
 },
 "nbformat": 4,
 "nbformat_minor": 5
}
