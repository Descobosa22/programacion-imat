{
 "cells": [
  {
   "cell_type": "markdown",
   "id": "e877f45a",
   "metadata": {},
   "source": [
    "### Primera iteración"
   ]
  },
  {
   "cell_type": "code",
   "execution_count": 6,
   "id": "54c4924b",
   "metadata": {},
   "outputs": [
    {
     "name": "stdout",
     "output_type": "stream",
     "text": [
      "b:1,a:3,c:2,a:3,c:2,a:3,"
     ]
    }
   ],
   "source": [
    "cadena = \"bacaca\"\n",
    "for c in cadena:\n",
    "    print(f\"{c}:{cadena.count(c)},\", end = \"\")"
   ]
  },
  {
   "cell_type": "markdown",
   "id": "5f81d204",
   "metadata": {},
   "source": [
    "### Segunda iteración"
   ]
  },
  {
   "cell_type": "code",
   "execution_count": 7,
   "id": "d7032142",
   "metadata": {},
   "outputs": [
    {
     "name": "stdout",
     "output_type": "stream",
     "text": [
      "b:1,a:3,c:2,\n"
     ]
    }
   ],
   "source": [
    "cadena = \"bacaca\"\n",
    "output = \"\"\n",
    "for c in cadena:\n",
    "    if c not in output:\n",
    "        output += f\"{c}:{cadena.count(c)},\"\n",
    "        \n",
    "print(output)"
   ]
  },
  {
   "cell_type": "markdown",
   "id": "b660b7c6",
   "metadata": {},
   "source": [
    "### Tercera iteración\n",
    "\n",
    "Ejemplo de cómo al final llegamos a un punto en el que no existe el método que resuelva el problema."
   ]
  },
  {
   "cell_type": "code",
   "execution_count": 13,
   "id": "78079e31",
   "metadata": {},
   "outputs": [
    {
     "name": "stdout",
     "output_type": "stream",
     "text": [
      "a:3,c:2,b:1,\n"
     ]
    }
   ],
   "source": [
    "cadena = \"bacaca\"\n",
    "output = \"\"\n",
    "for c in cadena:\n",
    "    # Repetición\n",
    "    if c not in output:\n",
    "        # Ordenación\n",
    "        k = 0\n",
    "        pos_final = 0\n",
    "        cuenta = cadena.count(c) # Frecuencia\n",
    "        while k < len(output):\n",
    "            num1 = int(output[k+2])\n",
    "            if cuenta > num1:\n",
    "                pos_final = k\n",
    "                k = len(output)\n",
    "            else:\n",
    "                k += 4\n",
    "                pos_final = k\n",
    "\n",
    "        output = output[:pos_final] + f\"{c}:{cuenta},\" + output[pos_final:]\n",
    "        \n",
    "print(output)"
   ]
  }
 ],
 "metadata": {
  "kernelspec": {
   "display_name": "Python 3 (ipykernel)",
   "language": "python",
   "name": "python3"
  },
  "language_info": {
   "codemirror_mode": {
    "name": "ipython",
    "version": 3
   },
   "file_extension": ".py",
   "mimetype": "text/x-python",
   "name": "python",
   "nbconvert_exporter": "python",
   "pygments_lexer": "ipython3",
   "version": "3.9.13"
  }
 },
 "nbformat": 4,
 "nbformat_minor": 5
}
