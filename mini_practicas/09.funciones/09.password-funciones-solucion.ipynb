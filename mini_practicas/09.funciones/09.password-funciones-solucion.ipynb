{
 "cells": [
  {
   "cell_type": "markdown",
   "id": "eea97f3c",
   "metadata": {},
   "source": [
    "# Mini-práctica Funciones\n",
    "## Solución\n",
    "\n",
    "## Enunciado\n",
    "\n",
    "Desarrollar un programa basado en funciones y en las estructuras de datos vistas en clasepara automatizar al máximo posible el siguiente programa que se suministra.\n",
    "\n",
    "En primer lugar se modularizará el código en dos funciones:\n",
    "- **generar_passwd**: generará una contraseña a partir del número de letras, números y caracteres especiales recibidos como parámteros. Por defecto, el número de estos elementos será: 4 letras, 2 números y 2 caracteres.\n",
    "- **aleatorizar_passwd**: cambiará el orden de la contraseña creada.\n",
    "\n",
    "## Código inicial\n",
    "\n",
    "```python\n",
    "import random\n",
    "\n",
    "letras = \"abcdefghijklmnopqrstuvwxyz\"\n",
    "numero = \"1234567890\"\n",
    "caracteres = \"·$%&/()=\"\n",
    "\n",
    "num_letras = 4\n",
    "num_numero = 2\n",
    "num_caracteres = 2\n",
    "\n",
    "passwd = \"\"\n",
    "\n",
    "contador = 0\n",
    "while contador < num_letras:\n",
    "    posicion = random.randint(0, len(letras)-1)\n",
    "    passwd += letras[posicion]\n",
    "    contador += 1\n",
    "\n",
    "contador = 0\n",
    "while contador < num_numero:\n",
    "    posicion = random.randint(0, len(numero)-1)\n",
    "    passwd += numero[posicion]\n",
    "    contador += 1\n",
    "    \n",
    "contador = 0\n",
    "while contador < num_caracteres:\n",
    "    posicion = random.randint(0, len(caracteres)-1)\n",
    "    passwd += caracteres[posicion]\n",
    "    contador += 1\n",
    "\n",
    "passwd_aleatoria = \"\"\n",
    "\n",
    "contador = 0\n",
    "longitud = len(passwd)\n",
    "while contador < longitud:\n",
    "    posicion = random.randint(0, len(passwd)-1)\n",
    "    passwd_aleatoria += passwd[posicion]\n",
    "    passwd = passwd[:posicion] + passwd[posicion+1:]\n",
    "    contador += 1\n",
    "\n",
    "print(\"Contraseña generada:\", passwd_aleatoria)\n",
    "```\n",
    "\n",
    "\n",
    "## Salida \n",
    "\n",
    "### Ejecución 1:\n",
    "\n",
    "El programa desarrollado deberá responder a estas instrucciones:\n",
    "\n",
    "```python\n",
    "passwd = generar_passwd()\n",
    "print(\"Passwword generada:\", passwd)\n",
    "\n",
    "passwd_aleatoria = aleatorizar_passwd(passwd)\n",
    "print(\"Password aleatoria:\", passwd_aleatoria)\n",
    "```\n",
    "\n",
    "```\n",
    "Passwword generada: cwlh22&(\n",
    "Password aleatoria: l&2(c2hw\n",
    "```\n",
    "### Ejecución 2:\n",
    "\n",
    "El programa desarrollado deberá responder a estas instrucciones:\n",
    "\n",
    "```python\n",
    "passwd = generar_passwd(10, 0, 0)\n",
    "print(\"Passwword generada:\", passwd)\n",
    "passwd_aleatoria = aleatorizar_passwd(passwd)\n",
    "print(\"Password aleatoria:\", passwd_aleatoria)\n",
    "```\n",
    "\n",
    "```\n",
    "Passwword generada: ottqsvfple\n",
    "Password aleatoria: tptfqevlos\n",
    "```"
   ]
  },
  {
   "cell_type": "markdown",
   "id": "4768d583",
   "metadata": {},
   "source": [
    "## Solución"
   ]
  },
  {
   "cell_type": "code",
   "execution_count": 7,
   "id": "6742f672",
   "metadata": {},
   "outputs": [],
   "source": [
    "import random\n",
    "\n",
    "def generar_passwd(numero_letras = 4, numero_numeros = 2, numero_caracteres = 2):\n",
    "\n",
    "    passwd = \"\"\n",
    "\n",
    "    dict_alfabeto = {\n",
    "                    \"letras\" : \"abcdefghijklmnopqrstuvwxyz\",\n",
    "                    \"numeros\" : \"1234567890\",\n",
    "                    \"caracteres\" : \"·$%&/()=\"\n",
    "                    }\n",
    "    \n",
    "    dict_numeros = {\n",
    "                    \"numero_letras\" : numero_letras, \n",
    "                    \"numero_numeros\" : numero_numeros, \n",
    "                    \"numero_caracteres\" : numero_caracteres\n",
    "                    }\n",
    "    \n",
    "    for k, v in dict_alfabeto.items():\n",
    "        numero_max_elementos = dict_numeros[\"numero_\" + k]\n",
    "        for numero in range(numero_max_elementos):\n",
    "            posicion = random.randint(0, len(v)-1)\n",
    "            passwd += v[posicion]\n",
    "            \n",
    "    return passwd\n",
    "\n",
    "def aleatorizar_passwd(passwd):\n",
    "    passwd_aleatoria = \"\"\n",
    "\n",
    "    contador = 0\n",
    "    longitud = len(passwd)\n",
    "    while contador < longitud:\n",
    "        posicion = random.randint(0, len(passwd)-1)\n",
    "        passwd_aleatoria += passwd[posicion]\n",
    "        passwd = passwd[:posicion] + passwd[posicion+1:]\n",
    "        contador += 1\n",
    "        \n",
    "    return passwd_aleatoria"
   ]
  },
  {
   "cell_type": "code",
   "execution_count": 8,
   "id": "a0b3b634",
   "metadata": {},
   "outputs": [
    {
     "name": "stdout",
     "output_type": "stream",
     "text": [
      "Passwword generada: eskv33/%\n",
      "Password aleatoria: 3/e%k3sv\n"
     ]
    }
   ],
   "source": [
    "passwd = generar_passwd()\n",
    "print(\"Passwword generada:\", passwd)\n",
    "\n",
    "passwd_aleatoria = aleatorizar_passwd(passwd)\n",
    "print(\"Password aleatoria:\", passwd_aleatoria)"
   ]
  },
  {
   "cell_type": "code",
   "execution_count": 9,
   "id": "bf68bbe5",
   "metadata": {},
   "outputs": [
    {
     "name": "stdout",
     "output_type": "stream",
     "text": [
      "Passwword generada: krjprnxidp\n",
      "Password aleatoria: knxprrpdij\n"
     ]
    }
   ],
   "source": [
    "passwd = generar_passwd(10, 0, 0)\n",
    "print(\"Passwword generada:\", passwd)\n",
    "\n",
    "passwd_aleatoria = aleatorizar_passwd(passwd)\n",
    "print(\"Password aleatoria:\", passwd_aleatoria)"
   ]
  }
 ],
 "metadata": {
  "kernelspec": {
   "display_name": "Python 3 (ipykernel)",
   "language": "python",
   "name": "python3"
  },
  "language_info": {
   "codemirror_mode": {
    "name": "ipython",
    "version": 3
   },
   "file_extension": ".py",
   "mimetype": "text/x-python",
   "name": "python",
   "nbconvert_exporter": "python",
   "pygments_lexer": "ipython3",
   "version": "3.9.13"
  }
 },
 "nbformat": 4,
 "nbformat_minor": 5
}
