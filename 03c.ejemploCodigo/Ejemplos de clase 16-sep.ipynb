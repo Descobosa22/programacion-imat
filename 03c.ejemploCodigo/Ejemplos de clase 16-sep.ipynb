{
 "cells": [
  {
   "cell_type": "code",
   "execution_count": 23,
   "id": "c9be62a7",
   "metadata": {},
   "outputs": [
    {
     "name": "stdout",
     "output_type": "stream",
     "text": [
      "12 es menor que 23\n"
     ]
    }
   ],
   "source": [
    "# Definir las variables. Inicialización\n",
    "\n",
    "\n",
    "\"\"\"\n",
    "Estos son\n",
    "comnetarios\n",
    "multilínea\n",
    "\"\"\"\n",
    "\n",
    "numero_1 = 2\n",
    "numero_2 = 3\n",
    "\n",
    "temperatura_introducida = 12\n",
    "temperatura_control = 23\n",
    "\n",
    "# == compara igualdades != deintinos  >= dss fds <= menor igual\n",
    "if temperatura_introducida == temperatura_control:\n",
    "    print(temperatura_introducida, \"es igual a\", temperatura_control)\n",
    "else:\n",
    "    if temperatura_introducida > temperatura_control:\n",
    "        print(temperatura_introducida, \"es mayor que\", temperatura_control)    \n",
    "    else:\n",
    "        print(temperatura_introducida, \"es menor que\", temperatura_control)\n"
   ]
  },
  {
   "cell_type": "code",
   "execution_count": 31,
   "id": "8c7ed60d",
   "metadata": {},
   "outputs": [
    {
     "name": "stdout",
     "output_type": "stream",
     "text": [
      "2\n",
      "4\n",
      "6\n",
      "8\n",
      "10\n"
     ]
    }
   ],
   "source": [
    "numero = 1\n",
    "while numero < 11:\n",
    "    if numero % 2 == 0:\n",
    "        print(numero)  \n",
    "\n",
    "        numero = numero + 1"
   ]
  },
  {
   "cell_type": "code",
   "execution_count": 37,
   "id": "61a44f41",
   "metadata": {},
   "outputs": [
    {
     "data": {
      "text/plain": [
       "'\\n*\\n**\\n***\\n****\\n'"
      ]
     },
     "execution_count": 37,
     "metadata": {},
     "output_type": "execute_result"
    }
   ],
   "source": [
    "\"\"\"\n",
    "*\n",
    "**\n",
    "***\n",
    "****\n",
    "\"\"\"\n"
   ]
  },
  {
   "cell_type": "code",
   "execution_count": 51,
   "id": "50bbd269",
   "metadata": {},
   "outputs": [
    {
     "name": "stdout",
     "output_type": "stream",
     "text": [
      "*\n",
      "**\n",
      "***\n",
      "****\n",
      "*****\n",
      "******\n",
      "*******\n",
      "********\n",
      "*********\n",
      "**********\n",
      "***********\n",
      "************\n",
      "*************\n",
      "**************\n",
      "***************\n",
      "****************\n",
      "*****************\n",
      "******************\n",
      "*******************\n"
     ]
    }
   ],
   "source": [
    "alto = 1\n",
    "altura_maxima = 20\n",
    "while alto < altura_maxima:\n",
    "    ancho = 1\n",
    "    while ancho <= alto:\n",
    "        print(\"*\", end = \"\")\n",
    "        ancho = ancho + 1\n",
    "    print(\"\")\n",
    "    alto = alto + 1"
   ]
  },
  {
   "cell_type": "code",
   "execution_count": 44,
   "id": "46e5bab9",
   "metadata": {},
   "outputs": [
    {
     "name": "stdout",
     "output_type": "stream",
     "text": [
      "**\n"
     ]
    }
   ],
   "source": [
    "print(\"*\", end = \"\")\n",
    "print(\"*\")"
   ]
  },
  {
   "cell_type": "code",
   "execution_count": null,
   "id": "d8d21467",
   "metadata": {},
   "outputs": [],
   "source": []
  }
 ],
 "metadata": {
  "kernelspec": {
   "display_name": "Python 3 (ipykernel)",
   "language": "python",
   "name": "python3"
  },
  "language_info": {
   "codemirror_mode": {
    "name": "ipython",
    "version": 3
   },
   "file_extension": ".py",
   "mimetype": "text/x-python",
   "name": "python",
   "nbconvert_exporter": "python",
   "pygments_lexer": "ipython3",
   "version": "3.9.12"
  }
 },
 "nbformat": 4,
 "nbformat_minor": 5
}
