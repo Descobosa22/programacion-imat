{
 "cells": [
  {
   "cell_type": "code",
   "execution_count": null,
   "id": "f3d13d47",
   "metadata": {},
   "outputs": [],
   "source": [
    "# Definir las variables. Inicialización\n",
    "\n",
    "\n",
    "\"\"\"\n",
    "Estos son\n",
    "comnetarios\n",
    "multilínea\n",
    "\"\"\"\n",
    "\n",
    "numero_1 = 2\n",
    "numero_2 = 3\n"
   ]
  }
 ],
 "metadata": {
  "kernelspec": {
   "display_name": "Python 3 (ipykernel)",
   "language": "python",
   "name": "python3"
  },
  "language_info": {
   "codemirror_mode": {
    "name": "ipython",
    "version": 3
   },
   "file_extension": ".py",
   "mimetype": "text/x-python",
   "name": "python",
   "nbconvert_exporter": "python",
   "pygments_lexer": "ipython3",
   "version": "3.9.12"
  }
 },
 "nbformat": 4,
 "nbformat_minor": 5
}
